{
 "cells": [
  {
   "cell_type": "code",
   "execution_count": 13,
   "metadata": {},
   "outputs": [],
   "source": [
    "from bqplot import pyplot as plt\n",
    "import ipywidgets as widgets\n",
    "import numpy as np"
   ]
  },
  {
   "cell_type": "markdown",
   "metadata": {},
   "source": [
    "## Interaktives Dashboard\n",
    "\n",
    "Es wird ein interaktives Dashboard mit IPyWidgets gebaut. Für die Webapplikation wird Voila oder die Dashboard View von Jupyter verwendet.\n",
    "\n",
    "Das Datenset kommt von Kaggle und beinhaltet ein Retail Verkauf mit mehreren Verkausstellen, sowie Assortments und geht über mehrere Jahre. Zielgruppe ist Heads und Manager die eine schnelle Übersicht über die Sales der verschiedenen Verkaufsstellen möchten.\n",
    "\n",
    "Unten wurde bereits schon mit Beispielen versucht sich in das Thema einzuarbeiten."
   ]
  },
  {
   "cell_type": "code",
   "execution_count": 14,
   "metadata": {},
   "outputs": [],
   "source": [
    "n = 2000\n",
    "x = np.linspace(0.0, 10.0, n)\n",
    "np.random.seed(0)\n",
    "y = np.cumsum(np.random.randn(n)*10).astype(int)"
   ]
  },
  {
   "cell_type": "code",
   "execution_count": 15,
   "metadata": {},
   "outputs": [
    {
     "data": {
      "application/vnd.jupyter.widget-view+json": {
       "model_id": "2a833af533bb4ca0a8d581395de88c51",
       "version_major": 2,
       "version_minor": 0
      },
      "text/plain": [
       "Figure(axes=[Axis(orientation='vertical', scale=LinearScale()), Axis(scale=LinearScale())], fig_margin={'top':…"
      ]
     },
     "metadata": {},
     "output_type": "display_data"
    }
   ],
   "source": [
    "fig_hist = plt.figure(title='Histogram')\n",
    "hist = plt.hist(y, bins=25)\n",
    "fig_hist"
   ]
  },
  {
   "cell_type": "code",
   "execution_count": 16,
   "metadata": {},
   "outputs": [],
   "source": [
    "hist.bins = 50"
   ]
  },
  {
   "cell_type": "code",
   "execution_count": 17,
   "metadata": {},
   "outputs": [
    {
     "data": {
      "application/vnd.jupyter.widget-view+json": {
       "model_id": "3a5deb9d231047f0bcbabc8c32f45bc7",
       "version_major": 2,
       "version_minor": 0
      },
      "text/plain": [
       "IntSlider(value=1, min=1)"
      ]
     },
     "metadata": {},
     "output_type": "display_data"
    }
   ],
   "source": [
    "slider = widgets.IntSlider(min=1, max=100, v_model=30)\n",
    "slider"
   ]
  },
  {
   "cell_type": "code",
   "execution_count": 18,
   "metadata": {},
   "outputs": [],
   "source": [
    "slider.value = 40"
   ]
  },
  {
   "cell_type": "code",
   "execution_count": 19,
   "metadata": {},
   "outputs": [],
   "source": [
    "widgets.link((hist,'bins'), (slider, 'value'));"
   ]
  },
  {
   "cell_type": "code",
   "execution_count": 20,
   "metadata": {},
   "outputs": [
    {
     "data": {
      "application/vnd.jupyter.widget-view+json": {
       "model_id": "4aa9c04e23534c55a97234187670f670",
       "version_major": 2,
       "version_minor": 0
      },
      "text/plain": [
       "Figure(axes=[Axis(scale=LinearScale()), Axis(orientation='vertical', scale=LinearScale())], fig_margin={'top':…"
      ]
     },
     "metadata": {},
     "output_type": "display_data"
    }
   ],
   "source": [
    "fig_lines = plt.figure(title='Line Chart')\n",
    "lines = plt.plot(x, y)\n",
    "fig_lines"
   ]
  },
  {
   "cell_type": "code",
   "execution_count": 21,
   "metadata": {},
   "outputs": [],
   "source": [
    "selector= plt.brush_int_selector()\n",
    "\n",
    "def update_range(*ignore):\n",
    "    if selector.selected is not None and len(selector.selected) == 2:\n",
    "        xmin, xmax = selector.selected\n",
    "        mask = (x > xmin) & (x < xmax)\n",
    "        hist.sample = y[mask]\n",
    "        \n",
    "selector.observe(update_range, 'selected')"
   ]
  },
  {
   "cell_type": "code",
   "execution_count": 22,
   "metadata": {},
   "outputs": [],
   "source": [
    "import glue_jupyter as gj"
   ]
  },
  {
   "cell_type": "code",
   "execution_count": 23,
   "metadata": {},
   "outputs": [],
   "source": [
    "data = gj.example_data_xyz()\n",
    "app = gj.jglue(data=data)"
   ]
  },
  {
   "cell_type": "code",
   "execution_count": 24,
   "metadata": {},
   "outputs": [
    {
     "data": {
      "application/vnd.jupyter.widget-view+json": {
       "model_id": "51b42484236d468d953c957675f6a27b",
       "version_major": 2,
       "version_minor": 0
      },
      "text/plain": [
       "Html(children=[Toolbar(children=[ToolbarItems(children=[BasicJupyterToolbar(children=[Tooltip(bottom=True, chi…"
      ]
     },
     "metadata": {},
     "output_type": "display_data"
    }
   ],
   "source": [
    "app.histogram1d();"
   ]
  },
  {
   "cell_type": "code",
   "execution_count": null,
   "metadata": {},
   "outputs": [],
   "source": []
  }
 ],
 "metadata": {
  "kernelspec": {
   "display_name": "Python 3",
   "language": "python",
   "name": "python3"
  },
  "language_info": {
   "codemirror_mode": {
    "name": "ipython",
    "version": 3
   },
   "file_extension": ".py",
   "mimetype": "text/x-python",
   "name": "python",
   "nbconvert_exporter": "python",
   "pygments_lexer": "ipython3",
   "version": "3.7.6"
  },
  "toc": {
   "base_numbering": 1,
   "nav_menu": {},
   "number_sections": false,
   "sideBar": false,
   "skip_h1_title": false,
   "title_cell": "Table of Contents",
   "title_sidebar": "Contents",
   "toc_cell": false,
   "toc_position": {},
   "toc_section_display": false,
   "toc_window_display": false
  },
  "widgets": {
   "application/vnd.jupyter.widget-state+json": {
    "state": {
     "004513ced50143bd8c19398006a83571": {
      "model_module": "@jupyter-widgets/base",
      "model_module_version": "1.2.0",
      "model_name": "LayoutModel",
      "state": {}
     },
     "0092e8ffa80f4a57858f679e7bd2be89": {
      "model_module": "@jupyter-widgets/controls",
      "model_module_version": "1.5.0",
      "model_name": "DescriptionStyleModel",
      "state": {
       "description_width": ""
      }
     },
     "00e2f46e40ca428db0f87d71c554e327": {
      "model_module": "@jupyter-widgets/base",
      "model_module_version": "1.2.0",
      "model_name": "LayoutModel",
      "state": {}
     },
     "02c0809510a5447c8983d943223ef24c": {
      "model_module": "bqplot",
      "model_module_version": "^0.5.3",
      "model_name": "LinearScaleModel",
      "state": {
       "allow_padding": false,
       "max": 1,
       "min": 0,
       "stabilized": false
      }
     },
     "0381d042e5be421590f45c15b82a6825": {
      "model_module": "bqplot",
      "model_module_version": "^0.5.3",
      "model_name": "LinearScaleModel",
      "state": {
       "allow_padding": false,
       "max": 1,
       "min": 0,
       "stabilized": false
      }
     },
     "03871a2f46864f4cb7ad5dd9217ffec1": {
      "model_module": "@jupyter-widgets/base",
      "model_module_version": "1.2.0",
      "model_name": "LayoutModel",
      "state": {}
     },
     "03c925b405de48ebbf89595ff140af01": {
      "model_module": "@jupyter-widgets/base",
      "model_module_version": "1.2.0",
      "model_name": "LayoutModel",
      "state": {}
     },
     "03d7cce6e1b446d29c28179900eb7bdf": {
      "model_module": "@jupyter-widgets/base",
      "model_module_version": "1.2.0",
      "model_name": "LayoutModel",
      "state": {}
     },
     "0415c33aab06483bbe5bbd972cd3ea40": {
      "model_module": "@jupyter-widgets/base",
      "model_module_version": "1.2.0",
      "model_name": "LayoutModel",
      "state": {}
     },
     "05b4ffda0efe42af9b5bbe7f0d0ea03d": {
      "model_module": "jupyter-vuetify",
      "model_module_version": "^1.1.1",
      "model_name": "TooltipModel",
      "state": {
       "_events": [],
       "_jupyter_vue": "IPY_MODEL_5d592719b6fc465d9656990e27f1b30c",
       "attributes": {},
       "bottom": true,
       "children": [
        "Interactively pan and zoom around"
       ],
       "close_delay": null,
       "layout": "IPY_MODEL_d1b306b2f4d34f93973be0c20928dbf0",
       "max_width": null,
       "min_width": null,
       "nudge_bottom": null,
       "nudge_left": null,
       "nudge_right": null,
       "nudge_top": null,
       "nudge_width": null,
       "open_delay": null,
       "v_slots": [
        {
         "children": "IPY_MODEL_635e07d7c7a547a892b32dcb9e28cb33",
         "name": "activator",
         "variable": "tooltip"
        }
       ]
      }
     },
     "061093855b1041d9acde1950a971dc0d": {
      "model_module": "@jupyter-widgets/base",
      "model_module_version": "1.2.0",
      "model_name": "LayoutModel",
      "state": {}
     },
     "062fd04138e24788abe280a92b200193": {
      "model_module": "@jupyter-widgets/base",
      "model_module_version": "1.2.0",
      "model_name": "LayoutModel",
      "state": {}
     },
     "0696a6d5ddd4445eaa68bf7e5c78e8d2": {
      "model_module": "jupyter-vuetify",
      "model_module_version": "^1.1.1",
      "model_name": "ExpansionPanelContentModel",
      "state": {
       "_events": [],
       "_jupyter_vue": "IPY_MODEL_5d592719b6fc465d9656990e27f1b30c",
       "attributes": {},
       "children": [
        "IPY_MODEL_87292d7358164a05b3bc92fbbc6f4a5f"
       ],
       "layout": "IPY_MODEL_e5bb881ddb05494ea05c86237ca6ccf8",
       "v_slots": []
      }
     },
     "06b44ebdfd864723833bf53583c61ddb": {
      "model_module": "bqplot",
      "model_module_version": "^0.5.3",
      "model_name": "LinearScaleModel",
      "state": {
       "allow_padding": false,
       "max": 1,
       "min": 0,
       "stabilized": false
      }
     },
     "06fce8e944044d26a8805ad4d5c378cf": {
      "model_module": "@jupyter-widgets/base",
      "model_module_version": "1.2.0",
      "model_name": "LayoutModel",
      "state": {}
     },
     "079b5f791e74469d81ceaef10dfb2587": {
      "model_module": "@jupyter-widgets/controls",
      "model_module_version": "1.5.0",
      "model_name": "SelectMultipleModel",
      "state": {
       "index": [],
       "layout": "IPY_MODEL_45694c9ab787416382d9bb2e69117450",
       "rows": 5,
       "style": "IPY_MODEL_c8c932573e59408ca0a4d4287c36bb82"
      }
     },
     "0816836296a34195a1841c0eb7326986": {
      "buffers": [
       {
        "data": "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",
        "encoding": "base64",
        "path": [
         "value"
        ]
       }
      ],
      "model_module": "@jupyter-widgets/controls",
      "model_module_version": "1.5.0",
      "model_name": "ImageModel",
      "state": {
       "format": "svg+xml",
       "layout": "IPY_MODEL_9c88f42621ea4be1abeea69e285688c3",
       "value": {},
       "width": "20"
      }
     },
     "083e83427f4d4fe7aa6006423838d999": {
      "model_module": "jupyter-vuetify",
      "model_module_version": "^1.1.1",
      "model_name": "ListItemTitleModel",
      "state": {
       "_events": [],
       "_jupyter_vue": "IPY_MODEL_5d592719b6fc465d9656990e27f1b30c",
       "attributes": {},
       "children": [
        "remove"
       ],
       "layout": "IPY_MODEL_edfd024a981b4400b175d87fc586332b",
       "v_slots": []
      }
     },
     "08e591f37c9e421ea15e07c8f9ca4e30": {
      "model_module": "@jupyter-widgets/base",
      "model_module_version": "1.2.0",
      "model_name": "LayoutModel",
      "state": {}
     },
     "08fe5299375e4220a7d7ed5e1a56934c": {
      "model_module": "@jupyter-widgets/base",
      "model_module_version": "1.2.0",
      "model_name": "LayoutModel",
      "state": {}
     },
     "09a2b1fa91514540b4fb6d3130031917": {
      "model_module": "@jupyter-widgets/base",
      "model_module_version": "1.2.0",
      "model_name": "LayoutModel",
      "state": {}
     },
     "0a355759fba6467b8f66c524108f9bf4": {
      "model_module": "@jupyter-widgets/base",
      "model_module_version": "1.2.0",
      "model_name": "LayoutModel",
      "state": {}
     },
     "0a8e42b89d89421d90d4a103065e61dd": {
      "model_module": "@jupyter-widgets/controls",
      "model_module_version": "1.5.0",
      "model_name": "DescriptionStyleModel",
      "state": {
       "description_width": ""
      }
     },
     "0ad1d369f59d4c6f9d46bd5cf977602a": {
      "model_module": "bqplot",
      "model_module_version": "^0.5.3",
      "model_name": "LinearScaleModel",
      "state": {
       "allow_padding": false,
       "max": 4.500563776807728,
       "min": 0.08753023011848413,
       "stabilized": false
      }
     },
     "0af7b5275b4c413783dc6d6a12a204c8": {
      "model_module": "@jupyter-widgets/base",
      "model_module_version": "1.2.0",
      "model_name": "LayoutModel",
      "state": {}
     },
     "0cb36ed628f24216b2e5eb8f9a1e718b": {
      "model_module": "@jupyter-widgets/base",
      "model_module_version": "1.2.0",
      "model_name": "LayoutModel",
      "state": {}
     },
     "0eb94e1b1960439eab02fe3a4089385b": {
      "model_module": "bqplot",
      "model_module_version": "^0.5.3",
      "model_name": "LinearScaleModel",
      "state": {
       "allow_padding": false,
       "max": 1,
       "min": 0,
       "stabilized": false
      }
     },
     "0f0be953202c41809c7197e64d299e4a": {
      "model_module": "jupyter-vuetify",
      "model_module_version": "^1.1.1",
      "model_name": "ListItemModel",
      "state": {
       "_events": [
        "click"
       ],
       "_jupyter_vue": "IPY_MODEL_5d592719b6fc465d9656990e27f1b30c",
       "attributes": {},
       "children": [
        "IPY_MODEL_2d32f820b97b45d186588fec9a3ef2d0",
        "IPY_MODEL_5348e4bf3e714f4ebbafc646302ea8c6"
       ],
       "href": null,
       "layout": "IPY_MODEL_3a8194300b1c4f419433200a20fe25af",
       "ripple": null,
       "to": null,
       "v_slots": []
      }
     },
     "0f1d4e5c7bbd4bebb21b0a8ea58396ab": {
      "model_module": "@jupyter-widgets/base",
      "model_module_version": "1.2.0",
      "model_name": "LayoutModel",
      "state": {}
     },
     "0f6dbea0fced42e4a06efecec2d2de66": {
      "model_module": "@jupyter-widgets/base",
      "model_module_version": "1.2.0",
      "model_name": "LayoutModel",
      "state": {}
     },
     "0fb0035d0fc642259b63682596aae7d0": {
      "model_module": "@jupyter-widgets/base",
      "model_module_version": "1.2.0",
      "model_name": "LayoutModel",
      "state": {}
     },
     "10b6efe202d841c9b835837cdcdac7a2": {
      "model_module": "bqplot",
      "model_module_version": "^0.5.3",
      "model_name": "BrushIntervalSelectorModel",
      "state": {
       "color": "green",
       "scale": "IPY_MODEL_0ad1d369f59d4c6f9d46bd5cf977602a"
      }
     },
     "12aff2a6d8f24f3784c842b1af343313": {
      "model_module": "@jupyter-widgets/base",
      "model_module_version": "1.2.0",
      "model_name": "LayoutModel",
      "state": {}
     },
     "137b3b3cca1a46ad821443961777a4ef": {
      "model_module": "bqplot",
      "model_module_version": "^0.5.3",
      "model_name": "AxisModel",
      "state": {
       "scale": "IPY_MODEL_44b1d5084adc4d6490e286899b866996",
       "side": "bottom",
       "tick_values": null
      }
     },
     "1540516a418149969b319e7186a101d3": {
      "model_module": "@jupyter-widgets/base",
      "model_module_version": "1.2.0",
      "model_name": "LayoutModel",
      "state": {}
     },
     "160dff73d80b44e18fc7cca32f31fad8": {
      "buffers": [
       {
        "data": "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",
        "encoding": "base64",
        "path": [
         "value"
        ]
       }
      ],
      "model_module": "@jupyter-widgets/controls",
      "model_module_version": "1.5.0",
      "model_name": "ImageModel",
      "state": {
       "format": "svg+xml",
       "layout": "IPY_MODEL_a53978a50d0a4f44bfcf2d3f8fbf9566",
       "value": {},
       "width": "20"
      }
     },
     "17072895f1284e6eb334cc37834a0752": {
      "model_module": "@jupyter-widgets/base",
      "model_module_version": "1.2.0",
      "model_name": "LayoutModel",
      "state": {}
     },
     "17c9139b3bdb4c9c89861b1e7e9b3cb9": {
      "model_module": "@jupyter-widgets/base",
      "model_module_version": "1.2.0",
      "model_name": "LayoutModel",
      "state": {}
     },
     "17dec0bf759847968d36ef9d2e835d0d": {
      "model_module": "@jupyter-widgets/controls",
      "model_module_version": "1.5.0",
      "model_name": "DropdownModel",
      "state": {
       "_options_labels": [
        "data"
       ],
       "description": "Layer",
       "index": 0,
       "layout": "IPY_MODEL_1df627942b374acd87265bdfbc86c3d8",
       "style": "IPY_MODEL_74e314eef16745ad9a9eb5b2314550ce"
      }
     },
     "191635eb86de4ee49578411d12375137": {
      "model_module": "@jupyter-widgets/base",
      "model_module_version": "1.2.0",
      "model_name": "LayoutModel",
      "state": {}
     },
     "1a0cb350ebe842ebb7ea7f69f0c5671e": {
      "model_module": "jupyter-vuetify",
      "model_module_version": "^1.1.1",
      "model_name": "BtnModel",
      "state": {
       "_events": [],
       "_jupyter_vue": "IPY_MODEL_5d592719b6fc465d9656990e27f1b30c",
       "attributes": {},
       "children": [
        "IPY_MODEL_e1bcde45491c42b2a4a09e3a8ac80a2c"
       ],
       "elevation": null,
       "height": null,
       "href": null,
       "icon": true,
       "layout": "IPY_MODEL_ea007e1262404fb68dcd50bd5526574f",
       "max_height": null,
       "max_width": null,
       "min_height": null,
       "min_width": null,
       "ripple": null,
       "to": null,
       "v_on": "menu.on",
       "v_slots": [],
       "width": null
      }
     },
     "1a402fdd3bef4ec28bdc0638cf2da604": {
      "model_module": "@jupyter-widgets/controls",
      "model_module_version": "1.5.0",
      "model_name": "VBoxModel",
      "state": {
       "children": [
        "IPY_MODEL_1b080259c7d34e61bb0ab34e508e7f3f",
        "IPY_MODEL_c0f393a3760d4e96ad31e74bb182d9cc",
        "IPY_MODEL_e7408de31404416f899a7f98d772c38d",
        "IPY_MODEL_48be7beeb0dd4963936e37de481898c2"
       ],
       "layout": "IPY_MODEL_5827ed8423744ec29cbe2304ec1794cd"
      }
     },
     "1b080259c7d34e61bb0ab34e508e7f3f": {
      "model_module": "@jupyter-widgets/controls",
      "model_module_version": "1.5.0",
      "model_name": "DropdownModel",
      "state": {
       "_options_labels": [
        "speed",
        "vx",
        "vy",
        "vz",
        "x",
        "y",
        "z",
        "Pixel Axis 0 [x]",
        "World 0"
       ],
       "description": "x axis",
       "index": 0,
       "layout": "IPY_MODEL_00e2f46e40ca428db0f87d71c554e327",
       "style": "IPY_MODEL_9b19a62f69c34b9cb2e16a2c8088e952"
      }
     },
     "1c1f50d33be14e09a079ea9c4eb00523": {
      "model_module": "@jupyter-widgets/base",
      "model_module_version": "1.2.0",
      "model_name": "LayoutModel",
      "state": {}
     },
     "1c432e26bb42478ead31c3791d91e4be": {
      "model_module": "jupyter-vuetify",
      "model_module_version": "^1.1.1",
      "model_name": "ExpansionPanelHeaderModel",
      "state": {
       "_events": [],
       "_jupyter_vue": "IPY_MODEL_5d592719b6fc465d9656990e27f1b30c",
       "attributes": {},
       "children": [
        "Layer Options"
       ],
       "class_": "font-weight-bold",
       "layout": "IPY_MODEL_565d31838f0548c9b9bc9a334bc597e5",
       "ripple": null,
       "v_slots": []
      }
     },
     "1db874de0a6d49d0b4d48295ab34eff0": {
      "model_module": "@jupyter-widgets/base",
      "model_module_version": "1.2.0",
      "model_name": "LayoutModel",
      "state": {}
     },
     "1df627942b374acd87265bdfbc86c3d8": {
      "model_module": "@jupyter-widgets/base",
      "model_module_version": "1.2.0",
      "model_name": "LayoutModel",
      "state": {}
     },
     "1f16776cc84f4c20aa1a90ca2708f7dc": {
      "model_module": "jupyter-materialui",
      "model_module_version": "^0.1.1",
      "model_name": "MenuItemModel",
      "state": {
       "_events": [],
       "align_items": null,
       "children": [
        "IPY_MODEL_7648feef01c542b0b31fe0b0ab76ff4c"
       ],
       "layout": "IPY_MODEL_004513ced50143bd8c19398006a83571",
       "value": "ignore"
      }
     },
     "20a4fc71e83f459a9bc389e2ccc75308": {
      "model_module": "jupyter-materialui",
      "model_module_version": "^0.1.1",
      "model_name": "ToggleButtonModel",
      "state": {
       "_events": [],
       "children": [
        "IPY_MODEL_160dff73d80b44e18fc7cca32f31fad8"
       ],
       "layout": "IPY_MODEL_531d9f9d83a842478d538279e45f5a04",
       "size": null,
       "value": 1
      }
     },
     "217b70f7e05f425a918155c4b2aae71a": {
      "model_module": "@jupyter-widgets/base",
      "model_module_version": "1.2.0",
      "model_name": "LayoutModel",
      "state": {}
     },
     "217da6f216bf4ad491569d148ac9f6fa": {
      "model_module": "jupyter-vuetify",
      "model_module_version": "^1.1.1",
      "model_name": "SpacerModel",
      "state": {
       "_events": [],
       "_jupyter_vue": "IPY_MODEL_5d592719b6fc465d9656990e27f1b30c",
       "attributes": {},
       "children": [],
       "layout": "IPY_MODEL_710914c6eb964556addf330cf870c48f",
       "v_slots": []
      }
     },
     "22d678615caf4361896ebed23c5df067": {
      "model_module": "jupyter-vuetify",
      "model_module_version": "^1.1.1",
      "model_name": "ListItemActionModel",
      "state": {
       "_events": [],
       "_jupyter_vue": "IPY_MODEL_5d592719b6fc465d9656990e27f1b30c",
       "attributes": {},
       "children": [
        "IPY_MODEL_d16410373f784e23ba5da62b8f83aa33"
       ],
       "layout": "IPY_MODEL_cb280a283c024523a21452f334e5e0be",
       "v_slots": []
      }
     },
     "25458147cd764ae89e42a9843f44f28b": {
      "model_module": "@jupyter-widgets/controls",
      "model_module_version": "1.5.0",
      "model_name": "DescriptionStyleModel",
      "state": {
       "description_width": ""
      }
     },
     "2566c68f70bb4335a57cf4dd46d52987": {
      "model_module": "@jupyter-widgets/controls",
      "model_module_version": "1.5.0",
      "model_name": "DescriptionStyleModel",
      "state": {
       "description_width": ""
      }
     },
     "264fea09fb80475db13e03d55740c54e": {
      "model_module": "@jupyter-widgets/base",
      "model_module_version": "1.2.0",
      "model_name": "LayoutModel",
      "state": {}
     },
     "272f252b052149bfabd03f183c2a5ce2": {
      "model_module": "jupyter-vuetify",
      "model_module_version": "^1.1.1",
      "model_name": "ListItemModel",
      "state": {
       "_events": [
        "click"
       ],
       "_jupyter_vue": "IPY_MODEL_5d592719b6fc465d9656990e27f1b30c",
       "attributes": {},
       "children": [
        "IPY_MODEL_79644e452a844c168e969005e5d7b574",
        "IPY_MODEL_dca8ba106dcb4d058daa73ff4e1b6577"
       ],
       "href": null,
       "layout": "IPY_MODEL_7aa29150655943a98aca6bb61e84653c",
       "ripple": null,
       "to": null,
       "v_slots": []
      }
     },
     "279f7f0bb0da4202b91f75a9d046ebfe": {
      "model_module": "@jupyter-widgets/base",
      "model_module_version": "1.2.0",
      "model_name": "LayoutModel",
      "state": {}
     },
     "28a354f2ed66401f921b8b3eaed1df3c": {
      "model_module": "@jupyter-widgets/base",
      "model_module_version": "1.2.0",
      "model_name": "LayoutModel",
      "state": {}
     },
     "28d25edd1a8f4527804e3812fa02a33d": {
      "model_module": "@jupyter-widgets/base",
      "model_module_version": "1.2.0",
      "model_name": "LayoutModel",
      "state": {}
     },
     "291b27c8d44847dc83a5e067eba04cd9": {
      "model_module": "jupyter-materialui",
      "model_module_version": "^0.1.1",
      "model_name": "ToggleButtonModel",
      "state": {
       "_events": [],
       "children": [
        "IPY_MODEL_a2b82937b2f249bf91c074957855f575"
       ],
       "layout": "IPY_MODEL_6aa0efa60e49461080f16bef74759899",
       "size": null,
       "value": "bqplot:panzoom"
      }
     },
     "2a16370873b14ff698db996298b00023": {
      "model_module": "bqplot",
      "model_module_version": "^0.5.3",
      "model_name": "LinearScaleModel",
      "state": {
       "allow_padding": false,
       "max": 1,
       "min": 0,
       "stabilized": false
      }
     },
     "2a833af533bb4ca0a8d581395de88c51": {
      "model_module": "bqplot",
      "model_module_version": "^0.5.3",
      "model_name": "FigureModel",
      "state": {
       "_dom_classes": [],
       "axes": [
        "IPY_MODEL_a9d157a95f0a430a9cb0c431e0cd0eb4",
        "IPY_MODEL_7cc9a26fe7124fbbafc4ffec2abf04e8"
       ],
       "layout": "IPY_MODEL_3d1bf391efa3412da8b33cce74459ff2",
       "marks": [
        "IPY_MODEL_4a2b3ebaaf2b4ee186713fb3954890bb"
       ],
       "scale_x": "IPY_MODEL_0381d042e5be421590f45c15b82a6825",
       "scale_y": "IPY_MODEL_2a16370873b14ff698db996298b00023",
       "title": "Histogram"
      }
     },
     "2b4c28c3b666478fb6db727f33a4c045": {
      "model_module": "@jupyter-widgets/base",
      "model_module_version": "1.2.0",
      "model_name": "LayoutModel",
      "state": {}
     },
     "2c26e89b742547168013206337499980": {
      "model_module": "jupyter-materialui",
      "model_module_version": "^0.1.1",
      "model_name": "ToggleButtonModel",
      "state": {
       "_events": [],
       "children": [
        "IPY_MODEL_c6d671c4b74a44e8bf0e205f834bede8"
       ],
       "layout": "IPY_MODEL_a7085a7acc914fd486ba1b4e1017e428",
       "size": null,
       "value": 2
      }
     },
     "2d16c10523df4e8795665e828356e34e": {
      "model_module": "@jupyter-widgets/base",
      "model_module_version": "1.2.0",
      "model_name": "LayoutModel",
      "state": {}
     },
     "2d32f820b97b45d186588fec9a3ef2d0": {
      "model_module": "jupyter-vuetify",
      "model_module_version": "^1.1.1",
      "model_name": "ListItemActionModel",
      "state": {
       "_events": [],
       "_jupyter_vue": "IPY_MODEL_5d592719b6fc465d9656990e27f1b30c",
       "attributes": {},
       "children": [
        "IPY_MODEL_e1bcde45491c42b2a4a09e3a8ac80a2c"
       ],
       "layout": "IPY_MODEL_28a354f2ed66401f921b8b3eaed1df3c",
       "v_slots": []
      }
     },
     "2d63b8b2a473489ba0c61186e197ae79": {
      "model_module": "@jupyter-widgets/controls",
      "model_module_version": "1.5.0",
      "model_name": "SelectMultipleModel",
      "state": {
       "index": [],
       "layout": "IPY_MODEL_c950dce25b4b47d79d86a5d8b9f306dc",
       "rows": 5,
       "style": "IPY_MODEL_39cd073051a74066a56e627354fc6c0e"
      }
     },
     "2eafe58c28cb43669fdb4f64a05df7dc": {
      "model_module": "@jupyter-widgets/base",
      "model_module_version": "1.2.0",
      "model_name": "LayoutModel",
      "state": {}
     },
     "2ec31fc437e04b44928921e767a76f0d": {
      "model_module": "@jupyter-widgets/base",
      "model_module_version": "1.2.0",
      "model_name": "LayoutModel",
      "state": {}
     },
     "2f4587b91cd744faa8ebd98a2883abd4": {
      "model_module": "jupyter-vuetify",
      "model_module_version": "^1.1.1",
      "model_name": "ToolbarItemsModel",
      "state": {
       "_events": [],
       "_jupyter_vue": "IPY_MODEL_5d592719b6fc465d9656990e27f1b30c",
       "attributes": {},
       "children": [
        "IPY_MODEL_51b2fa56178e4443abd20c0680208b31",
        "IPY_MODEL_c5c0bddd0c144c9888e1fecfcc8d28ab",
        "IPY_MODEL_445b43b2c84046fe9302eb90146cb09f"
       ],
       "layout": "IPY_MODEL_59ab72f012fc48f28a787c94074ddd6b",
       "v_slots": []
      }
     },
     "2f6e21deb44443b79fa46985404fb7d7": {
      "model_module": "@jupyter-widgets/base",
      "model_module_version": "1.2.0",
      "model_name": "LayoutModel",
      "state": {}
     },
     "2f76645992994f4da3f39d1313358e8f": {
      "model_module": "@jupyter-widgets/controls",
      "model_module_version": "1.5.0",
      "model_name": "CheckboxModel",
      "state": {
       "description": "visible",
       "disabled": false,
       "layout": "IPY_MODEL_40b5bcf1ca4643f69549d35560f9b944",
       "style": "IPY_MODEL_5c72bafa6dba41188e211ed1deb84f95",
       "value": true
      }
     },
     "306983a7e62e4fdcb964860d3442f03c": {
      "model_module": "@jupyter-widgets/controls",
      "model_module_version": "1.5.0",
      "model_name": "ColorPickerModel",
      "state": {
       "description": "color",
       "disabled": false,
       "layout": "IPY_MODEL_ab956fe3534d496fb1ff455d2b1aabce",
       "style": "IPY_MODEL_7e439ea36b924b4cbc53a1e466c4af0b",
       "value": "#595959"
      }
     },
     "3399b40c89e6481a823a03063cd35468": {
      "model_module": "@jupyter-widgets/base",
      "model_module_version": "1.2.0",
      "model_name": "LayoutModel",
      "state": {}
     },
     "33d7e4791ec642029a0eea082a222249": {
      "buffers": [
       {
        "data": "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",
        "encoding": "base64",
        "path": [
         "x",
         "value"
        ]
       },
       {
        "data": "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",
        "encoding": "base64",
        "path": [
         "y",
         "value"
        ]
       }
      ],
      "model_module": "bqplot",
      "model_module_version": "^0.5.3",
      "model_name": "LinesModel",
      "state": {
       "fill_colors": [],
       "labels": [
        "C1"
       ],
       "scales": {
        "x": "IPY_MODEL_72e5b37cf8c0465d88798d384db38afd",
        "y": "IPY_MODEL_c16215350d4e47efb6e027084994923a"
       },
       "x": {
        "dtype": "float64",
        "shape": [
         2000
        ],
        "type": null,
        "value": {}
       },
       "y": {
        "dtype": "int32",
        "shape": [
         2000
        ],
        "type": null,
        "value": {}
       }
      }
     },
     "3486f4e0755e477885723b7790a542a8": {
      "model_module": "jupyter-vuetify",
      "model_module_version": "^1.1.1",
      "model_name": "ListItemTitleModel",
      "state": {
       "_events": [],
       "_jupyter_vue": "IPY_MODEL_5d592719b6fc465d9656990e27f1b30c",
       "attributes": {},
       "children": [
        "add"
       ],
       "layout": "IPY_MODEL_061093855b1041d9acde1950a971dc0d",
       "v_slots": []
      }
     },
     "3494d1d672ba4ca285daa901ab7794de": {
      "model_module": "@jupyter-widgets/base",
      "model_module_version": "1.2.0",
      "model_name": "LayoutModel",
      "state": {}
     },
     "3571ea35ed2142bc81d89429bcc86ccd": {
      "model_module": "@jupyter-widgets/controls",
      "model_module_version": "1.5.0",
      "model_name": "DescriptionStyleModel",
      "state": {
       "description_width": ""
      }
     },
     "3645bf12906c4bdab74c8f3940ea6376": {
      "model_module": "@jupyter-widgets/controls",
      "model_module_version": "1.5.0",
      "model_name": "IntSliderModel",
      "state": {
       "layout": "IPY_MODEL_09a2b1fa91514540b4fb6d3130031917",
       "min": 1,
       "style": "IPY_MODEL_705464e921424ba782634dac43917b1a",
       "value": 50
      }
     },
     "368d7dec928b4324b1d6c9d9369d8f1e": {
      "buffers": [
       {
        "data": "/BjfZ2YIzj8RB/ZoNOzgP+NH9DdPVuo/WkR5AzXg8T/EZPhqQpX2PyyFd9JPSvs/lqX2OV3//z//4rpQNVoCQDNzegS8tARAaAM6uEIPB0Cck/lryWkJQNEjuR9QxAtABbR409YeDkAdIpzDrjwQQDjqex3yaRFA",
        "encoding": "base64",
        "path": [
         "x",
         "value"
        ]
       },
       {
        "data": "AAAAAAAAMEAAAAAAAABDQAAAAAAAgElAAAAAAADAVEAAAAAAAIBTQAAAAAAAgFFAAAAAAACATUAAAAAAAIBJQAAAAAAAADhAAAAAAAAAMkAAAAAAAAAcQAAAAAAAAAhAAAAAAAAAAAAAAAAAAADwPwAAAAAAAPA/",
        "encoding": "base64",
        "path": [
         "y",
         "value"
        ]
       }
      ],
      "model_module": "bqplot",
      "model_module_version": "^0.5.3",
      "model_name": "BarsModel",
      "state": {
       "colors": [
        "#595959"
       ],
       "label_font_style": {},
       "scales": {
        "x": "IPY_MODEL_5996b11f122c4711a46848a3d7d37ab6",
        "y": "IPY_MODEL_fc0252ddfbfa432586d3d4e9131bc7d8"
       },
       "x": {
        "dtype": "float64",
        "shape": [
         15
        ],
        "type": null,
        "value": {}
       },
       "y": {
        "dtype": "float64",
        "shape": [
         15
        ],
        "type": null,
        "value": {}
       }
      }
     },
     "36f2689183e6405e83ab8fbc7901d423": {
      "model_module": "bqplot",
      "model_module_version": "^0.5.3",
      "model_name": "AxisModel",
      "state": {
       "orientation": "vertical",
       "scale": "IPY_MODEL_c8ee137001bf4305bf7553cba36a5e7b",
       "side": "left",
       "tick_values": null
      }
     },
     "379edeeb17ac48afba281835a9b0d576": {
      "model_module": "bqplot",
      "model_module_version": "^0.5.3",
      "model_name": "BrushIntervalSelectorModel",
      "state": {
       "color": "green",
       "scale": "IPY_MODEL_5996b11f122c4711a46848a3d7d37ab6"
      }
     },
     "37baa825577e4528b8ce16dd21931364": {
      "model_module": "@jupyter-widgets/base",
      "model_module_version": "1.2.0",
      "model_name": "LayoutModel",
      "state": {}
     },
     "37fdda6a3d6e4dfc93f3c994e56f05a3": {
      "model_module": "@jupyter-widgets/base",
      "model_module_version": "1.2.0",
      "model_name": "LayoutModel",
      "state": {}
     },
     "38833639922447ad8d021bd30eb2372f": {
      "model_module": "@jupyter-widgets/output",
      "model_module_version": "1.0.0",
      "model_name": "OutputModel",
      "state": {
       "layout": "IPY_MODEL_5bde976309354ef3a244597c83038741"
      }
     },
     "39cd073051a74066a56e627354fc6c0e": {
      "model_module": "@jupyter-widgets/controls",
      "model_module_version": "1.5.0",
      "model_name": "DescriptionStyleModel",
      "state": {
       "description_width": ""
      }
     },
     "39d3e3077ccd4ff1aeff806ecd066cd5": {
      "model_module": "jupyter-vuetify",
      "model_module_version": "^1.1.1",
      "model_name": "ListItemTitleModel",
      "state": {
       "_events": [],
       "_jupyter_vue": "IPY_MODEL_5d592719b6fc465d9656990e27f1b30c",
       "attributes": {},
       "children": [
        "remove"
       ],
       "layout": "IPY_MODEL_7fad9f1ba86c4986b76dc5bed4b2e1be",
       "v_slots": []
      }
     },
     "3a5deb9d231047f0bcbabc8c32f45bc7": {
      "model_module": "@jupyter-widgets/controls",
      "model_module_version": "1.5.0",
      "model_name": "IntSliderModel",
      "state": {
       "layout": "IPY_MODEL_4c9176d720a64e5783436754579e6dac",
       "min": 1,
       "style": "IPY_MODEL_bca5b905a587424fa710372e89898c21",
       "value": 50
      }
     },
     "3a8194300b1c4f419433200a20fe25af": {
      "model_module": "@jupyter-widgets/base",
      "model_module_version": "1.2.0",
      "model_name": "LayoutModel",
      "state": {}
     },
     "3a86010f077e4f3889836d5848bc9b92": {
      "model_module": "@jupyter-widgets/base",
      "model_module_version": "1.2.0",
      "model_name": "LayoutModel",
      "state": {}
     },
     "3b38300d13a74b78a307bbffebafbe15": {
      "model_module": "@jupyter-widgets/base",
      "model_module_version": "1.2.0",
      "model_name": "LayoutModel",
      "state": {}
     },
     "3bdcf9cf67624914b3b087c09720aed1": {
      "model_module": "@jupyter-widgets/base",
      "model_module_version": "1.2.0",
      "model_name": "LayoutModel",
      "state": {}
     },
     "3c1402973b4141eb91eae7ff4ac28c54": {
      "model_module": "jupyter-materialui",
      "model_module_version": "^0.1.1",
      "model_name": "ToggleButtonModel",
      "state": {
       "_events": [],
       "children": [
        "IPY_MODEL_160dff73d80b44e18fc7cca32f31fad8"
       ],
       "layout": "IPY_MODEL_76a404aed66e4f17811db4486c898f47",
       "size": null,
       "value": 1
      }
     },
     "3c6b741f9f794adf8f208de99b8beecf": {
      "model_module": "@jupyter-widgets/base",
      "model_module_version": "1.2.0",
      "model_name": "LayoutModel",
      "state": {}
     },
     "3d1bf391efa3412da8b33cce74459ff2": {
      "model_module": "@jupyter-widgets/base",
      "model_module_version": "1.2.0",
      "model_name": "LayoutModel",
      "state": {}
     },
     "3dd90452375e4c9c80ca65a118a29082": {
      "model_module": "@jupyter-widgets/base",
      "model_module_version": "1.2.0",
      "model_name": "LayoutModel",
      "state": {}
     },
     "3eabe34e7a694d05bb9a8da3b80fb3f4": {
      "model_module": "@jupyter-widgets/base",
      "model_module_version": "1.2.0",
      "model_name": "LayoutModel",
      "state": {}
     },
     "4058d347fff64ca19d8ff28256af0480": {
      "model_module": "bqplot",
      "model_module_version": "^0.5.3",
      "model_name": "LinearScaleModel",
      "state": {
       "allow_padding": false,
       "max": 1,
       "min": 0,
       "stabilized": false
      }
     },
     "40b5bcf1ca4643f69549d35560f9b944": {
      "model_module": "@jupyter-widgets/base",
      "model_module_version": "1.2.0",
      "model_name": "LayoutModel",
      "state": {}
     },
     "41186246a655424c9c5bb56e83faed21": {
      "model_module": "jupyter-vuetify",
      "model_module_version": "^1.1.1",
      "model_name": "ExpansionPanelContentModel",
      "state": {
       "_events": [],
       "_jupyter_vue": "IPY_MODEL_5d592719b6fc465d9656990e27f1b30c",
       "attributes": {},
       "children": [
        "IPY_MODEL_a24fc35d7bbe48bfa24793a175450f2d"
       ],
       "layout": "IPY_MODEL_415f1b18b1a445dc8b982007eccc070a",
       "v_slots": []
      }
     },
     "412ee83c8ff042acb88afb04be1f25ef": {
      "model_module": "@jupyter-widgets/base",
      "model_module_version": "1.2.0",
      "model_name": "LayoutModel",
      "state": {}
     },
     "415f1b18b1a445dc8b982007eccc070a": {
      "model_module": "@jupyter-widgets/base",
      "model_module_version": "1.2.0",
      "model_name": "LayoutModel",
      "state": {}
     },
     "417761c179d84084a68a1e49bf7cad76": {
      "model_module": "@jupyter-widgets/base",
      "model_module_version": "1.2.0",
      "model_name": "LayoutModel",
      "state": {}
     },
     "423cf18080044ca5b47779bbccfab206": {
      "model_module": "jupyter-vuetify",
      "model_module_version": "^1.1.1",
      "model_name": "ExpansionPanelModel",
      "state": {
       "_events": [],
       "_jupyter_vue": "IPY_MODEL_5d592719b6fc465d9656990e27f1b30c",
       "attributes": {},
       "children": [
        "IPY_MODEL_ed28fb63cdaf4113a7d2b53f6250ddc7",
        "IPY_MODEL_56b50f94eda44c9eb9a8ad23bd98e775"
       ],
       "layout": "IPY_MODEL_84a05bbdb04b4650829dc299ae25df0b",
       "v_slots": []
      }
     },
     "42c64eb798e249a8895b30c1a6cfbb1a": {
      "model_module": "jupyter-vuetify",
      "model_module_version": "^1.1.1",
      "model_name": "ListItemTitleModel",
      "state": {
       "_events": [],
       "_jupyter_vue": "IPY_MODEL_5d592719b6fc465d9656990e27f1b30c",
       "attributes": {},
       "children": [
        "replace"
       ],
       "layout": "IPY_MODEL_6f547cff837f4651aa7530b71eaa4e2a",
       "v_slots": []
      }
     },
     "42c84b9d1b89478cb8665835596baa7a": {
      "model_module": "@jupyter-widgets/base",
      "model_module_version": "1.2.0",
      "model_name": "LayoutModel",
      "state": {}
     },
     "4330ac2011254cc88a6f0d1681ee9b79": {
      "model_module": "jupyter-vuetify",
      "model_module_version": "^1.1.1",
      "model_name": "ListItemModel",
      "state": {
       "_events": [
        "click"
       ],
       "_jupyter_vue": "IPY_MODEL_5d592719b6fc465d9656990e27f1b30c",
       "attributes": {},
       "children": [
        "IPY_MODEL_5dd8354024404f93a43b3e64da00bb6b",
        "IPY_MODEL_083e83427f4d4fe7aa6006423838d999"
       ],
       "href": null,
       "layout": "IPY_MODEL_abc3f98b97344567a8ecf24282176f8f",
       "ripple": null,
       "to": null,
       "v_slots": []
      }
     },
     "445b43b2c84046fe9302eb90146cb09f": {
      "model_module": "jupyter-vuetify",
      "model_module_version": "^1.1.1",
      "model_name": "VuetifyTemplateModel",
      "state": {
       "_component_instances": [],
       "_jupyter_vue": "IPY_MODEL_5d592719b6fc465d9656990e27f1b30c",
       "_model_module_version": "^1.1.1",
       "_view_module_version": "^1.1.1",
       "available": [],
       "components": null,
       "events": [],
       "layout": "IPY_MODEL_d78b0427b76844e4b039c697ff0160ba",
       "methods": "{\n        toSubsets(indices) {\n            return indices.map(i => this.available[i]);\n        },\n        deselect() {\n            this.multiple = false;\n            this.selected = [];\n        },\n        toggleSubset(index) {\n            this.selected = this.selected.includes(index)\n                ? this.selected.filter(x => x != index)\n                : this.selected.concat(index);\n            this.handleMultiple();\n        },\n        handleMultiple() {\n            if (!this.multiple && this.selected.length > 1) {\n                this.selected = [this.selected.pop()];\n            }\n        }\n    }",
       "multiple": false,
       "no_selection_text": "No selection (create new)",
       "nr_of_full_names": 2,
       "selected": [],
       "template": "<template>\n    <v-menu :close-on-content-click=\"!multiple\">\n\n        <template #activator=\"{ on: menu }\">\n            <div v-on=\"menu\" class=\"py-2\">\n                <v-chip v-if=\"selected.length === 0\" style=\"cursor: pointer\">\n                    <v-icon left>add</v-icon>\n                    {{ no_selection_text }}\n                </v-chip>\n                <v-tooltip v-else v-for=\"subset in toSubsets(selected)\" :key=subset.label bottom>\n                    <template #activator=\"{ on: tooltip }\">\n                        <v-chip v-on=\"(selected.length > nr_of_full_names) ? tooltip : {}\" style=\"cursor: pointer\">\n                            <v-icon left :color=\"subset.color\">\n                                signal_cellular_4_bar\n                            </v-icon>\n                            {{ (selected.length <= nr_of_full_names) ? subset.label : '' }}\n                        </v-chip>\n                    </template>\n                    {{ subset.label }}\n                </v-tooltip>\n            </div>\n        </template>\n\n        <v-list class=\"indigo--text\">\n            <v-list-item\n                    @click=\"deselect\"\n                    :class=\"(selected.length === 0) ? 'v-list-item--active' : ''\">\n                <v-list-item-icon>\n                    <v-icon>add</v-icon>\n                </v-list-item-icon>\n                <v-list-item-content>\n                    <v-list-item-title>{{ no_selection_text }}</v-list-item-title>\n                </v-list-item-content>\n            </v-list-item>\n\n            <v-list-item\n                    v-for=\"(subset, index) in available\"\n                    :key=\"subset.label\"\n                    :class=\"(selected.includes(index)) ? 'v-list-item--active' : ''\"\n                    @click=\"toggleSubset(index)\">\n                <v-list-item-icon>\n                    <v-icon :color=\"subset.color\">signal_cellular_4_bar</v-icon>\n                </v-list-item-icon>\n                <v-list-item-content>\n                    <v-list-item-title>{{ subset.label }}</v-list-item-title>\n                </v-list-item-content>\n            </v-list-item>\n\n            <v-switch v-model=\"multiple\" label=\"Allow multiple subsets\" @click=\"handleMultiple\" class=\"px-4\"></v-switch>\n        </v-list>\n    </v-menu>\n</template>\n"
      }
     },
     "44b1d5084adc4d6490e286899b866996": {
      "model_module": "bqplot",
      "model_module_version": "^0.5.3",
      "model_name": "LinearScaleModel",
      "state": {
       "stabilized": false
      }
     },
     "4549f33c42414289819d7268f23ce570": {
      "model_module": "@jupyter-widgets/base",
      "model_module_version": "1.2.0",
      "model_name": "LayoutModel",
      "state": {}
     },
     "45694c9ab787416382d9bb2e69117450": {
      "model_module": "@jupyter-widgets/base",
      "model_module_version": "1.2.0",
      "model_name": "LayoutModel",
      "state": {}
     },
     "457332324964438581882ea2832b961a": {
      "model_module": "bqplot",
      "model_module_version": "^0.5.3",
      "model_name": "BrushIntervalSelectorModel",
      "state": {
       "color": "green",
       "scale": "IPY_MODEL_0ad1d369f59d4c6f9d46bd5cf977602a"
      }
     },
     "4642cde78472430481a877a7edc96320": {
      "model_module": "jupyter-vuetify",
      "model_module_version": "^1.1.1",
      "model_name": "ListItemActionModel",
      "state": {
       "_events": [],
       "_jupyter_vue": "IPY_MODEL_5d592719b6fc465d9656990e27f1b30c",
       "attributes": {},
       "children": [
        "IPY_MODEL_c6d671c4b74a44e8bf0e205f834bede8"
       ],
       "layout": "IPY_MODEL_7afcc1d16f4b489c8f281ff0fc508e5d",
       "v_slots": []
      }
     },
     "46671d3f81d0498983ed1f1ce4b79bbb": {
      "buffers": [
       {
        "data": "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",
        "encoding": "base64",
        "path": [
         "value"
        ]
       }
      ],
      "model_module": "@jupyter-widgets/controls",
      "model_module_version": "1.5.0",
      "model_name": "ImageModel",
      "state": {
       "format": "svg+xml",
       "layout": "IPY_MODEL_2ec31fc437e04b44928921e767a76f0d",
       "value": {},
       "width": "20"
      }
     },
     "469e0ad9d4cd4e52a57381509b44e2b0": {
      "model_module": "jupyter-vuetify",
      "model_module_version": "^1.1.1",
      "model_name": "TooltipModel",
      "state": {
       "_events": [],
       "_jupyter_vue": "IPY_MODEL_5d592719b6fc465d9656990e27f1b30c",
       "attributes": {},
       "bottom": true,
       "children": [
        "Select a range of x values"
       ],
       "close_delay": null,
       "layout": "IPY_MODEL_d0895f7668634dbeb557a710eb55bbac",
       "max_width": null,
       "min_width": null,
       "nudge_bottom": null,
       "nudge_left": null,
       "nudge_right": null,
       "nudge_top": null,
       "nudge_width": null,
       "open_delay": null,
       "v_slots": [
        {
         "children": "IPY_MODEL_ec73a5abf2dc4db3a9bc268eb9b9b0ee",
         "name": "activator",
         "variable": "tooltip"
        }
       ]
      }
     },
     "481ede570c2d4b82bac2e5b16e4df3c1": {
      "model_module": "jupyter-materialui",
      "model_module_version": "^0.1.1",
      "model_name": "SwitchModel",
      "state": {
       "_events": [],
       "checked": false,
       "checked_icon": null,
       "children": null,
       "color": null,
       "edge": null,
       "icon": null,
       "layout": "IPY_MODEL_0a355759fba6467b8f66c524108f9bf4",
       "size": null,
       "value": null
      }
     },
     "48be7beeb0dd4963936e37de481898c2": {
      "model_module": "@jupyter-widgets/controls",
      "model_module_version": "1.5.0",
      "model_name": "CheckboxModel",
      "state": {
       "description": "Show axes",
       "disabled": false,
       "layout": "IPY_MODEL_e0515f5750c44abf9ddb90bc189ac80f",
       "style": "IPY_MODEL_9943110b28fe44a5abd841825f9e8ddb",
       "value": true
      }
     },
     "4a2b3ebaaf2b4ee186713fb3954890bb": {
      "buffers": [
       {
        "data": "AAAAAAAAIkAAAAAAAAAqQAAAAAAAADhAAAAAAAAALEAAAAAAAAAmQAAAAAAAgEFAAAAAAAAAOkAAAAAAAABAQAAAAAAAgEVAAAAAAAAANUAAAAAAAABAQAAAAAAAgEpAAAAAAACAUEAAAAAAAIBEQAAAAAAAADpAAAAAAAAAS0AAAAAAAABNQAAAAAAAwFNAAAAAAACASEAAAAAAAMBTQAAAAAAAQF9AAAAAAAAAVUAAAAAAAMBfQAAAAAAAAF9AAAAAAAAAWkAAAAAAAIBQQAAAAAAAAERAAAAAAACAQkAAAAAAAAA0QAAAAAAAADlAAAAAAACAREAAAAAAAABFQAAAAAAAAChAAAAAAAAAHEAAAAAAAAAxQAAAAAAAACJAAAAAAAAALkAAAAAAAAAyQAAAAAAAADZAAAAAAAAAP0AAAAAAAAA6QAAAAAAAAD9AAAAAAAAAQEAAAAAAAAA9QAAAAAAAAD9AAAAAAAAAOUAAAAAAAAA7QAAAAAAAADpAAAAAAAAAO0AAAAAAAAAsQAAAAAAAAPA/",
        "encoding": "base64",
        "path": [
         "count",
         "value"
        ]
       },
       {
        "data": "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",
        "encoding": "base64",
        "path": [
         "sample",
         "value"
        ]
       }
      ],
      "model_module": "bqplot",
      "model_module_version": "^0.5.3",
      "model_name": "HistModel",
      "state": {
       "bins": 50,
       "count": {
        "dtype": "float64",
        "shape": [
         51
        ],
        "type": null,
        "value": {}
       },
       "midpoints": [
        -656.3,
        -638.9000000000001,
        -621.5,
        -604.0999999999999,
        -586.7,
        -569.3,
        -551.9000000000001,
        -534.5,
        -517.0999999999999,
        -499.7,
        -482.3,
        -464.90000000000003,
        -447.5,
        -430.1,
        -412.70000000000005,
        -395.3,
        -377.90000000000003,
        -360.5,
        -343.1,
        -325.70000000000005,
        -308.3,
        -290.90000000000003,
        -273.5,
        -256.1,
        -238.70000000000005,
        -221.30000000000004,
        -203.90000000000003,
        -186.50000000000006,
        -169.10000000000005,
        -151.70000000000002,
        -134.3,
        -116.90000000000003,
        -99.50000000000006,
        -82.10000000000008,
        -64.70000000000005,
        -47.30000000000001,
        -29.900000000000034,
        -12.500000000000057,
        4.89999999999992,
        22.299999999999955,
        39.69999999999999,
        57.099999999999966,
        74.49999999999994,
        91.89999999999992,
        109.2999999999999,
        126.69999999999993,
        144.09999999999997,
        161.49999999999994,
        178.89999999999992,
        196.29999999999995
       ],
       "sample": {
        "dtype": "int32",
        "shape": [
         2000
        ],
        "type": null,
        "value": {}
       },
       "scales": {
        "count": "IPY_MODEL_de9a57feeb0446149569b28369434de7",
        "sample": "IPY_MODEL_6db3f45a3e3e4f89baffb4d864351903"
       }
      }
     },
     "4aa9c04e23534c55a97234187670f670": {
      "model_module": "bqplot",
      "model_module_version": "^0.5.3",
      "model_name": "FigureModel",
      "state": {
       "_dom_classes": [],
       "axes": [
        "IPY_MODEL_7a99979dc90b45b3b24dbb54f118f97f",
        "IPY_MODEL_87512ddc6fc94927b1404cc6cdd9d6b6"
       ],
       "interaction": "IPY_MODEL_e6eb3af6b6534facac2bd4520495d643",
       "layout": "IPY_MODEL_5eb2281e7c4d4311b9051cf73fc9803d",
       "marks": [
        "IPY_MODEL_33d7e4791ec642029a0eea082a222249"
       ],
       "scale_x": "IPY_MODEL_a90286f96e3b467c8ed47f979d740b83",
       "scale_y": "IPY_MODEL_06b44ebdfd864723833bf53583c61ddb",
       "title": "Line Chart"
      }
     },
     "4c1f08688a734e0b9e997b200fc35e86": {
      "model_module": "@jupyter-widgets/base",
      "model_module_version": "1.2.0",
      "model_name": "LayoutModel",
      "state": {}
     },
     "4c2c6a0ec4a24516893c3580753074b5": {
      "model_module": "bqplot",
      "model_module_version": "^0.5.3",
      "model_name": "AxisModel",
      "state": {
       "grid_lines": "none",
       "label": "x",
       "scale": "IPY_MODEL_0ad1d369f59d4c6f9d46bd5cf977602a",
       "side": "bottom",
       "tick_values": null
      }
     },
     "4c9176d720a64e5783436754579e6dac": {
      "model_module": "@jupyter-widgets/base",
      "model_module_version": "1.2.0",
      "model_name": "LayoutModel",
      "state": {}
     },
     "4c9f4b605cf74ea19cff5b9c3cc4db84": {
      "model_module": "jupyter-vuetify",
      "model_module_version": "^1.1.1",
      "model_name": "ListItemModel",
      "state": {
       "_events": [
        "click"
       ],
       "_jupyter_vue": "IPY_MODEL_5d592719b6fc465d9656990e27f1b30c",
       "attributes": {},
       "children": [
        "IPY_MODEL_22d678615caf4361896ebed23c5df067",
        "IPY_MODEL_96d86889326f45728a7f53033df8cf11"
       ],
       "href": null,
       "layout": "IPY_MODEL_b3aca4eb9c9d4f9eacd72891cb964c1c",
       "ripple": null,
       "to": null,
       "v_slots": []
      }
     },
     "4dd2872631964022abfb77782323d6c7": {
      "model_module": "jupyter-vuetify",
      "model_module_version": "^1.1.1",
      "model_name": "MenuModel",
      "state": {
       "_events": [],
       "_jupyter_vue": "IPY_MODEL_5d592719b6fc465d9656990e27f1b30c",
       "attributes": {},
       "children": [
        "IPY_MODEL_ed2a2a3dab4c4055bd8f77b291f3a78c"
       ],
       "close_delay": null,
       "layout": "IPY_MODEL_062fd04138e24788abe280a92b200193",
       "max_height": null,
       "max_width": null,
       "min_width": null,
       "nudge_bottom": null,
       "nudge_left": null,
       "nudge_right": null,
       "nudge_top": null,
       "nudge_width": null,
       "open_delay": null,
       "transition": null,
       "v_slots": [
        {
         "children": "IPY_MODEL_1a0cb350ebe842ebb7ea7f69f0c5671e",
         "name": "activator",
         "variable": "menu"
        }
       ],
       "z_index": null
      }
     },
     "4ef56ef2ac804cb0824608f09538c907": {
      "model_module": "@jupyter-widgets/controls",
      "model_module_version": "1.5.0",
      "model_name": "DescriptionStyleModel",
      "state": {
       "description_width": ""
      }
     },
     "502036f49cf84cd8839f08293d810796": {
      "model_module": "@jupyter-widgets/base",
      "model_module_version": "1.2.0",
      "model_name": "LayoutModel",
      "state": {}
     },
     "503ee75dcecc4897afe139ae044e9184": {
      "model_module": "@jupyter-widgets/base",
      "model_module_version": "1.2.0",
      "model_name": "LayoutModel",
      "state": {}
     },
     "51b2fa56178e4443abd20c0680208b31": {
      "model_module": "jupyter-vuetify",
      "model_module_version": "^1.1.1",
      "model_name": "BtnToggleModel",
      "state": {
       "_events": [],
       "_jupyter_vue": "IPY_MODEL_5d592719b6fc465d9656990e27f1b30c",
       "attributes": {},
       "children": [
        "IPY_MODEL_b02b893b0abe416c8a33cb930ed8a094",
        "IPY_MODEL_469e0ad9d4cd4e52a57381509b44e2b0"
       ],
       "class_": "transparent",
       "layout": "IPY_MODEL_e3be009b47684f0d9b5d9121dbcb5a01",
       "max": null,
       "v_model": null,
       "v_slots": []
      }
     },
     "51b42484236d468d953c957675f6a27b": {
      "model_module": "jupyter-vuetify",
      "model_module_version": "^1.1.1",
      "model_name": "HtmlModel",
      "state": {
       "_events": [],
       "_jupyter_vue": "IPY_MODEL_5d592719b6fc465d9656990e27f1b30c",
       "_model_module_version": "^1.1.1",
       "_view_module_version": "^1.1.1",
       "attributes": {},
       "children": [
        "IPY_MODEL_7f63a63f6035423fbce715bd05022935",
        "IPY_MODEL_98b7430b7d084bf8be79621cd25434d8",
        "IPY_MODEL_e7846e9b8ae94972a446bc7e719b11e4"
       ],
       "layout": "IPY_MODEL_763a066f7ec34422985da42a49747e6d",
       "tag": "div",
       "v_slots": []
      }
     },
     "522a5ea1bf944454add873c2e6243dd7": {
      "model_module": "@jupyter-widgets/base",
      "model_module_version": "1.2.0",
      "model_name": "LayoutModel",
      "state": {}
     },
     "52cfbfc7c09747328f0db2bb98c96b8b": {
      "model_module": "bqplot",
      "model_module_version": "^0.5.3",
      "model_name": "AxisModel",
      "state": {
       "grid_lines": "none",
       "label": "y",
       "orientation": "vertical",
       "scale": "IPY_MODEL_fc0252ddfbfa432586d3d4e9131bc7d8",
       "side": "left",
       "tick_format": "0.2f",
       "tick_values": null
      }
     },
     "531d9f9d83a842478d538279e45f5a04": {
      "model_module": "@jupyter-widgets/base",
      "model_module_version": "1.2.0",
      "model_name": "LayoutModel",
      "state": {}
     },
     "531dbfa3042843eb9c064c65474877b9": {
      "model_module": "jupyter-vuetify",
      "model_module_version": "^1.1.1",
      "model_name": "ListItemModel",
      "state": {
       "_events": [
        "click"
       ],
       "_jupyter_vue": "IPY_MODEL_5d592719b6fc465d9656990e27f1b30c",
       "attributes": {},
       "children": [
        "IPY_MODEL_4642cde78472430481a877a7edc96320",
        "IPY_MODEL_70bda0d13f2c4517854dc3c288593997"
       ],
       "href": null,
       "layout": "IPY_MODEL_5fb790e8cf0d4b2d82f14deb0eb497e8",
       "ripple": null,
       "to": null,
       "v_slots": []
      }
     },
     "5348e4bf3e714f4ebbafc646302ea8c6": {
      "model_module": "jupyter-vuetify",
      "model_module_version": "^1.1.1",
      "model_name": "ListItemTitleModel",
      "state": {
       "_events": [],
       "_jupyter_vue": "IPY_MODEL_5d592719b6fc465d9656990e27f1b30c",
       "attributes": {},
       "children": [
        "replace"
       ],
       "layout": "IPY_MODEL_5fe6149de0da40efb736669d240a52ae",
       "v_slots": []
      }
     },
     "53515f6fa7794b0eb6365b6d6c058db8": {
      "model_module": "@jupyter-widgets/base",
      "model_module_version": "1.2.0",
      "model_name": "LayoutModel",
      "state": {}
     },
     "5368fb30ed1042fb902fa662472d04bf": {
      "model_module": "@jupyter-widgets/base",
      "model_module_version": "1.2.0",
      "model_name": "LayoutModel",
      "state": {}
     },
     "53f1c72397a84475a8832245da4d9ae5": {
      "buffers": [
       {
        "data": "AAAAAAAAIkAAAAAAAAAqQAAAAAAAADhAAAAAAAAALEAAAAAAAAAmQAAAAAAAgEFAAAAAAAAAOkAAAAAAAABAQAAAAAAAgEVAAAAAAAAANUAAAAAAAABAQAAAAAAAgEpAAAAAAACAUEAAAAAAAIBEQAAAAAAAADpAAAAAAAAAS0AAAAAAAABNQAAAAAAAwFNAAAAAAACASEAAAAAAAMBTQAAAAAAAQF9AAAAAAAAAVUAAAAAAAMBfQAAAAAAAAF9AAAAAAAAAWkAAAAAAAIBQQAAAAAAAAERAAAAAAACAQkAAAAAAAAA0QAAAAAAAADlAAAAAAACAREAAAAAAAABFQAAAAAAAAChAAAAAAAAAHEAAAAAAAAAxQAAAAAAAACJAAAAAAAAALkAAAAAAAAAyQAAAAAAAADZAAAAAAAAAP0AAAAAAAAA6QAAAAAAAAD9AAAAAAAAAQEAAAAAAAAA9QAAAAAAAAD9AAAAAAAAAOUAAAAAAAAA7QAAAAAAAADpAAAAAAAAAO0AAAAAAAAAsQAAAAAAAAPA/",
        "encoding": "base64",
        "path": [
         "count",
         "value"
        ]
       },
       {
        "data": "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",
        "encoding": "base64",
        "path": [
         "sample",
         "value"
        ]
       }
      ],
      "model_module": "bqplot",
      "model_module_version": "^0.5.3",
      "model_name": "HistModel",
      "state": {
       "bins": 50,
       "count": {
        "dtype": "float64",
        "shape": [
         51
        ],
        "type": null,
        "value": {}
       },
       "midpoints": [
        -656.3,
        -638.9000000000001,
        -621.5,
        -604.0999999999999,
        -586.7,
        -569.3,
        -551.9000000000001,
        -534.5,
        -517.0999999999999,
        -499.7,
        -482.3,
        -464.90000000000003,
        -447.5,
        -430.1,
        -412.70000000000005,
        -395.3,
        -377.90000000000003,
        -360.5,
        -343.1,
        -325.70000000000005,
        -308.3,
        -290.90000000000003,
        -273.5,
        -256.1,
        -238.70000000000005,
        -221.30000000000004,
        -203.90000000000003,
        -186.50000000000006,
        -169.10000000000005,
        -151.70000000000002,
        -134.3,
        -116.90000000000003,
        -99.50000000000006,
        -82.10000000000008,
        -64.70000000000005,
        -47.30000000000001,
        -29.900000000000034,
        -12.500000000000057,
        4.89999999999992,
        22.299999999999955,
        39.69999999999999,
        57.099999999999966,
        74.49999999999994,
        91.89999999999992,
        109.2999999999999,
        126.69999999999993,
        144.09999999999997,
        161.49999999999994,
        178.89999999999992,
        196.29999999999995
       ],
       "sample": {
        "dtype": "int32",
        "shape": [
         2000
        ],
        "type": null,
        "value": {}
       },
       "scales": {
        "count": "IPY_MODEL_9fb6bbd09c8d4223a2bf6935c9a7d215",
        "sample": "IPY_MODEL_de1cf411b2ab42f986171ab7075943b7"
       }
      }
     },
     "541488b6777f401cbe2aa92c7dbb59ee": {
      "model_module": "jupyter-vuetify",
      "model_module_version": "^1.1.1",
      "model_name": "ListItemTitleModel",
      "state": {
       "_events": [],
       "_jupyter_vue": "IPY_MODEL_5d592719b6fc465d9656990e27f1b30c",
       "attributes": {},
       "children": [
        "xor"
       ],
       "layout": "IPY_MODEL_d41174a6296e44b3954be8f7deb472e2",
       "v_slots": []
      }
     },
     "54d0fc9197e74d7191eb60fa3918b83d": {
      "model_module": "@jupyter-widgets/controls",
      "model_module_version": "1.5.0",
      "model_name": "VBoxModel",
      "state": {
       "children": [
        "IPY_MODEL_adca0264880b4889b26e15db3ccfb570",
        "IPY_MODEL_79214ae64b2d403fbcd3cde88be8b3c7"
       ],
       "layout": "IPY_MODEL_8bd6dbb2335f4082bf766e8458d401f5"
      }
     },
     "5536abcaf56c4a7cb1f25bb713cc6cac": {
      "model_module": "bqplot",
      "model_module_version": "^0.5.3",
      "model_name": "LinearScaleModel",
      "state": {
       "allow_padding": false,
       "max": 1,
       "min": 0,
       "stabilized": false
      }
     },
     "5575c3b7149745ee9b8e47d48d75426e": {
      "model_module": "@jupyter-widgets/output",
      "model_module_version": "1.0.0",
      "model_name": "OutputModel",
      "state": {
       "layout": "IPY_MODEL_0f1d4e5c7bbd4bebb21b0a8ea58396ab"
      }
     },
     "55adcf906d1b4890816235e63b119b10": {
      "model_module": "jupyter-vuetify",
      "model_module_version": "^1.1.1",
      "model_name": "BtnToggleModel",
      "state": {
       "_events": [],
       "_jupyter_vue": "IPY_MODEL_5d592719b6fc465d9656990e27f1b30c",
       "attributes": {},
       "children": [
        "IPY_MODEL_05b4ffda0efe42af9b5bbe7f0d0ea03d",
        "IPY_MODEL_c074d2a44d36497b9a06acec4a67dfa5"
       ],
       "class_": "transparent",
       "layout": "IPY_MODEL_264fea09fb80475db13e03d55740c54e",
       "max": null,
       "v_model": null,
       "v_slots": []
      }
     },
     "564934156cfa437691267412e1ecca94": {
      "model_module": "@jupyter-widgets/base",
      "model_module_version": "1.2.0",
      "model_name": "LayoutModel",
      "state": {}
     },
     "565d31838f0548c9b9bc9a334bc597e5": {
      "model_module": "@jupyter-widgets/base",
      "model_module_version": "1.2.0",
      "model_name": "LayoutModel",
      "state": {}
     },
     "56b50f94eda44c9eb9a8ad23bd98e775": {
      "model_module": "jupyter-vuetify",
      "model_module_version": "^1.1.1",
      "model_name": "ExpansionPanelContentModel",
      "state": {
       "_events": [],
       "_jupyter_vue": "IPY_MODEL_5d592719b6fc465d9656990e27f1b30c",
       "attributes": {},
       "children": [
        "IPY_MODEL_1a402fdd3bef4ec28bdc0638cf2da604"
       ],
       "layout": "IPY_MODEL_2d16c10523df4e8795665e828356e34e",
       "v_slots": []
      }
     },
     "5715ad00d10046c99409a0a7cb366063": {
      "model_module": "@jupyter-widgets/base",
      "model_module_version": "1.2.0",
      "model_name": "LayoutModel",
      "state": {}
     },
     "5802476bd3d34a33bf37eb3f1954e4b7": {
      "model_module": "@jupyter-widgets/base",
      "model_module_version": "1.2.0",
      "model_name": "LayoutModel",
      "state": {}
     },
     "5827ed8423744ec29cbe2304ec1794cd": {
      "model_module": "@jupyter-widgets/base",
      "model_module_version": "1.2.0",
      "model_name": "LayoutModel",
      "state": {}
     },
     "58b65d055e984d6fb05802e1c9ffcf06": {
      "model_module": "jupyter-vuetify",
      "model_module_version": "^1.1.1",
      "model_name": "ExpansionPanelContentModel",
      "state": {
       "_events": [],
       "_jupyter_vue": "IPY_MODEL_5d592719b6fc465d9656990e27f1b30c",
       "attributes": {},
       "children": [
        "IPY_MODEL_ace839d91ec5442e8b398d44208ddb8a"
       ],
       "layout": "IPY_MODEL_17072895f1284e6eb334cc37834a0752",
       "v_slots": []
      }
     },
     "5996b11f122c4711a46848a3d7d37ab6": {
      "model_module": "bqplot",
      "model_module_version": "^0.5.3",
      "model_name": "LinearScaleModel",
      "state": {
       "allow_padding": false,
       "max": 4.500563776807728,
       "min": 0.08753023011848413,
       "stabilized": false
      }
     },
     "59ab72f012fc48f28a787c94074ddd6b": {
      "model_module": "@jupyter-widgets/base",
      "model_module_version": "1.2.0",
      "model_name": "LayoutModel",
      "state": {}
     },
     "5bde976309354ef3a244597c83038741": {
      "model_module": "@jupyter-widgets/base",
      "model_module_version": "1.2.0",
      "model_name": "LayoutModel",
      "state": {}
     },
     "5c72bafa6dba41188e211ed1deb84f95": {
      "model_module": "@jupyter-widgets/controls",
      "model_module_version": "1.5.0",
      "model_name": "DescriptionStyleModel",
      "state": {
       "description_width": ""
      }
     },
     "5d592719b6fc465d9656990e27f1b30c": {
      "model_module": "jupyter-vue",
      "model_module_version": "^1.1.0",
      "model_name": "ForceLoadModel",
      "state": {
       "_model_module_version": "^1.1.0",
       "_view_module": null,
       "_view_module_version": "",
       "layout": "IPY_MODEL_738252b1c86f40369a7484e7da95722b"
      }
     },
     "5dbc8473296149c386e826a829a4f4ec": {
      "model_module": "@jupyter-widgets/controls",
      "model_module_version": "1.5.0",
      "model_name": "VBoxModel",
      "state": {
       "children": [
        "IPY_MODEL_bc704f5ad6e14d99baa2eb9e1a6c516b",
        "IPY_MODEL_306983a7e62e4fdcb964860d3442f03c"
       ],
       "layout": "IPY_MODEL_ba146e525eeb4e41aecc878829640998"
      }
     },
     "5dd8354024404f93a43b3e64da00bb6b": {
      "model_module": "jupyter-vuetify",
      "model_module_version": "^1.1.1",
      "model_name": "ListItemActionModel",
      "state": {
       "_events": [],
       "_jupyter_vue": "IPY_MODEL_5d592719b6fc465d9656990e27f1b30c",
       "attributes": {},
       "children": [
        "IPY_MODEL_0816836296a34195a1841c0eb7326986"
       ],
       "layout": "IPY_MODEL_8e9ba4dd745f41a587e8ace35d6634d4",
       "v_slots": []
      }
     },
     "5eb2281e7c4d4311b9051cf73fc9803d": {
      "model_module": "@jupyter-widgets/base",
      "model_module_version": "1.2.0",
      "model_name": "LayoutModel",
      "state": {}
     },
     "5fb790e8cf0d4b2d82f14deb0eb497e8": {
      "model_module": "@jupyter-widgets/base",
      "model_module_version": "1.2.0",
      "model_name": "LayoutModel",
      "state": {}
     },
     "5fe6149de0da40efb736669d240a52ae": {
      "model_module": "@jupyter-widgets/base",
      "model_module_version": "1.2.0",
      "model_name": "LayoutModel",
      "state": {}
     },
     "60c1741f71334f319281801ad976ab75": {
      "model_module": "@jupyter-widgets/base",
      "model_module_version": "1.2.0",
      "model_name": "LayoutModel",
      "state": {}
     },
     "61c1ece2b1b848f59fe1a3ad02f21ad9": {
      "model_module": "@jupyter-widgets/base",
      "model_module_version": "1.2.0",
      "model_name": "LayoutModel",
      "state": {}
     },
     "62afee10c85a4fcc94467f3122d8072c": {
      "model_module": "bqplot",
      "model_module_version": "^0.5.3",
      "model_name": "FigureModel",
      "state": {
       "_dom_classes": [],
       "axes": [
        "IPY_MODEL_b36eb8083773414c81c6f3981f885735",
        "IPY_MODEL_52cfbfc7c09747328f0db2bb98c96b8b"
       ],
       "fig_margin": {
        "bottom": 60,
        "left": 60,
        "right": 10,
        "top": 10
       },
       "layout": "IPY_MODEL_3494d1d672ba4ca285daa901ab7794de",
       "marks": [
        "IPY_MODEL_368d7dec928b4324b1d6c9d9369d8f1e"
       ],
       "padding_y": 0,
       "scale_x": "IPY_MODEL_6429759e7056476e8ffd81690c9027ae",
       "scale_y": "IPY_MODEL_0eb94e1b1960439eab02fe3a4089385b"
      }
     },
     "635e07d7c7a547a892b32dcb9e28cb33": {
      "model_module": "jupyter-vuetify",
      "model_module_version": "^1.1.1",
      "model_name": "BtnModel",
      "state": {
       "_events": [],
       "_jupyter_vue": "IPY_MODEL_5d592719b6fc465d9656990e27f1b30c",
       "attributes": {},
       "children": [
        "IPY_MODEL_95f54e8bf5454407abb162483ca5f7a0"
       ],
       "elevation": null,
       "height": null,
       "href": null,
       "icon": true,
       "layout": "IPY_MODEL_37baa825577e4528b8ce16dd21931364",
       "max_height": null,
       "max_width": null,
       "min_height": null,
       "min_width": null,
       "ripple": null,
       "to": null,
       "v_on": "tooltip.on",
       "v_slots": [],
       "value": "bqplot:panzoom",
       "width": null
      }
     },
     "63703003e920419aab57461b14afb911": {
      "model_module": "@jupyter-widgets/controls",
      "model_module_version": "1.5.0",
      "model_name": "VBoxModel",
      "state": {
       "children": [
        "IPY_MODEL_e9a9acd05c7c491992d9a400458470ae",
        "IPY_MODEL_38833639922447ad8d021bd30eb2372f"
       ],
       "layout": "IPY_MODEL_2eafe58c28cb43669fdb4f64a05df7dc"
      }
     },
     "6380ea867cf6491287bf9e05da3ee088": {
      "model_module": "jupyter-vuetify",
      "model_module_version": "^1.1.1",
      "model_name": "ListItemActionModel",
      "state": {
       "_events": [],
       "_jupyter_vue": "IPY_MODEL_5d592719b6fc465d9656990e27f1b30c",
       "attributes": {},
       "children": [
        "IPY_MODEL_160dff73d80b44e18fc7cca32f31fad8"
       ],
       "layout": "IPY_MODEL_2b4c28c3b666478fb6db727f33a4c045",
       "v_slots": []
      }
     },
     "63b9ccb656094bdba469521cf5e1594f": {
      "model_module": "@jupyter-widgets/base",
      "model_module_version": "1.2.0",
      "model_name": "LayoutModel",
      "state": {}
     },
     "6429759e7056476e8ffd81690c9027ae": {
      "model_module": "bqplot",
      "model_module_version": "^0.5.3",
      "model_name": "LinearScaleModel",
      "state": {
       "allow_padding": false,
       "max": 1,
       "min": 0,
       "stabilized": false
      }
     },
     "6484f4bfa5294423921bd23829f18120": {
      "model_module": "jupyter-vuetify",
      "model_module_version": "^1.1.1",
      "model_name": "ColModel",
      "state": {
       "_events": [],
       "_jupyter_vue": "IPY_MODEL_5d592719b6fc465d9656990e27f1b30c",
       "attributes": {},
       "children": [
        "IPY_MODEL_62afee10c85a4fcc94467f3122d8072c"
       ],
       "cols": 12,
       "layout": "IPY_MODEL_7bab7f4e14464aee8e82a4adac240245",
       "lg": null,
       "md": null,
       "offset": null,
       "offset_lg": null,
       "offset_md": null,
       "offset_sm": null,
       "offset_xl": null,
       "order": null,
       "order_lg": null,
       "order_md": null,
       "order_sm": null,
       "order_xl": null,
       "sm": null,
       "v_slots": [],
       "xl": null
      }
     },
     "6932e40e7d894fbe8c10c25b457ccea0": {
      "model_module": "jupyter-vuetify",
      "model_module_version": "^1.1.1",
      "model_name": "ToolbarModel",
      "state": {
       "_events": [],
       "_jupyter_vue": "IPY_MODEL_5d592719b6fc465d9656990e27f1b30c",
       "attributes": {},
       "children": [
        "IPY_MODEL_2f4587b91cd744faa8ebd98a2883abd4",
        "IPY_MODEL_84584a00ef2944d580bbf21aec31f0c1",
        "IPY_MODEL_a3bb129339234a3998ba7350df096723"
       ],
       "class_": "elevation-0",
       "dense": true,
       "elevation": null,
       "extension_height": null,
       "height": null,
       "layout": "IPY_MODEL_6d48950ada234400b7f3b522ba158dd0",
       "max_height": null,
       "max_width": null,
       "min_height": null,
       "min_width": null,
       "src": null,
       "v_slots": [],
       "width": null
      }
     },
     "6a2fc10094c2488aa3b0716974be17e6": {
      "model_module": "jupyter-vuetify",
      "model_module_version": "^1.1.1",
      "model_name": "AppBarNavIconModel",
      "state": {
       "_events": [
        "click"
       ],
       "_jupyter_vue": "IPY_MODEL_5d592719b6fc465d9656990e27f1b30c",
       "attributes": {},
       "children": [],
       "layout": "IPY_MODEL_502036f49cf84cd8839f08293d810796",
       "v_slots": []
      }
     },
     "6aa0efa60e49461080f16bef74759899": {
      "model_module": "@jupyter-widgets/base",
      "model_module_version": "1.2.0",
      "model_name": "LayoutModel",
      "state": {}
     },
     "6bd145b989e54e2e92cba4af09b9a9cb": {
      "model_module": "@jupyter-widgets/base",
      "model_module_version": "1.2.0",
      "model_name": "LayoutModel",
      "state": {}
     },
     "6c705ff9363d4014a6857fff179ee461": {
      "model_module": "bqplot",
      "model_module_version": "^0.5.3",
      "model_name": "PanZoomModel",
      "state": {
       "scales": {
        "x": [
         "IPY_MODEL_0ad1d369f59d4c6f9d46bd5cf977602a"
        ],
        "y": [
         "IPY_MODEL_d7a685260ea9421283defeeb5ede622a"
        ]
       }
      }
     },
     "6cfc972b3ad54703a608bbd4c182bec4": {
      "model_module": "jupyter-materialui",
      "model_module_version": "^0.1.1",
      "model_name": "ToggleButtonModel",
      "state": {
       "_events": [],
       "children": [
        "IPY_MODEL_e1bcde45491c42b2a4a09e3a8ac80a2c"
       ],
       "layout": "IPY_MODEL_dc3dcb9234514e1dab3ff1728f760ecd",
       "size": null,
       "value": 0
      }
     },
     "6d48950ada234400b7f3b522ba158dd0": {
      "model_module": "@jupyter-widgets/base",
      "model_module_version": "1.2.0",
      "model_name": "LayoutModel",
      "state": {}
     },
     "6db3f45a3e3e4f89baffb4d864351903": {
      "model_module": "bqplot",
      "model_module_version": "^0.5.3",
      "model_name": "LinearScaleModel",
      "state": {
       "stabilized": false
      }
     },
     "6e20c43f1b1d4930931a17d8c7b475f2": {
      "buffers": [
       {
        "data": "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",
        "encoding": "base64",
        "path": [
         "value"
        ]
       }
      ],
      "model_module": "@jupyter-widgets/controls",
      "model_module_version": "1.5.0",
      "model_name": "ImageModel",
      "state": {
       "format": "svg+xml",
       "layout": "IPY_MODEL_8c62fe45162f4f5891effaa128bdc98c",
       "value": {},
       "width": "20"
      }
     },
     "6e5567eae1eb4bcdbe649dad68c000d2": {
      "model_module": "jupyter-vuetify",
      "model_module_version": "^1.1.1",
      "model_name": "ListItemModel",
      "state": {
       "_events": [
        "click"
       ],
       "_jupyter_vue": "IPY_MODEL_5d592719b6fc465d9656990e27f1b30c",
       "attributes": {},
       "children": [
        "IPY_MODEL_87be316e1cdb49fc9791dc51717b5350",
        "IPY_MODEL_42c64eb798e249a8895b30c1a6cfbb1a"
       ],
       "href": null,
       "layout": "IPY_MODEL_12aff2a6d8f24f3784c842b1af343313",
       "ripple": null,
       "to": null,
       "v_slots": []
      }
     },
     "6f547cff837f4651aa7530b71eaa4e2a": {
      "model_module": "@jupyter-widgets/base",
      "model_module_version": "1.2.0",
      "model_name": "LayoutModel",
      "state": {}
     },
     "6f60a9fa417f47e6945c5ec028e12f8e": {
      "model_module": "@jupyter-widgets/controls",
      "model_module_version": "1.5.0",
      "model_name": "CheckboxModel",
      "state": {
       "description": "Show axes",
       "disabled": false,
       "layout": "IPY_MODEL_ec1b76270f0f469a9c9381eaf24b7be1",
       "style": "IPY_MODEL_a85a68f194a545dfaaae9e77e5b24b40",
       "value": true
      }
     },
     "6fe3023bc93c4f8394fd46f8baaa92f5": {
      "model_module": "@jupyter-widgets/base",
      "model_module_version": "1.2.0",
      "model_name": "LayoutModel",
      "state": {}
     },
     "705464e921424ba782634dac43917b1a": {
      "model_module": "@jupyter-widgets/controls",
      "model_module_version": "1.5.0",
      "model_name": "SliderStyleModel",
      "state": {
       "description_width": ""
      }
     },
     "70b61c233bb24bb49fa6fbf564925bc5": {
      "model_module": "@jupyter-widgets/base",
      "model_module_version": "1.2.0",
      "model_name": "LayoutModel",
      "state": {}
     },
     "70bda0d13f2c4517854dc3c288593997": {
      "model_module": "jupyter-vuetify",
      "model_module_version": "^1.1.1",
      "model_name": "ListItemTitleModel",
      "state": {
       "_events": [],
       "_jupyter_vue": "IPY_MODEL_5d592719b6fc465d9656990e27f1b30c",
       "attributes": {},
       "children": [
        "and"
       ],
       "layout": "IPY_MODEL_b7844130c4a64c6e8928d560f1aa5ba9",
       "v_slots": []
      }
     },
     "710914c6eb964556addf330cf870c48f": {
      "model_module": "@jupyter-widgets/base",
      "model_module_version": "1.2.0",
      "model_name": "LayoutModel",
      "state": {}
     },
     "71626fd00c00490183e507eead6521b3": {
      "model_module": "@jupyter-widgets/base",
      "model_module_version": "1.2.0",
      "model_name": "LayoutModel",
      "state": {}
     },
     "72a12f019ec1403e82e8f13ad54bf2da": {
      "model_module": "@jupyter-widgets/base",
      "model_module_version": "1.2.0",
      "model_name": "LayoutModel",
      "state": {}
     },
     "72e5b37cf8c0465d88798d384db38afd": {
      "model_module": "bqplot",
      "model_module_version": "^0.5.3",
      "model_name": "LinearScaleModel",
      "state": {
       "stabilized": false
      }
     },
     "738252b1c86f40369a7484e7da95722b": {
      "model_module": "@jupyter-widgets/base",
      "model_module_version": "1.2.0",
      "model_name": "LayoutModel",
      "state": {}
     },
     "73c9b26f4e704d3e828b3219939cc096": {
      "model_module": "@jupyter-widgets/base",
      "model_module_version": "1.2.0",
      "model_name": "LayoutModel",
      "state": {}
     },
     "745c560954d74ccd94d59c382ab6baf0": {
      "model_module": "jupyter-vuetify",
      "model_module_version": "^1.1.1",
      "model_name": "RowModel",
      "state": {
       "_events": [],
       "_jupyter_vue": "IPY_MODEL_5d592719b6fc465d9656990e27f1b30c",
       "attributes": {},
       "children": [
        "IPY_MODEL_fbc22a907fe84fd69e393ae1baafba6e",
        "IPY_MODEL_f50fc6fd59394876854873dfff36ea71"
       ],
       "layout": "IPY_MODEL_72a12f019ec1403e82e8f13ad54bf2da",
       "no_gutters": true,
       "v_slots": []
      }
     },
     "74e314eef16745ad9a9eb5b2314550ce": {
      "model_module": "@jupyter-widgets/controls",
      "model_module_version": "1.5.0",
      "model_name": "DescriptionStyleModel",
      "state": {
       "description_width": ""
      }
     },
     "74e6ee8aa56c463eabb02759212e1dd3": {
      "model_module": "bqplot",
      "model_module_version": "^0.5.3",
      "model_name": "AxisModel",
      "state": {
       "scale": "IPY_MODEL_de1cf411b2ab42f986171ab7075943b7",
       "side": "bottom",
       "tick_values": null
      }
     },
     "7571cc0a26544924a010312e98e8983f": {
      "model_module": "@jupyter-widgets/base",
      "model_module_version": "1.2.0",
      "model_name": "LayoutModel",
      "state": {}
     },
     "763a066f7ec34422985da42a49747e6d": {
      "model_module": "@jupyter-widgets/base",
      "model_module_version": "1.2.0",
      "model_name": "LayoutModel",
      "state": {}
     },
     "7648feef01c542b0b31fe0b0ab76ff4c": {
      "model_module": "jupyter-materialui",
      "model_module_version": "^0.1.1",
      "model_name": "FormControlLabelModel",
      "state": {
       "_events": [],
       "control": "IPY_MODEL_481ede570c2d4b82bac2e5b16e4df3c1",
       "label": "Allow multiple subsets",
       "label_placement": null,
       "layout": "IPY_MODEL_99fba515b1214fc9a76d03a66f0e1ff2",
       "value": null
      }
     },
     "76a404aed66e4f17811db4486c898f47": {
      "model_module": "@jupyter-widgets/base",
      "model_module_version": "1.2.0",
      "model_name": "LayoutModel",
      "state": {}
     },
     "78538fa161f74175ac0c2ceff59e4590": {
      "model_module": "@jupyter-widgets/output",
      "model_module_version": "1.0.0",
      "model_name": "OutputModel",
      "state": {
       "layout": "IPY_MODEL_08e591f37c9e421ea15e07c8f9ca4e30"
      }
     },
     "79214ae64b2d403fbcd3cde88be8b3c7": {
      "model_module": "@jupyter-widgets/output",
      "model_module_version": "1.0.0",
      "model_name": "OutputModel",
      "state": {
       "layout": "IPY_MODEL_aed94bd807b64b00a14084494077c37b"
      }
     },
     "79644e452a844c168e969005e5d7b574": {
      "model_module": "jupyter-vuetify",
      "model_module_version": "^1.1.1",
      "model_name": "ListItemActionModel",
      "state": {
       "_events": [],
       "_jupyter_vue": "IPY_MODEL_5d592719b6fc465d9656990e27f1b30c",
       "attributes": {},
       "children": [
        "IPY_MODEL_c6d671c4b74a44e8bf0e205f834bede8"
       ],
       "layout": "IPY_MODEL_b1333979596546429e0b6b22e935b897",
       "v_slots": []
      }
     },
     "797bf8696aa44c4a8edc013c0404a1b1": {
      "model_module": "jupyter-vuetify",
      "model_module_version": "^1.1.1",
      "model_name": "ListItemActionModel",
      "state": {
       "_events": [],
       "_jupyter_vue": "IPY_MODEL_5d592719b6fc465d9656990e27f1b30c",
       "attributes": {},
       "children": [
        "IPY_MODEL_0816836296a34195a1841c0eb7326986"
       ],
       "layout": "IPY_MODEL_0f6dbea0fced42e4a06efecec2d2de66",
       "v_slots": []
      }
     },
     "7a99979dc90b45b3b24dbb54f118f97f": {
      "model_module": "bqplot",
      "model_module_version": "^0.5.3",
      "model_name": "AxisModel",
      "state": {
       "scale": "IPY_MODEL_72e5b37cf8c0465d88798d384db38afd",
       "side": "bottom",
       "tick_values": null
      }
     },
     "7aa29150655943a98aca6bb61e84653c": {
      "model_module": "@jupyter-widgets/base",
      "model_module_version": "1.2.0",
      "model_name": "LayoutModel",
      "state": {}
     },
     "7afcc1d16f4b489c8f281ff0fc508e5d": {
      "model_module": "@jupyter-widgets/base",
      "model_module_version": "1.2.0",
      "model_name": "LayoutModel",
      "state": {}
     },
     "7bab7f4e14464aee8e82a4adac240245": {
      "model_module": "@jupyter-widgets/base",
      "model_module_version": "1.2.0",
      "model_name": "LayoutModel",
      "state": {}
     },
     "7cc9a26fe7124fbbafc4ffec2abf04e8": {
      "model_module": "bqplot",
      "model_module_version": "^0.5.3",
      "model_name": "AxisModel",
      "state": {
       "scale": "IPY_MODEL_6db3f45a3e3e4f89baffb4d864351903",
       "side": "bottom",
       "tick_values": null
      }
     },
     "7d0308e38e8b47c390e70a7e13733779": {
      "model_module": "jupyter-vuetify",
      "model_module_version": "^1.1.1",
      "model_name": "ToolbarItemsModel",
      "state": {
       "_events": [],
       "_jupyter_vue": "IPY_MODEL_5d592719b6fc465d9656990e27f1b30c",
       "attributes": {},
       "children": [
        "IPY_MODEL_55adcf906d1b4890816235e63b119b10",
        "IPY_MODEL_4dd2872631964022abfb77782323d6c7",
        "IPY_MODEL_9934b6b65c73467da11a154a37305fc5"
       ],
       "layout": "IPY_MODEL_873c0bca5d4a44fa934840049d83f5ea",
       "v_slots": []
      }
     },
     "7d51324b35314f8cb8df19838b1a0aae": {
      "model_module": "bqplot",
      "model_module_version": "^0.5.3",
      "model_name": "PanZoomModel",
      "state": {
       "scales": {
        "x": [
         "IPY_MODEL_5996b11f122c4711a46848a3d7d37ab6"
        ],
        "y": [
         "IPY_MODEL_fc0252ddfbfa432586d3d4e9131bc7d8"
        ]
       }
      }
     },
     "7e439ea36b924b4cbc53a1e466c4af0b": {
      "model_module": "@jupyter-widgets/controls",
      "model_module_version": "1.5.0",
      "model_name": "DescriptionStyleModel",
      "state": {
       "description_width": ""
      }
     },
     "7f51400fa26c45529e6e388b8ceab2fb": {
      "model_module": "@jupyter-widgets/base",
      "model_module_version": "1.2.0",
      "model_name": "LayoutModel",
      "state": {}
     },
     "7f63a63f6035423fbce715bd05022935": {
      "model_module": "jupyter-vuetify",
      "model_module_version": "^1.1.1",
      "model_name": "ToolbarModel",
      "state": {
       "_events": [],
       "_jupyter_vue": "IPY_MODEL_5d592719b6fc465d9656990e27f1b30c",
       "attributes": {},
       "children": [
        "IPY_MODEL_7d0308e38e8b47c390e70a7e13733779",
        "IPY_MODEL_217da6f216bf4ad491569d148ac9f6fa",
        "IPY_MODEL_6a2fc10094c2488aa3b0716974be17e6"
       ],
       "class_": "elevation-0",
       "dense": true,
       "elevation": null,
       "extension_height": null,
       "height": null,
       "layout": "IPY_MODEL_3eabe34e7a694d05bb9a8da3b80fb3f4",
       "max_height": null,
       "max_width": null,
       "min_height": null,
       "min_width": null,
       "src": null,
       "v_slots": [],
       "width": null
      }
     },
     "7fad9f1ba86c4986b76dc5bed4b2e1be": {
      "model_module": "@jupyter-widgets/base",
      "model_module_version": "1.2.0",
      "model_name": "LayoutModel",
      "state": {}
     },
     "80cab93d409c43d2af6da31acba31c85": {
      "model_module": "jupyter-vuetify",
      "model_module_version": "^1.1.1",
      "model_name": "ExpansionPanelsModel",
      "state": {
       "_events": [],
       "_jupyter_vue": "IPY_MODEL_5d592719b6fc465d9656990e27f1b30c",
       "accordion": true,
       "attributes": {},
       "children": [
        "IPY_MODEL_8a135d7e6bac41f2ae5b74f72d5f1821",
        "IPY_MODEL_b8ceaf8495f7443d9e7a2c981fd53936"
       ],
       "layout": "IPY_MODEL_4c1f08688a734e0b9e997b200fc35e86",
       "max": null,
       "multiple": true,
       "style_": "padding-left: 1px",
       "v_model": [
        0,
        1
       ],
       "v_slots": []
      }
     },
     "8223e377c1d24f8396efdb670a14add9": {
      "model_module": "@jupyter-widgets/base",
      "model_module_version": "1.2.0",
      "model_name": "LayoutModel",
      "state": {}
     },
     "825cedd32e75449b999522f08a398291": {
      "model_module": "jupyter-vuetify",
      "model_module_version": "^1.1.1",
      "model_name": "ExpansionPanelHeaderModel",
      "state": {
       "_events": [],
       "_jupyter_vue": "IPY_MODEL_5d592719b6fc465d9656990e27f1b30c",
       "attributes": {},
       "children": [
        "Layer Options"
       ],
       "class_": "font-weight-bold",
       "layout": "IPY_MODEL_3399b40c89e6481a823a03063cd35468",
       "ripple": null,
       "v_slots": []
      }
     },
     "831a0138afbd42ddbf8a7b5476e2f5ce": {
      "model_module": "@jupyter-widgets/base",
      "model_module_version": "1.2.0",
      "model_name": "LayoutModel",
      "state": {}
     },
     "84584a00ef2944d580bbf21aec31f0c1": {
      "model_module": "jupyter-vuetify",
      "model_module_version": "^1.1.1",
      "model_name": "SpacerModel",
      "state": {
       "_events": [],
       "_jupyter_vue": "IPY_MODEL_5d592719b6fc465d9656990e27f1b30c",
       "attributes": {},
       "children": [],
       "layout": "IPY_MODEL_9083dbd9b2354ae0b364833eab5b6a8d",
       "v_slots": []
      }
     },
     "84a05bbdb04b4650829dc299ae25df0b": {
      "model_module": "@jupyter-widgets/base",
      "model_module_version": "1.2.0",
      "model_name": "LayoutModel",
      "state": {}
     },
     "84be64afc2eb47afbb4873de93ac8536": {
      "model_module": "jupyter-vuetify",
      "model_module_version": "^1.1.1",
      "model_name": "ExpansionPanelModel",
      "state": {
       "_events": [],
       "_jupyter_vue": "IPY_MODEL_5d592719b6fc465d9656990e27f1b30c",
       "attributes": {},
       "children": [
        "IPY_MODEL_825cedd32e75449b999522f08a398291",
        "IPY_MODEL_0696a6d5ddd4445eaa68bf7e5c78e8d2"
       ],
       "layout": "IPY_MODEL_63b9ccb656094bdba469521cf5e1594f",
       "v_slots": []
      }
     },
     "86f204cb501046dfaddba380bb499cbc": {
      "model_module": "@jupyter-widgets/output",
      "model_module_version": "1.0.0",
      "model_name": "OutputModel",
      "state": {
       "layout": "IPY_MODEL_70b61c233bb24bb49fa6fbf564925bc5"
      }
     },
     "87292d7358164a05b3bc92fbbc6f4a5f": {
      "model_module": "@jupyter-widgets/controls",
      "model_module_version": "1.5.0",
      "model_name": "VBoxModel",
      "state": {
       "children": [
        "IPY_MODEL_17dec0bf759847968d36ef9d2e835d0d",
        "IPY_MODEL_5dbc8473296149c386e826a829a4f4ec"
       ],
       "layout": "IPY_MODEL_af77dbb1035b47ba99278b9b14759bf1"
      }
     },
     "873c0bca5d4a44fa934840049d83f5ea": {
      "model_module": "@jupyter-widgets/base",
      "model_module_version": "1.2.0",
      "model_name": "LayoutModel",
      "state": {}
     },
     "87512ddc6fc94927b1404cc6cdd9d6b6": {
      "model_module": "bqplot",
      "model_module_version": "^0.5.3",
      "model_name": "AxisModel",
      "state": {
       "orientation": "vertical",
       "scale": "IPY_MODEL_c16215350d4e47efb6e027084994923a",
       "side": "left",
       "tick_values": null
      }
     },
     "87be316e1cdb49fc9791dc51717b5350": {
      "model_module": "jupyter-vuetify",
      "model_module_version": "^1.1.1",
      "model_name": "ListItemActionModel",
      "state": {
       "_events": [],
       "_jupyter_vue": "IPY_MODEL_5d592719b6fc465d9656990e27f1b30c",
       "attributes": {},
       "children": [
        "IPY_MODEL_e1bcde45491c42b2a4a09e3a8ac80a2c"
       ],
       "layout": "IPY_MODEL_6fe3023bc93c4f8394fd46f8baaa92f5",
       "v_slots": []
      }
     },
     "89c2aa3706464cfea0dbe7d5a98da3cf": {
      "model_module": "jupyter-vuetify",
      "model_module_version": "^1.1.1",
      "model_name": "HtmlModel",
      "state": {
       "_events": [],
       "_jupyter_vue": "IPY_MODEL_5d592719b6fc465d9656990e27f1b30c",
       "_model_module_version": "^1.1.1",
       "_view_module_version": "^1.1.1",
       "attributes": {},
       "children": [
        "IPY_MODEL_6932e40e7d894fbe8c10c25b457ccea0",
        "IPY_MODEL_745c560954d74ccd94d59c382ab6baf0",
        "IPY_MODEL_8ac8f787e94443c3a971f5dfe89cf8ad"
       ],
       "layout": "IPY_MODEL_3c6b741f9f794adf8f208de99b8beecf",
       "tag": "div",
       "v_slots": []
      }
     },
     "8a135d7e6bac41f2ae5b74f72d5f1821": {
      "model_module": "jupyter-vuetify",
      "model_module_version": "^1.1.1",
      "model_name": "ExpansionPanelModel",
      "state": {
       "_events": [],
       "_jupyter_vue": "IPY_MODEL_5d592719b6fc465d9656990e27f1b30c",
       "attributes": {},
       "children": [
        "IPY_MODEL_d75517872c15481a9d2f2ddc5f55e959",
        "IPY_MODEL_58b65d055e984d6fb05802e1c9ffcf06"
       ],
       "layout": "IPY_MODEL_03c925b405de48ebbf89595ff140af01",
       "v_slots": []
      }
     },
     "8ac8f787e94443c3a971f5dfe89cf8ad": {
      "model_module": "jupyter-vuetify",
      "model_module_version": "^1.1.1",
      "model_name": "NavigationDrawerModel",
      "state": {
       "_events": [],
       "_jupyter_vue": "IPY_MODEL_5d592719b6fc465d9656990e27f1b30c",
       "absolute": true,
       "attributes": {},
       "children": [
        "IPY_MODEL_a3bb129339234a3998ba7350df096723",
        "IPY_MODEL_80cab93d409c43d2af6da31acba31c85"
       ],
       "height": null,
       "layout": "IPY_MODEL_03871a2f46864f4cb7ad5dd9217ffec1",
       "mini_variant_width": null,
       "mobile_break_point": null,
       "overlay_opacity": null,
       "right": true,
       "src": null,
       "v_model": false,
       "v_slots": [],
       "width": "min-content"
      }
     },
     "8ae0762761914eaa88f61aaa33da6e58": {
      "model_module": "bqplot",
      "model_module_version": "^0.5.3",
      "model_name": "FigureModel",
      "state": {
       "_dom_classes": [],
       "axes": [
        "IPY_MODEL_137b3b3cca1a46ad821443961777a4ef",
        "IPY_MODEL_36f2689183e6405e83ab8fbc7901d423"
       ],
       "interaction": "IPY_MODEL_fc89e013474b4c59a51ab6c2ee05751b",
       "layout": "IPY_MODEL_903c627b5f35414e800de6f465b63c59",
       "marks": [
        "IPY_MODEL_ff60ab1660ae4474b25d6b4def4c9ac7"
       ],
       "scale_x": "IPY_MODEL_5536abcaf56c4a7cb1f25bb713cc6cac",
       "scale_y": "IPY_MODEL_8e66374624ab47dea4d91c1bd628636a",
       "title": "Line Chart"
      }
     },
     "8b6fd3fbc3b34bd8b91f7b65ed57fed3": {
      "model_module": "jupyter-vuetify",
      "model_module_version": "^1.1.1",
      "model_name": "ExpansionPanelsModel",
      "state": {
       "_events": [],
       "_jupyter_vue": "IPY_MODEL_5d592719b6fc465d9656990e27f1b30c",
       "accordion": true,
       "attributes": {},
       "children": [
        "IPY_MODEL_423cf18080044ca5b47779bbccfab206",
        "IPY_MODEL_84be64afc2eb47afbb4873de93ac8536"
       ],
       "layout": "IPY_MODEL_8f14bff8bd314487b21974f1a6b9ab30",
       "max": null,
       "multiple": true,
       "style_": "padding-left: 1px",
       "v_model": [
        0,
        1
       ],
       "v_slots": []
      }
     },
     "8b8dec87032c4ce69c15a992b67ada71": {
      "model_module": "jupyter-materialui",
      "model_module_version": "^0.1.1",
      "model_name": "ToggleButtonModel",
      "state": {
       "_events": [],
       "children": [
        "IPY_MODEL_6e20c43f1b1d4930931a17d8c7b475f2"
       ],
       "layout": "IPY_MODEL_0cb36ed628f24216b2e5eb8f9a1e718b",
       "size": null,
       "value": "bqplot:panzoom"
      }
     },
     "8bd6dbb2335f4082bf766e8458d401f5": {
      "model_module": "@jupyter-widgets/base",
      "model_module_version": "1.2.0",
      "model_name": "LayoutModel",
      "state": {}
     },
     "8c62fe45162f4f5891effaa128bdc98c": {
      "model_module": "@jupyter-widgets/base",
      "model_module_version": "1.2.0",
      "model_name": "LayoutModel",
      "state": {}
     },
     "8cf3574aa3cb4c14b26904049927870b": {
      "model_module": "jupyter-vuetify",
      "model_module_version": "^1.1.1",
      "model_name": "ListItemModel",
      "state": {
       "_events": [
        "click"
       ],
       "_jupyter_vue": "IPY_MODEL_5d592719b6fc465d9656990e27f1b30c",
       "attributes": {},
       "children": [
        "IPY_MODEL_6380ea867cf6491287bf9e05da3ee088",
        "IPY_MODEL_8eaab6f1357849bab7dea303c208929f"
       ],
       "href": null,
       "layout": "IPY_MODEL_0415c33aab06483bbe5bbd972cd3ea40",
       "ripple": null,
       "to": null,
       "v_slots": []
      }
     },
     "8d51d532615c435a8e1f16cd85d929c2": {
      "model_module": "@jupyter-widgets/base",
      "model_module_version": "1.2.0",
      "model_name": "LayoutModel",
      "state": {}
     },
     "8e66374624ab47dea4d91c1bd628636a": {
      "model_module": "bqplot",
      "model_module_version": "^0.5.3",
      "model_name": "LinearScaleModel",
      "state": {
       "allow_padding": false,
       "max": 1,
       "min": 0,
       "stabilized": false
      }
     },
     "8e9ba4dd745f41a587e8ace35d6634d4": {
      "model_module": "@jupyter-widgets/base",
      "model_module_version": "1.2.0",
      "model_name": "LayoutModel",
      "state": {}
     },
     "8eaab6f1357849bab7dea303c208929f": {
      "model_module": "jupyter-vuetify",
      "model_module_version": "^1.1.1",
      "model_name": "ListItemTitleModel",
      "state": {
       "_events": [],
       "_jupyter_vue": "IPY_MODEL_5d592719b6fc465d9656990e27f1b30c",
       "attributes": {},
       "children": [
        "add"
       ],
       "layout": "IPY_MODEL_17c9139b3bdb4c9c89861b1e7e9b3cb9",
       "v_slots": []
      }
     },
     "8f14bff8bd314487b21974f1a6b9ab30": {
      "model_module": "@jupyter-widgets/base",
      "model_module_version": "1.2.0",
      "model_name": "LayoutModel",
      "state": {}
     },
     "8f2b0104fcea4a2aa8345d6ce884c09f": {
      "model_module": "@jupyter-widgets/base",
      "model_module_version": "1.2.0",
      "model_name": "LayoutModel",
      "state": {}
     },
     "903c627b5f35414e800de6f465b63c59": {
      "model_module": "@jupyter-widgets/base",
      "model_module_version": "1.2.0",
      "model_name": "LayoutModel",
      "state": {}
     },
     "9083dbd9b2354ae0b364833eab5b6a8d": {
      "model_module": "@jupyter-widgets/base",
      "model_module_version": "1.2.0",
      "model_name": "LayoutModel",
      "state": {}
     },
     "922e41116e11449d92ab87f598747630": {
      "model_module": "@jupyter-widgets/base",
      "model_module_version": "1.2.0",
      "model_name": "LayoutModel",
      "state": {}
     },
     "9240f6ea82e84879963b935958539925": {
      "model_module": "@jupyter-widgets/controls",
      "model_module_version": "1.5.0",
      "model_name": "DescriptionStyleModel",
      "state": {
       "description_width": ""
      }
     },
     "92eab04d95164b95978b9d50ed03de24": {
      "model_module": "@jupyter-widgets/base",
      "model_module_version": "1.2.0",
      "model_name": "LayoutModel",
      "state": {}
     },
     "95d6121892e34e4a836ca397fcebba05": {
      "buffers": [
       {
        "data": "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",
        "encoding": "base64",
        "path": [
         "value"
        ]
       }
      ],
      "model_module": "@jupyter-widgets/controls",
      "model_module_version": "1.5.0",
      "model_name": "ImageModel",
      "state": {
       "format": "svg+xml",
       "layout": "IPY_MODEL_71626fd00c00490183e507eead6521b3",
       "value": {},
       "width": "20"
      }
     },
     "95f54e8bf5454407abb162483ca5f7a0": {
      "buffers": [
       {
        "data": "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",
        "encoding": "base64",
        "path": [
         "value"
        ]
       }
      ],
      "model_module": "@jupyter-widgets/controls",
      "model_module_version": "1.5.0",
      "model_name": "ImageModel",
      "state": {
       "format": "svg+xml",
       "layout": "IPY_MODEL_7f51400fa26c45529e6e388b8ceab2fb",
       "value": {},
       "width": "20"
      }
     },
     "9644712df37445e586be8e7c4ecf3df2": {
      "model_module": "@jupyter-widgets/base",
      "model_module_version": "1.2.0",
      "model_name": "LayoutModel",
      "state": {}
     },
     "96d86889326f45728a7f53033df8cf11": {
      "model_module": "jupyter-vuetify",
      "model_module_version": "^1.1.1",
      "model_name": "ListItemTitleModel",
      "state": {
       "_events": [],
       "_jupyter_vue": "IPY_MODEL_5d592719b6fc465d9656990e27f1b30c",
       "attributes": {},
       "children": [
        "xor"
       ],
       "layout": "IPY_MODEL_4549f33c42414289819d7268f23ce570",
       "v_slots": []
      }
     },
     "98b7430b7d084bf8be79621cd25434d8": {
      "model_module": "jupyter-vuetify",
      "model_module_version": "^1.1.1",
      "model_name": "RowModel",
      "state": {
       "_events": [],
       "_jupyter_vue": "IPY_MODEL_5d592719b6fc465d9656990e27f1b30c",
       "attributes": {},
       "children": [
        "IPY_MODEL_6484f4bfa5294423921bd23829f18120",
        "IPY_MODEL_a3e9495d344640149f08f1f8155c8bcf"
       ],
       "layout": "IPY_MODEL_3a86010f077e4f3889836d5848bc9b92",
       "no_gutters": true,
       "v_slots": []
      }
     },
     "9916af116b3b4f46855a2a3a4eff4f37": {
      "model_module": "bqplot",
      "model_module_version": "^0.5.3",
      "model_name": "PanZoomModel",
      "state": {
       "scales": {
        "x": [
         "IPY_MODEL_0ad1d369f59d4c6f9d46bd5cf977602a"
        ],
        "y": [
         "IPY_MODEL_d7a685260ea9421283defeeb5ede622a"
        ]
       }
      }
     },
     "9934b6b65c73467da11a154a37305fc5": {
      "model_module": "jupyter-vuetify",
      "model_module_version": "^1.1.1",
      "model_name": "VuetifyTemplateModel",
      "state": {
       "_component_instances": [],
       "_jupyter_vue": "IPY_MODEL_5d592719b6fc465d9656990e27f1b30c",
       "_model_module_version": "^1.1.1",
       "_view_module_version": "^1.1.1",
       "available": [],
       "components": null,
       "events": [],
       "layout": "IPY_MODEL_db813ea93a6a438595bb1ff866c30192",
       "methods": "{\n        toSubsets(indices) {\n            return indices.map(i => this.available[i]);\n        },\n        deselect() {\n            this.multiple = false;\n            this.selected = [];\n        },\n        toggleSubset(index) {\n            this.selected = this.selected.includes(index)\n                ? this.selected.filter(x => x != index)\n                : this.selected.concat(index);\n            this.handleMultiple();\n        },\n        handleMultiple() {\n            if (!this.multiple && this.selected.length > 1) {\n                this.selected = [this.selected.pop()];\n            }\n        }\n    }",
       "multiple": false,
       "no_selection_text": "No selection (create new)",
       "nr_of_full_names": 2,
       "selected": [],
       "template": "<template>\n    <v-menu :close-on-content-click=\"!multiple\">\n\n        <template #activator=\"{ on: menu }\">\n            <div v-on=\"menu\" class=\"py-2\">\n                <v-chip v-if=\"selected.length === 0\" style=\"cursor: pointer\">\n                    <v-icon left>add</v-icon>\n                    {{ no_selection_text }}\n                </v-chip>\n                <v-tooltip v-else v-for=\"subset in toSubsets(selected)\" :key=subset.label bottom>\n                    <template #activator=\"{ on: tooltip }\">\n                        <v-chip v-on=\"(selected.length > nr_of_full_names) ? tooltip : {}\" style=\"cursor: pointer\">\n                            <v-icon left :color=\"subset.color\">\n                                signal_cellular_4_bar\n                            </v-icon>\n                            {{ (selected.length <= nr_of_full_names) ? subset.label : '' }}\n                        </v-chip>\n                    </template>\n                    {{ subset.label }}\n                </v-tooltip>\n            </div>\n        </template>\n\n        <v-list class=\"indigo--text\">\n            <v-list-item\n                    @click=\"deselect\"\n                    :class=\"(selected.length === 0) ? 'v-list-item--active' : ''\">\n                <v-list-item-icon>\n                    <v-icon>add</v-icon>\n                </v-list-item-icon>\n                <v-list-item-content>\n                    <v-list-item-title>{{ no_selection_text }}</v-list-item-title>\n                </v-list-item-content>\n            </v-list-item>\n\n            <v-list-item\n                    v-for=\"(subset, index) in available\"\n                    :key=\"subset.label\"\n                    :class=\"(selected.includes(index)) ? 'v-list-item--active' : ''\"\n                    @click=\"toggleSubset(index)\">\n                <v-list-item-icon>\n                    <v-icon :color=\"subset.color\">signal_cellular_4_bar</v-icon>\n                </v-list-item-icon>\n                <v-list-item-content>\n                    <v-list-item-title>{{ subset.label }}</v-list-item-title>\n                </v-list-item-content>\n            </v-list-item>\n\n            <v-switch v-model=\"multiple\" label=\"Allow multiple subsets\" @click=\"handleMultiple\" class=\"px-4\"></v-switch>\n        </v-list>\n    </v-menu>\n</template>\n"
      }
     },
     "9943110b28fe44a5abd841825f9e8ddb": {
      "model_module": "@jupyter-widgets/controls",
      "model_module_version": "1.5.0",
      "model_name": "DescriptionStyleModel",
      "state": {
       "description_width": ""
      }
     },
     "99fba515b1214fc9a76d03a66f0e1ff2": {
      "model_module": "@jupyter-widgets/base",
      "model_module_version": "1.2.0",
      "model_name": "LayoutModel",
      "state": {}
     },
     "9b19a62f69c34b9cb2e16a2c8088e952": {
      "model_module": "@jupyter-widgets/controls",
      "model_module_version": "1.5.0",
      "model_name": "DescriptionStyleModel",
      "state": {
       "description_width": ""
      }
     },
     "9c88f42621ea4be1abeea69e285688c3": {
      "model_module": "@jupyter-widgets/base",
      "model_module_version": "1.2.0",
      "model_name": "LayoutModel",
      "state": {}
     },
     "9f214bb9751043a3b637509c5f9dacf3": {
      "model_module": "@jupyter-widgets/base",
      "model_module_version": "1.2.0",
      "model_name": "LayoutModel",
      "state": {}
     },
     "9fb6bbd09c8d4223a2bf6935c9a7d215": {
      "model_module": "bqplot",
      "model_module_version": "^0.5.3",
      "model_name": "LinearScaleModel",
      "state": {
       "stabilized": false
      }
     },
     "a24fc35d7bbe48bfa24793a175450f2d": {
      "model_module": "@jupyter-widgets/controls",
      "model_module_version": "1.5.0",
      "model_name": "VBoxModel",
      "state": {
       "children": [
        "IPY_MODEL_b297220246154f4f8baf5878a5739f21",
        "IPY_MODEL_ec8665d38eed444daf7193f132686ccc"
       ],
       "layout": "IPY_MODEL_191635eb86de4ee49578411d12375137"
      }
     },
     "a2b2777e59f84fc38b5d6e94eae57d68": {
      "buffers": [
       {
        "data": "/BjfZ2YIzj8RB/ZoNOzgP+NH9DdPVuo/WkR5AzXg8T/EZPhqQpX2PyyFd9JPSvs/lqX2OV3//z//4rpQNVoCQDNzegS8tARAaAM6uEIPB0Cck/lryWkJQNEjuR9QxAtABbR409YeDkAdIpzDrjwQQDjqex3yaRFA",
        "encoding": "base64",
        "path": [
         "x",
         "value"
        ]
       },
       {
        "data": "AAAAAAAAMEAAAAAAAABDQAAAAAAAgElAAAAAAADAVEAAAAAAAIBTQAAAAAAAgFFAAAAAAACATUAAAAAAAIBJQAAAAAAAADhAAAAAAAAAMkAAAAAAAAAcQAAAAAAAAAhAAAAAAAAAAAAAAAAAAADwPwAAAAAAAPA/",
        "encoding": "base64",
        "path": [
         "y",
         "value"
        ]
       }
      ],
      "model_module": "bqplot",
      "model_module_version": "^0.5.3",
      "model_name": "BarsModel",
      "state": {
       "colors": [
        "#595959"
       ],
       "label_font_style": {},
       "scales": {
        "x": "IPY_MODEL_0ad1d369f59d4c6f9d46bd5cf977602a",
        "y": "IPY_MODEL_d7a685260ea9421283defeeb5ede622a"
       },
       "x": {
        "dtype": "float64",
        "shape": [
         15
        ],
        "type": null,
        "value": {}
       },
       "y": {
        "dtype": "float64",
        "shape": [
         15
        ],
        "type": null,
        "value": {}
       }
      }
     },
     "a2b82937b2f249bf91c074957855f575": {
      "buffers": [
       {
        "data": "PD94bWwgdmVyc2lvbj0iMS4wIiBlbmNvZGluZz0iVVRGLTgiIHN0YW5kYWxvbmU9Im5vIj8+CjwhLS0gQ3JlYXRlZCB3aXRoIElua3NjYXBlIChodHRwOi8vd3d3Lmlua3NjYXBlLm9yZy8pIC0tPgoKPHN2ZwogICB4bWxuczpkYz0iaHR0cDovL3B1cmwub3JnL2RjL2VsZW1lbnRzLzEuMS8iCiAgIHhtbG5zOmNjPSJodHRwOi8vY3JlYXRpdmVjb21tb25zLm9yZy9ucyMiCiAgIHhtbG5zOnJkZj0iaHR0cDovL3d3dy53My5vcmcvMTk5OS8wMi8yMi1yZGYtc3ludGF4LW5zIyIKICAgeG1sbnM6c3ZnPSJodHRwOi8vd3d3LnczLm9yZy8yMDAwL3N2ZyIKICAgeG1sbnM9Imh0dHA6Ly93d3cudzMub3JnLzIwMDAvc3ZnIgogICB4bWxuczppbmtzY2FwZT0iaHR0cDovL3d3dy5pbmtzY2FwZS5vcmcvbmFtZXNwYWNlcy9pbmtzY2FwZSIKICAgdmVyc2lvbj0iMS4xIgogICB3aWR0aD0iMzcuNSIKICAgaGVpZ2h0PSIzNy41IgogICBpZD0ic3ZnMiIKICAgeG1sOnNwYWNlPSJwcmVzZXJ2ZSI+PG1ldGFkYXRhCiAgICAgaWQ9Im1ldGFkYXRhOCI+PHJkZjpSREY+PGNjOldvcmsKICAgICAgICAgcmRmOmFib3V0PSIiPjxkYzpmb3JtYXQ+aW1hZ2Uvc3ZnK3htbDwvZGM6Zm9ybWF0PjxkYzp0eXBlCiAgICAgICAgICAgcmRmOnJlc291cmNlPSJodHRwOi8vcHVybC5vcmcvZGMvZGNtaXR5cGUvU3RpbGxJbWFnZSIgLz48L2NjOldvcms+PC9yZGY6UkRGPjwvbWV0YWRhdGE+PGRlZnMKICAgICBpZD0iZGVmczYiPjxjbGlwUGF0aAogICAgICAgaWQ9ImNsaXBQYXRoMTYiPjxwYXRoCiAgICAgICAgIGQ9Ik0gMCwzMCAzMCwzMCAzMCwwIDAsMCAwLDMwIHoiCiAgICAgICAgIGlua3NjYXBlOmNvbm5lY3Rvci1jdXJ2YXR1cmU9IjAiCiAgICAgICAgIGlkPSJwYXRoMTgiIC8+PC9jbGlwUGF0aD48Y2xpcFBhdGgKICAgICAgIGlkPSJjbGlwUGF0aDI0Ij48cGF0aAogICAgICAgICBkPSJtIDExLjYyOTQsMjguMzEzNSA3LjExNDMsMCAwLC0xMS4zNTY1IC03LjExNDMsMCAwLDExLjM1NjUgeiIKICAgICAgICAgaW5rc2NhcGU6Y29ubmVjdG9yLWN1cnZhdHVyZT0iMCIKICAgICAgICAgaWQ9InBhdGgyNiIgLz48L2NsaXBQYXRoPjxjbGlwUGF0aAogICAgICAgaWQ9ImNsaXBQYXRoNDAiPjxwYXRoCiAgICAgICAgIGQ9Im0gMTAuNjcxNCwyOS4yMDI2IDkuMDAyOSwwIDAsLTEyLjc0NTYgLTkuMDAyOSwwIDAsMTIuNzQ1NiB6IgogICAgICAgICBpbmtzY2FwZTpjb25uZWN0b3ItY3VydmF0dXJlPSIwIgogICAgICAgICBpZD0icGF0aDQyIiAvPjwvY2xpcFBhdGg+PGNsaXBQYXRoCiAgICAgICBpZD0iY2xpcFBhdGg1NiI+PHBhdGgKICAgICAgICAgZD0ibSAxNS4yOTE1LDE4LjMyODEgMTMuNDc3NSwwIDAsLTYuOTY4NyAtMTMuNDc3NSwwIDAsNi45Njg3IHoiCiAgICAgICAgIGlua3NjYXBlOmNvbm5lY3Rvci1jdXJ2YXR1cmU9IjAiCiAgICAgICAgIGlkPSJwYXRoNTgiIC8+PC9jbGlwUGF0aD48Y2xpcFBhdGgKICAgICAgIGlkPSJjbGlwUGF0aDcyIj48cGF0aAogICAgICAgICBkPSJtIDE0Ljc5MTUsMTkuMjg2MSAxNC44NjY3LDAgMCwtOC44NTc5IC0xNC44NjY3LDAgMCw4Ljg1NzkgeiIKICAgICAgICAgaW5rc2NhcGU6Y29ubmVjdG9yLWN1cnZhdHVyZT0iMCIKICAgICAgICAgaWQ9InBhdGg3NCIgLz48L2NsaXBQYXRoPjxjbGlwUGF0aAogICAgICAgaWQ9ImNsaXBQYXRoODgiPjxwYXRoCiAgICAgICAgIGQ9Im0gMTEuNTM3NiwxMy4xMzU3IDcuMjU0OSwwIDAsLTExLjQ0OTE4IC03LjI1NDksMCAwLDExLjQ0OTE4IHoiCiAgICAgICAgIGlua3NjYXBlOmNvbm5lY3Rvci1jdXJ2YXR1cmU9IjAiCiAgICAgICAgIGlkPSJwYXRoOTAiIC8+PC9jbGlwUGF0aD48Y2xpcFBhdGgKICAgICAgIGlkPSJjbGlwUGF0aDEwNCI+PHBhdGgKICAgICAgICAgZD0ibSAxMC42MDY5LDEzLjYzNTcgOS4xNDM2LDAgMCwtMTIuODM4ODI1IC05LjE0MzYsMCAwLDEyLjgzODgyNSB6IgogICAgICAgICBpbmtzY2FwZTpjb25uZWN0b3ItY3VydmF0dXJlPSIwIgogICAgICAgICBpZD0icGF0aDEwNiIgLz48L2NsaXBQYXRoPjxjbGlwUGF0aAogICAgICAgaWQ9ImNsaXBQYXRoMTIwIj48cGF0aAogICAgICAgICBkPSJtIDEuMjMwOTYsMTguNTM2MSAxMy4zOTE2NCwwIDAsLTcuMTg1NSAtMTMuMzkxNjQsMCAwLDcuMTg1NSB6IgogICAgICAgICBpbmtzY2FwZTpjb25uZWN0b3ItY3VydmF0dXJlPSIwIgogICAgICAgICBpZD0icGF0aDEyMiIgLz48L2NsaXBQYXRoPjxjbGlwUGF0aAogICAgICAgaWQ9ImNsaXBQYXRoMTM2Ij48cGF0aAogICAgICAgICBkPSJtIDAuMzQxNzk3LDE5LjQ2NjggMTQuNzgwODAzLDAgMCwtOS4wNzM3IC0xNC43ODA4MDMsMCAwLDkuMDczNyB6IgogICAgICAgICBpbmtzY2FwZTpjb25uZWN0b3ItY3VydmF0dXJlPSIwIgogICAgICAgICBpZD0icGF0aDEzOCIgLz48L2NsaXBQYXRoPjwvZGVmcz48ZwogICAgIHRyYW5zZm9ybT0ibWF0cml4KDEuMjUsMCwwLC0xLjI1LDAsMzcuNSkiCiAgICAgaWQ9ImcxMCI+PGcKICAgICAgIGlkPSJnMTIiPjxnCiAgICAgICAgIGNsaXAtcGF0aD0idXJsKCNjbGlwUGF0aDE2KSIKICAgICAgICAgaWQ9ImcxNCI+PGcKICAgICAgICAgICBpZD0iZzIwIj48ZwogICAgICAgICAgICAgaWQ9ImcyMiIgLz48ZwogICAgICAgICAgICAgaWQ9ImcyOCI+PGcKICAgICAgICAgICAgICAgY2xpcC1wYXRoPSJ1cmwoI2NsaXBQYXRoMjQpIgogICAgICAgICAgICAgICBpZD0iZzMwIgogICAgICAgICAgICAgICBzdHlsZT0ib3BhY2l0eTowLjk5MjE1Njk4Ij48ZwogICAgICAgICAgICAgICAgIHRyYW5zZm9ybT0idHJhbnNsYXRlKDE1LjE3ODIsMjguMzEzNSkiCiAgICAgICAgICAgICAgICAgaWQ9ImczMiI+PHBhdGgKICAgICAgICAgICAgICAgICAgIGQ9Im0gMCwwIDMuNTY1LC01LjE2NCAtMi4wMzQsLTAuMDcgLTAuMDM3LC02LjEyMiAtMi45ODksMCAtMC4wMzYsNi4xMjIgTCAtMy41NDksLTUuMzAyIDAsMCB6IgogICAgICAgICAgICAgICAgICAgaW5rc2NhcGU6Y29ubmVjdG9yLWN1cnZhdHVyZT0iMCIKICAgICAgICAgICAgICAgICAgIGlkPSJwYXRoMzQiCiAgICAgICAgICAgICAgICAgICBzdHlsZT0iZmlsbDojMmQ2NjgzO2ZpbGwtb3BhY2l0eToxO2ZpbGwtcnVsZTpub256ZXJvO3N0cm9rZTpub25lIiAvPjwvZz48L2c+PC9nPjwvZz48ZwogICAgICAgICAgIGlkPSJnMzYiPjxnCiAgICAgICAgICAgICBpZD0iZzM4IiAvPjxnCiAgICAgICAgICAgICBpZD0iZzQ0Ij48ZwogICAgICAgICAgICAgICBjbGlwLXBhdGg9InVybCgjY2xpcFBhdGg0MCkiCiAgICAgICAgICAgICAgIGlkPSJnNDYiCiAgICAgICAgICAgICAgIHN0eWxlPSJvcGFjaXR5OjAuOTkwMDA1MDEiPjxnCiAgICAgICAgICAgICAgICAgdHJhbnNmb3JtPSJ0cmFuc2xhdGUoMTUuMTc4MiwyOC4zMTM1KSIKICAgICAgICAgICAgICAgICBpZD0iZzQ4Ij48cGF0aAogICAgICAgICAgICAgICAgICAgZD0ibSAwLDAgMy41NjUsLTUuMTY0IC0yLjAzNCwtMC4wNyAtMC4wMzcsLTYuMTIyIC0yLjk4OSwwIC0wLjAzNiw2LjEyMiBMIC0zLjU0OSwtNS4zMDIgMCwwIHoiCiAgICAgICAgICAgICAgICAgICBpbmtzY2FwZTpjb25uZWN0b3ItY3VydmF0dXJlPSIwIgogICAgICAgICAgICAgICAgICAgaWQ9InBhdGg1MCIKICAgICAgICAgICAgICAgICAgIHN0eWxlPSJmaWxsOm5vbmU7c3Ryb2tlOiMyZDY2ODM7c3Ryb2tlLXdpZHRoOjE7c3Ryb2tlLWxpbmVjYXA6YnV0dDtzdHJva2UtbGluZWpvaW46bWl0ZXI7c3Ryb2tlLW1pdGVybGltaXQ6NDtzdHJva2Utb3BhY2l0eToxO3N0cm9rZS1kYXNoYXJyYXk6bm9uZSIgLz48L2c+PC9nPjwvZz48L2c+PGcKICAgICAgICAgICBpZD0iZzUyIj48ZwogICAgICAgICAgICAgaWQ9Imc1NCIgLz48ZwogICAgICAgICAgICAgaWQ9Imc2MCI+PGcKICAgICAgICAgICAgICAgY2xpcC1wYXRoPSJ1cmwoI2NsaXBQYXRoNTYpIgogICAgICAgICAgICAgICBpZD0iZzYyIgogICAgICAgICAgICAgICBzdHlsZT0ib3BhY2l0eTowLjk5MjE1Njk4Ij48ZwogICAgICAgICAgICAgICAgIHRyYW5zZm9ybT0idHJhbnNsYXRlKDI4Ljc2OSwxNC44NTI1KSIKICAgICAgICAgICAgICAgICBpZD0iZzY0Ij48cGF0aAogICAgICAgICAgICAgICAgICAgZD0ibSAwLDAgLTUuMDU5LC0zLjQ5MyAtMC4wNjgsMS45OTMgLTguMzUxLDAuMTI5IDAsMi45MjcgTCAtNS4xMjcsMS40OTkgLTUuMTkzLDMuNDc2IDAsMCB6IgogICAgICAgICAgICAgICAgICAgaW5rc2NhcGU6Y29ubmVjdG9yLWN1cnZhdHVyZT0iMCIKICAgICAgICAgICAgICAgICAgIGlkPSJwYXRoNjYiCiAgICAgICAgICAgICAgICAgICBzdHlsZT0iZmlsbDojMmQ2NjgzO2ZpbGwtb3BhY2l0eToxO2ZpbGwtcnVsZTpub256ZXJvO3N0cm9rZTpub25lIiAvPjwvZz48L2c+PC9nPjwvZz48ZwogICAgICAgICAgIGlkPSJnNjgiPjxnCiAgICAgICAgICAgICBpZD0iZzcwIiAvPjxnCiAgICAgICAgICAgICBpZD0iZzc2Ij48ZwogICAgICAgICAgICAgICBjbGlwLXBhdGg9InVybCgjY2xpcFBhdGg3MikiCiAgICAgICAgICAgICAgIGlkPSJnNzgiCiAgICAgICAgICAgICAgIHN0eWxlPSJvcGFjaXR5OjAuOTkwMDA1MDEiPjxnCiAgICAgICAgICAgICAgICAgdHJhbnNmb3JtPSJ0cmFuc2xhdGUoMjguNzY5LDE0Ljg1MjUpIgogICAgICAgICAgICAgICAgIGlkPSJnODAiPjxwYXRoCiAgICAgICAgICAgICAgICAgICBkPSJtIDAsMCAtNS4wNTksLTMuNDkzIC0wLjA2OCwxLjk5MyAtOC4zNTEsMC4xMjkgMCwyLjkyNyBMIC01LjEyNywxLjQ5OSAtNS4xOTMsMy40NzYgMCwwIHoiCiAgICAgICAgICAgICAgICAgICBpbmtzY2FwZTpjb25uZWN0b3ItY3VydmF0dXJlPSIwIgogICAgICAgICAgICAgICAgICAgaWQ9InBhdGg4MiIKICAgICAgICAgICAgICAgICAgIHN0eWxlPSJmaWxsOm5vbmU7c3Ryb2tlOiMyZDY2ODM7c3Ryb2tlLXdpZHRoOjE7c3Ryb2tlLWxpbmVjYXA6YnV0dDtzdHJva2UtbGluZWpvaW46bWl0ZXI7c3Ryb2tlLW1pdGVybGltaXQ6NDtzdHJva2Utb3BhY2l0eToxO3N0cm9rZS1kYXNoYXJyYXk6bm9uZSIgLz48L2c+PC9nPjwvZz48L2c+PGcKICAgICAgICAgICBpZD0iZzg0Ij48ZwogICAgICAgICAgICAgaWQ9Imc4NiIgLz48ZwogICAgICAgICAgICAgaWQ9Imc5MiI+PGcKICAgICAgICAgICAgICAgY2xpcC1wYXRoPSJ1cmwoI2NsaXBQYXRoODgpIgogICAgICAgICAgICAgICBpZD0iZzk0IgogICAgICAgICAgICAgICBzdHlsZT0ib3BhY2l0eTowLjk5MjE1Njk4Ij48ZwogICAgICAgICAgICAgICAgIHRyYW5zZm9ybT0idHJhbnNsYXRlKDE1LjE3MzMsMS42ODY1KSIKICAgICAgICAgICAgICAgICBpZD0iZzk2Ij48cGF0aAogICAgICAgICAgICAgICAgICAgZD0ibSAwLDAgLTMuNjM2LDUuMjY3IDIuMDc1LDAuMDcxIDAuMDM4LDYuMTExIDMuMDQ3LDAgTCAxLjU2Myw1LjMzOCAzLjYxOSw1LjQwNyAwLDAgeiIKICAgICAgICAgICAgICAgICAgIGlua3NjYXBlOmNvbm5lY3Rvci1jdXJ2YXR1cmU9IjAiCiAgICAgICAgICAgICAgICAgICBpZD0icGF0aDk4IgogICAgICAgICAgICAgICAgICAgc3R5bGU9ImZpbGw6IzJkNjY4MztmaWxsLW9wYWNpdHk6MTtmaWxsLXJ1bGU6bm9uemVybztzdHJva2U6bm9uZSIgLz48L2c+PC9nPjwvZz48L2c+PGcKICAgICAgICAgICBpZD0iZzEwMCI+PGcKICAgICAgICAgICAgIGlkPSJnMTAyIiAvPjxnCiAgICAgICAgICAgICBpZD0iZzEwOCI+PGcKICAgICAgICAgICAgICAgY2xpcC1wYXRoPSJ1cmwoI2NsaXBQYXRoMTA0KSIKICAgICAgICAgICAgICAgaWQ9ImcxMTAiCiAgICAgICAgICAgICAgIHN0eWxlPSJvcGFjaXR5OjAuOTkwMDA1MDEiPjxnCiAgICAgICAgICAgICAgICAgdHJhbnNmb3JtPSJ0cmFuc2xhdGUoMTUuMTczMywxLjY4NjUpIgogICAgICAgICAgICAgICAgIGlkPSJnMTEyIj48cGF0aAogICAgICAgICAgICAgICAgICAgZD0ibSAwLDAgLTMuNjM2LDUuMjY3IDIuMDc1LDAuMDcxIDAuMDM4LDYuMTExIDMuMDQ3LDAgTCAxLjU2Myw1LjMzOCAzLjYxOSw1LjQwNyAwLDAgeiIKICAgICAgICAgICAgICAgICAgIGlua3NjYXBlOmNvbm5lY3Rvci1jdXJ2YXR1cmU9IjAiCiAgICAgICAgICAgICAgICAgICBpZD0icGF0aDExNCIKICAgICAgICAgICAgICAgICAgIHN0eWxlPSJmaWxsOm5vbmU7c3Ryb2tlOiMyZDY2ODM7c3Ryb2tlLXdpZHRoOjE7c3Ryb2tlLWxpbmVjYXA6YnV0dDtzdHJva2UtbGluZWpvaW46bWl0ZXI7c3Ryb2tlLW1pdGVybGltaXQ6NDtzdHJva2Utb3BhY2l0eToxO3N0cm9rZS1kYXNoYXJyYXk6bm9uZSIgLz48L2c+PC9nPjwvZz48L2c+PGcKICAgICAgICAgICBpZD0iZzExNiI+PGcKICAgICAgICAgICAgIGlkPSJnMTE4IiAvPjxnCiAgICAgICAgICAgICBpZD0iZzEyNCI+PGcKICAgICAgICAgICAgICAgY2xpcC1wYXRoPSJ1cmwoI2NsaXBQYXRoMTIwKSIKICAgICAgICAgICAgICAgaWQ9ImcxMjYiCiAgICAgICAgICAgICAgIHN0eWxlPSJvcGFjaXR5OjAuOTkyMTU2OTgiPjxnCiAgICAgICAgICAgICAgICAgdHJhbnNmb3JtPSJ0cmFuc2xhdGUoMS4yMzEsMTQuOTM0NikiCiAgICAgICAgICAgICAgICAgaWQ9ImcxMjgiPjxwYXRoCiAgICAgICAgICAgICAgICAgICBkPSJtIDAsMCA1LjIxNiwzLjYwMiAwLjA3MSwtMi4wNTYgOC4xMDUsLTAuMDM2IDAsLTMuMDIgTCA1LjI4NywtMS41NDYgNS4zNTQsLTMuNTg0IDAsMCB6IgogICAgICAgICAgICAgICAgICAgaW5rc2NhcGU6Y29ubmVjdG9yLWN1cnZhdHVyZT0iMCIKICAgICAgICAgICAgICAgICAgIGlkPSJwYXRoMTMwIgogICAgICAgICAgICAgICAgICAgc3R5bGU9ImZpbGw6IzJkNjY4MztmaWxsLW9wYWNpdHk6MTtmaWxsLXJ1bGU6bm9uemVybztzdHJva2U6bm9uZSIgLz48L2c+PC9nPjwvZz48L2c+PGcKICAgICAgICAgICBpZD0iZzEzMiI+PGcKICAgICAgICAgICAgIGlkPSJnMTM0IiAvPjxnCiAgICAgICAgICAgICBpZD0iZzE0MCI+PGcKICAgICAgICAgICAgICAgY2xpcC1wYXRoPSJ1cmwoI2NsaXBQYXRoMTM2KSIKICAgICAgICAgICAgICAgaWQ9ImcxNDIiCiAgICAgICAgICAgICAgIHN0eWxlPSJvcGFjaXR5OjAuOTkwMDA1MDEiPjxnCiAgICAgICAgICAgICAgICAgdHJhbnNmb3JtPSJ0cmFuc2xhdGUoMS4yMzEsMTQuOTM0NikiCiAgICAgICAgICAgICAgICAgaWQ9ImcxNDQiPjxwYXRoCiAgICAgICAgICAgICAgICAgICBkPSJtIDAsMCA1LjIxNiwzLjYwMiAwLjA3MSwtMi4wNTYgOC4xMDUsLTAuMDM2IDAsLTMuMDIgTCA1LjI4NywtMS41NDYgNS4zNTQsLTMuNTg0IDAsMCB6IgogICAgICAgICAgICAgICAgICAgaW5rc2NhcGU6Y29ubmVjdG9yLWN1cnZhdHVyZT0iMCIKICAgICAgICAgICAgICAgICAgIGlkPSJwYXRoMTQ2IgogICAgICAgICAgICAgICAgICAgc3R5bGU9ImZpbGw6bm9uZTtzdHJva2U6IzJkNjY4MztzdHJva2Utd2lkdGg6MTtzdHJva2UtbGluZWNhcDpidXR0O3N0cm9rZS1saW5lam9pbjptaXRlcjtzdHJva2UtbWl0ZXJsaW1pdDo0O3N0cm9rZS1vcGFjaXR5OjE7c3Ryb2tlLWRhc2hhcnJheTpub25lIiAvPjwvZz48L2c+PC9nPjwvZz48L2c+PC9nPjwvZz48L3N2Zz4=",
        "encoding": "base64",
        "path": [
         "value"
        ]
       }
      ],
      "model_module": "@jupyter-widgets/controls",
      "model_module_version": "1.5.0",
      "model_name": "ImageModel",
      "state": {
       "format": "svg+xml",
       "layout": "IPY_MODEL_df7f7e18ed824d8094c10bcd20ea1c77",
       "value": {},
       "width": "20"
      }
     },
     "a33ad423cdd14af1be139f1281fb9d58": {
      "model_module": "@jupyter-widgets/base",
      "model_module_version": "1.2.0",
      "model_name": "LayoutModel",
      "state": {}
     },
     "a3433ca55fd54272af87245c032d4b77": {
      "model_module": "jupyter-materialui",
      "model_module_version": "^0.1.1",
      "model_name": "SelectModel",
      "state": {
       "_events": [],
       "children": [
        "IPY_MODEL_fe12774ff5ec4d3483c2ce564a5fa899",
        "IPY_MODEL_aeec85c2d7974a398ea4f78b3c972148"
       ],
       "default_value": null,
       "end_adornment": null,
       "input": null,
       "layout": "IPY_MODEL_5368fb30ed1042fb902fa662472d04bf",
       "margin": null,
       "start_adornment": null,
       "value": "new",
       "variant": null
      }
     },
     "a3bb129339234a3998ba7350df096723": {
      "model_module": "jupyter-vuetify",
      "model_module_version": "^1.1.1",
      "model_name": "AppBarNavIconModel",
      "state": {
       "_events": [
        "click"
       ],
       "_jupyter_vue": "IPY_MODEL_5d592719b6fc465d9656990e27f1b30c",
       "attributes": {},
       "children": [],
       "layout": "IPY_MODEL_6bd145b989e54e2e92cba4af09b9a9cb",
       "v_slots": []
      }
     },
     "a3e9495d344640149f08f1f8155c8bcf": {
      "model_module": "jupyter-vuetify",
      "model_module_version": "^1.1.1",
      "model_name": "ColModel",
      "state": {
       "_events": [],
       "_jupyter_vue": "IPY_MODEL_5d592719b6fc465d9656990e27f1b30c",
       "attributes": {},
       "children": [
        "IPY_MODEL_86f204cb501046dfaddba380bb499cbc"
       ],
       "cols": 12,
       "layout": "IPY_MODEL_1c1f50d33be14e09a079ea9c4eb00523",
       "lg": null,
       "md": null,
       "offset": null,
       "offset_lg": null,
       "offset_md": null,
       "offset_sm": null,
       "offset_xl": null,
       "order": null,
       "order_lg": null,
       "order_md": null,
       "order_sm": null,
       "order_xl": null,
       "sm": null,
       "v_slots": [],
       "xl": null
      }
     },
     "a419cb02af104ea096caf279a9a27a38": {
      "model_module": "@jupyter-widgets/base",
      "model_module_version": "1.2.0",
      "model_name": "LayoutModel",
      "state": {}
     },
     "a440ab05185441758ffd64921812a1d3": {
      "model_module": "jupyter-materialui",
      "model_module_version": "^0.1.1",
      "model_name": "SwitchModel",
      "state": {
       "_events": [],
       "checked": false,
       "checked_icon": null,
       "children": null,
       "color": null,
       "edge": null,
       "icon": null,
       "layout": "IPY_MODEL_0fb0035d0fc642259b63682596aae7d0",
       "size": null,
       "value": null
      }
     },
     "a53978a50d0a4f44bfcf2d3f8fbf9566": {
      "model_module": "@jupyter-widgets/base",
      "model_module_version": "1.2.0",
      "model_name": "LayoutModel",
      "state": {}
     },
     "a540c12911d94757ad850e9d418f2169": {
      "model_module": "jupyter-materialui",
      "model_module_version": "^0.1.1",
      "model_name": "ToggleButtonModel",
      "state": {
       "_events": [],
       "children": [
        "IPY_MODEL_e1bcde45491c42b2a4a09e3a8ac80a2c"
       ],
       "layout": "IPY_MODEL_5715ad00d10046c99409a0a7cb366063",
       "size": null,
       "value": 0
      }
     },
     "a6809583828848a6bd6356d2ee1a5cf7": {
      "model_module": "bqplot",
      "model_module_version": "^0.5.3",
      "model_name": "LinearScaleModel",
      "state": {
       "allow_padding": false,
       "max": 1,
       "min": 0,
       "stabilized": false
      }
     },
     "a7085a7acc914fd486ba1b4e1017e428": {
      "model_module": "@jupyter-widgets/base",
      "model_module_version": "1.2.0",
      "model_name": "LayoutModel",
      "state": {}
     },
     "a85a68f194a545dfaaae9e77e5b24b40": {
      "model_module": "@jupyter-widgets/controls",
      "model_module_version": "1.5.0",
      "model_name": "DescriptionStyleModel",
      "state": {
       "description_width": ""
      }
     },
     "a90286f96e3b467c8ed47f979d740b83": {
      "model_module": "bqplot",
      "model_module_version": "^0.5.3",
      "model_name": "LinearScaleModel",
      "state": {
       "allow_padding": false,
       "max": 1,
       "min": 0,
       "stabilized": false
      }
     },
     "a932ebb1038d449d8043060f73aecb1f": {
      "model_module": "jupyter-materialui",
      "model_module_version": "^0.1.1",
      "model_name": "ToggleButtonModel",
      "state": {
       "_events": [],
       "children": [
        "IPY_MODEL_0816836296a34195a1841c0eb7326986"
       ],
       "layout": "IPY_MODEL_fb83c39945074136b930cdcdf904ebef",
       "size": null,
       "value": 4
      }
     },
     "a9d157a95f0a430a9cb0c431e0cd0eb4": {
      "model_module": "bqplot",
      "model_module_version": "^0.5.3",
      "model_name": "AxisModel",
      "state": {
       "orientation": "vertical",
       "scale": "IPY_MODEL_de9a57feeb0446149569b28369434de7",
       "side": "left",
       "tick_values": null
      }
     },
     "ab956fe3534d496fb1ff455d2b1aabce": {
      "model_module": "@jupyter-widgets/base",
      "model_module_version": "1.2.0",
      "model_name": "LayoutModel",
      "state": {}
     },
     "abc3f98b97344567a8ecf24282176f8f": {
      "model_module": "@jupyter-widgets/base",
      "model_module_version": "1.2.0",
      "model_name": "LayoutModel",
      "state": {}
     },
     "ace839d91ec5442e8b398d44208ddb8a": {
      "model_module": "@jupyter-widgets/controls",
      "model_module_version": "1.5.0",
      "model_name": "VBoxModel",
      "state": {
       "children": [
        "IPY_MODEL_c9ef8b51d19a4a39b53212bffa82e1f8",
        "IPY_MODEL_af67c5f74966415ca1f2acf707f3704c",
        "IPY_MODEL_e8a99338d67d476c914c3e610ec01238",
        "IPY_MODEL_6f60a9fa417f47e6945c5ec028e12f8e"
       ],
       "layout": "IPY_MODEL_922e41116e11449d92ab87f598747630"
      }
     },
     "adca0264880b4889b26e15db3ccfb570": {
      "model_module": "jupyter-materialui",
      "model_module_version": "^0.1.1",
      "model_name": "ToggleButtonGroupModel",
      "state": {
       "_events": [],
       "children": [
        "IPY_MODEL_6cfc972b3ad54703a608bbd4c182bec4",
        "IPY_MODEL_3c1402973b4141eb91eae7ff4ac28c54",
        "IPY_MODEL_2c26e89b742547168013206337499980",
        "IPY_MODEL_d1e9027e19a0411180b6611f968ce25e",
        "IPY_MODEL_e7b8110333084297a9a2aa26df3473b3"
       ],
       "exclusive": true,
       "layout": "IPY_MODEL_9f214bb9751043a3b637509c5f9dacf3",
       "size": null,
       "value": 0
      }
     },
     "aed94bd807b64b00a14084494077c37b": {
      "model_module": "@jupyter-widgets/base",
      "model_module_version": "1.2.0",
      "model_name": "LayoutModel",
      "state": {}
     },
     "aeec85c2d7974a398ea4f78b3c972148": {
      "model_module": "jupyter-materialui",
      "model_module_version": "^0.1.1",
      "model_name": "MenuItemModel",
      "state": {
       "_events": [],
       "align_items": null,
       "children": [
        "No selection (create new)"
       ],
       "layout": "IPY_MODEL_9644712df37445e586be8e7c4ecf3df2",
       "selected": true,
       "value": "new"
      }
     },
     "af1fc8fa5648499a950584bcf8e8e424": {
      "model_module": "@jupyter-widgets/base",
      "model_module_version": "1.2.0",
      "model_name": "LayoutModel",
      "state": {}
     },
     "af67c5f74966415ca1f2acf707f3704c": {
      "model_module": "@jupyter-widgets/controls",
      "model_module_version": "1.5.0",
      "model_name": "ToggleButtonModel",
      "state": {
       "description": "normalize",
       "layout": "IPY_MODEL_73c9b26f4e704d3e828b3219939cc096",
       "style": "IPY_MODEL_25458147cd764ae89e42a9843f44f28b",
       "tooltip": "Normalize histogram"
      }
     },
     "af77dbb1035b47ba99278b9b14759bf1": {
      "model_module": "@jupyter-widgets/base",
      "model_module_version": "1.2.0",
      "model_name": "LayoutModel",
      "state": {}
     },
     "af88341df4a54f4582ecc5de95f00157": {
      "model_module": "jupyter-materialui",
      "model_module_version": "^0.1.1",
      "model_name": "ToggleButtonModel",
      "state": {
       "_events": [],
       "children": [
        "IPY_MODEL_46671d3f81d0498983ed1f1ce4b79bbb"
       ],
       "layout": "IPY_MODEL_e3a8848ded674ea58781e8a61fc993e1",
       "size": null,
       "value": "bqplot:xrange"
      }
     },
     "b02b893b0abe416c8a33cb930ed8a094": {
      "model_module": "jupyter-vuetify",
      "model_module_version": "^1.1.1",
      "model_name": "TooltipModel",
      "state": {
       "_events": [],
       "_jupyter_vue": "IPY_MODEL_5d592719b6fc465d9656990e27f1b30c",
       "attributes": {},
       "bottom": true,
       "children": [
        "Interactively pan and zoom around"
       ],
       "close_delay": null,
       "layout": "IPY_MODEL_b20827ba6660459db307cbb59f6e65ac",
       "max_width": null,
       "min_width": null,
       "nudge_bottom": null,
       "nudge_left": null,
       "nudge_right": null,
       "nudge_top": null,
       "nudge_width": null,
       "open_delay": null,
       "v_slots": [
        {
         "children": "IPY_MODEL_ea626a35216e44cfa011070fc6051789",
         "name": "activator",
         "variable": "tooltip"
        }
       ]
      }
     },
     "b1333979596546429e0b6b22e935b897": {
      "model_module": "@jupyter-widgets/base",
      "model_module_version": "1.2.0",
      "model_name": "LayoutModel",
      "state": {}
     },
     "b20827ba6660459db307cbb59f6e65ac": {
      "model_module": "@jupyter-widgets/base",
      "model_module_version": "1.2.0",
      "model_name": "LayoutModel",
      "state": {}
     },
     "b297220246154f4f8baf5878a5739f21": {
      "model_module": "@jupyter-widgets/controls",
      "model_module_version": "1.5.0",
      "model_name": "DropdownModel",
      "state": {
       "_options_labels": [
        "data"
       ],
       "description": "Layer",
       "index": 0,
       "layout": "IPY_MODEL_217b70f7e05f425a918155c4b2aae71a",
       "style": "IPY_MODEL_2566c68f70bb4335a57cf4dd46d52987"
      }
     },
     "b2ff255f4aea4a68bdcba768f6553338": {
      "model_module": "@jupyter-widgets/controls",
      "model_module_version": "1.5.0",
      "model_name": "DescriptionStyleModel",
      "state": {
       "description_width": ""
      }
     },
     "b36eb8083773414c81c6f3981f885735": {
      "model_module": "bqplot",
      "model_module_version": "^0.5.3",
      "model_name": "AxisModel",
      "state": {
       "grid_lines": "none",
       "label": "x",
       "scale": "IPY_MODEL_5996b11f122c4711a46848a3d7d37ab6",
       "side": "bottom",
       "tick_values": null
      }
     },
     "b3aca4eb9c9d4f9eacd72891cb964c1c": {
      "model_module": "@jupyter-widgets/base",
      "model_module_version": "1.2.0",
      "model_name": "LayoutModel",
      "state": {}
     },
     "b7844130c4a64c6e8928d560f1aa5ba9": {
      "model_module": "@jupyter-widgets/base",
      "model_module_version": "1.2.0",
      "model_name": "LayoutModel",
      "state": {}
     },
     "b7d67f6cbce24e4a84fe4ac5b0d17023": {
      "model_module": "bqplot",
      "model_module_version": "^0.5.3",
      "model_name": "LinearScaleModel",
      "state": {
       "allow_padding": false,
       "max": 1,
       "min": 0,
       "stabilized": false
      }
     },
     "b8ceaf8495f7443d9e7a2c981fd53936": {
      "model_module": "jupyter-vuetify",
      "model_module_version": "^1.1.1",
      "model_name": "ExpansionPanelModel",
      "state": {
       "_events": [],
       "_jupyter_vue": "IPY_MODEL_5d592719b6fc465d9656990e27f1b30c",
       "attributes": {},
       "children": [
        "IPY_MODEL_1c432e26bb42478ead31c3791d91e4be",
        "IPY_MODEL_41186246a655424c9c5bb56e83faed21"
       ],
       "layout": "IPY_MODEL_d5f90d5b3a9140a88ab35657457c2707",
       "v_slots": []
      }
     },
     "ba146e525eeb4e41aecc878829640998": {
      "model_module": "@jupyter-widgets/base",
      "model_module_version": "1.2.0",
      "model_name": "LayoutModel",
      "state": {}
     },
     "ba9731833c494e8cb0b9c94638ed9f81": {
      "model_module": "jupyter-materialui",
      "model_module_version": "^0.1.1",
      "model_name": "ToggleButtonModel",
      "state": {
       "_events": [],
       "children": [
        "IPY_MODEL_c6d671c4b74a44e8bf0e205f834bede8"
       ],
       "layout": "IPY_MODEL_c94d27fb4868497d9c75e461bffcb7bf",
       "size": null,
       "value": 2
      }
     },
     "bb4f2f5a82624216b02a42191138e0b8": {
      "model_module": "jupyter-materialui",
      "model_module_version": "^0.1.1",
      "model_name": "ToggleButtonModel",
      "state": {
       "_events": [],
       "children": [
        "IPY_MODEL_d16410373f784e23ba5da62b8f83aa33"
       ],
       "layout": "IPY_MODEL_8f2b0104fcea4a2aa8345d6ce884c09f",
       "size": null,
       "value": 3
      }
     },
     "bc704f5ad6e14d99baa2eb9e1a6c516b": {
      "model_module": "@jupyter-widgets/controls",
      "model_module_version": "1.5.0",
      "model_name": "CheckboxModel",
      "state": {
       "description": "visible",
       "disabled": false,
       "layout": "IPY_MODEL_417761c179d84084a68a1e49bf7cad76",
       "style": "IPY_MODEL_0092e8ffa80f4a57858f679e7bd2be89",
       "value": true
      }
     },
     "bca5b905a587424fa710372e89898c21": {
      "model_module": "@jupyter-widgets/controls",
      "model_module_version": "1.5.0",
      "model_name": "SliderStyleModel",
      "state": {
       "description_width": ""
      }
     },
     "bcd5e84d53ef4c398fa3b0bbce19b12a": {
      "model_module": "@jupyter-widgets/base",
      "model_module_version": "1.2.0",
      "model_name": "LayoutModel",
      "state": {}
     },
     "be721827be194d8b92635e051fc9a00f": {
      "model_module": "@jupyter-widgets/base",
      "model_module_version": "1.2.0",
      "model_name": "LayoutModel",
      "state": {}
     },
     "be75b51d73fc46b3b554e50ddaadc2ec": {
      "model_module": "jupyter-materialui",
      "model_module_version": "^0.1.1",
      "model_name": "ToggleButtonModel",
      "state": {
       "_events": [],
       "children": [
        "IPY_MODEL_fc10fa4cd4704ae6bf48b5c652c748d2"
       ],
       "layout": "IPY_MODEL_61c1ece2b1b848f59fe1a3ad02f21ad9",
       "size": null,
       "value": "bqplot:xrange"
      }
     },
     "c005aa9775f242c59f1be9dab734771f": {
      "model_module": "jupyter-vuetify",
      "model_module_version": "^1.1.1",
      "model_name": "ListItemActionModel",
      "state": {
       "_events": [],
       "_jupyter_vue": "IPY_MODEL_5d592719b6fc465d9656990e27f1b30c",
       "attributes": {},
       "children": [
        "IPY_MODEL_d16410373f784e23ba5da62b8f83aa33"
       ],
       "layout": "IPY_MODEL_37fdda6a3d6e4dfc93f3c994e56f05a3",
       "v_slots": []
      }
     },
     "c012c993e6e7418c9e9b0565ccf87de5": {
      "model_module": "jupyter-materialui",
      "model_module_version": "^0.1.1",
      "model_name": "FormControlLabelModel",
      "state": {
       "_events": [],
       "control": "IPY_MODEL_a440ab05185441758ffd64921812a1d3",
       "label": "Allow multiple subsets",
       "label_placement": null,
       "layout": "IPY_MODEL_564934156cfa437691267412e1ecca94",
       "value": null
      }
     },
     "c01477a25ad54d8b83860bddde054c10": {
      "model_module": "jupyter-vuetify",
      "model_module_version": "^1.1.1",
      "model_name": "BtnModel",
      "state": {
       "_events": [],
       "_jupyter_vue": "IPY_MODEL_5d592719b6fc465d9656990e27f1b30c",
       "attributes": {},
       "children": [
        "IPY_MODEL_95d6121892e34e4a836ca397fcebba05"
       ],
       "elevation": null,
       "height": null,
       "href": null,
       "icon": true,
       "layout": "IPY_MODEL_08fe5299375e4220a7d7ed5e1a56934c",
       "max_height": null,
       "max_width": null,
       "min_height": null,
       "min_width": null,
       "ripple": null,
       "to": null,
       "v_on": "tooltip.on",
       "v_slots": [],
       "value": "bqplot:xrange",
       "width": null
      }
     },
     "c074d2a44d36497b9a06acec4a67dfa5": {
      "model_module": "jupyter-vuetify",
      "model_module_version": "^1.1.1",
      "model_name": "TooltipModel",
      "state": {
       "_events": [],
       "_jupyter_vue": "IPY_MODEL_5d592719b6fc465d9656990e27f1b30c",
       "attributes": {},
       "bottom": true,
       "children": [
        "Select a range of x values"
       ],
       "close_delay": null,
       "layout": "IPY_MODEL_3b38300d13a74b78a307bbffebafbe15",
       "max_width": null,
       "min_width": null,
       "nudge_bottom": null,
       "nudge_left": null,
       "nudge_right": null,
       "nudge_top": null,
       "nudge_width": null,
       "open_delay": null,
       "v_slots": [
        {
         "children": "IPY_MODEL_c01477a25ad54d8b83860bddde054c10",
         "name": "activator",
         "variable": "tooltip"
        }
       ]
      }
     },
     "c0f393a3760d4e96ad31e74bb182d9cc": {
      "model_module": "@jupyter-widgets/controls",
      "model_module_version": "1.5.0",
      "model_name": "ToggleButtonModel",
      "state": {
       "description": "normalize",
       "layout": "IPY_MODEL_7571cc0a26544924a010312e98e8983f",
       "style": "IPY_MODEL_0a8e42b89d89421d90d4a103065e61dd",
       "tooltip": "Normalize histogram"
      }
     },
     "c16215350d4e47efb6e027084994923a": {
      "model_module": "bqplot",
      "model_module_version": "^0.5.3",
      "model_name": "LinearScaleModel",
      "state": {
       "stabilized": false
      }
     },
     "c5c0bddd0c144c9888e1fecfcc8d28ab": {
      "model_module": "jupyter-vuetify",
      "model_module_version": "^1.1.1",
      "model_name": "MenuModel",
      "state": {
       "_events": [],
       "_jupyter_vue": "IPY_MODEL_5d592719b6fc465d9656990e27f1b30c",
       "attributes": {},
       "children": [
        "IPY_MODEL_c7914ea640d3443f80c12e98822279e6"
       ],
       "close_delay": null,
       "layout": "IPY_MODEL_8d51d532615c435a8e1f16cd85d929c2",
       "max_height": null,
       "max_width": null,
       "min_width": null,
       "nudge_bottom": null,
       "nudge_left": null,
       "nudge_right": null,
       "nudge_top": null,
       "nudge_width": null,
       "open_delay": null,
       "transition": null,
       "v_slots": [
        {
         "children": "IPY_MODEL_e029a4f346ba47efa7fa35a8286efbd2",
         "name": "activator",
         "variable": "menu"
        }
       ],
       "z_index": null
      }
     },
     "c6d671c4b74a44e8bf0e205f834bede8": {
      "buffers": [
       {
        "data": "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",
        "encoding": "base64",
        "path": [
         "value"
        ]
       }
      ],
      "model_module": "@jupyter-widgets/controls",
      "model_module_version": "1.5.0",
      "model_name": "ImageModel",
      "state": {
       "format": "svg+xml",
       "layout": "IPY_MODEL_a33ad423cdd14af1be139f1281fb9d58",
       "value": {},
       "width": "20"
      }
     },
     "c7914ea640d3443f80c12e98822279e6": {
      "model_module": "jupyter-vuetify",
      "model_module_version": "^1.1.1",
      "model_name": "ListModel",
      "state": {
       "_events": [],
       "_jupyter_vue": "IPY_MODEL_5d592719b6fc465d9656990e27f1b30c",
       "attributes": {},
       "children": [
        "IPY_MODEL_0f0be953202c41809c7197e64d299e4a",
        "IPY_MODEL_8cf3574aa3cb4c14b26904049927870b",
        "IPY_MODEL_272f252b052149bfabd03f183c2a5ce2",
        "IPY_MODEL_f846ba3e7771415b8e0e30ff5c6b1375",
        "IPY_MODEL_4330ac2011254cc88a6f0d1681ee9b79"
       ],
       "elevation": null,
       "height": null,
       "layout": "IPY_MODEL_e0f9577c2d6046f3a1594eec9114e42a",
       "max_height": null,
       "max_width": null,
       "min_height": null,
       "min_width": null,
       "v_slots": [],
       "width": null
      }
     },
     "c8c932573e59408ca0a4d4287c36bb82": {
      "model_module": "@jupyter-widgets/controls",
      "model_module_version": "1.5.0",
      "model_name": "DescriptionStyleModel",
      "state": {
       "description_width": ""
      }
     },
     "c8ee137001bf4305bf7553cba36a5e7b": {
      "model_module": "bqplot",
      "model_module_version": "^0.5.3",
      "model_name": "LinearScaleModel",
      "state": {
       "stabilized": false
      }
     },
     "c91751897dae493486e29b681bab07ff": {
      "model_module": "bqplot",
      "model_module_version": "^0.5.3",
      "model_name": "BrushIntervalSelectorModel",
      "state": {
       "color": "green",
       "scale": "IPY_MODEL_5996b11f122c4711a46848a3d7d37ab6"
      }
     },
     "c94d27fb4868497d9c75e461bffcb7bf": {
      "model_module": "@jupyter-widgets/base",
      "model_module_version": "1.2.0",
      "model_name": "LayoutModel",
      "state": {}
     },
     "c950dce25b4b47d79d86a5d8b9f306dc": {
      "model_module": "@jupyter-widgets/base",
      "model_module_version": "1.2.0",
      "model_name": "LayoutModel",
      "state": {}
     },
     "c9ef8b51d19a4a39b53212bffa82e1f8": {
      "model_module": "@jupyter-widgets/controls",
      "model_module_version": "1.5.0",
      "model_name": "DropdownModel",
      "state": {
       "_options_labels": [
        "speed",
        "vx",
        "vy",
        "vz",
        "x",
        "y",
        "z",
        "Pixel Axis 0 [x]",
        "World 0"
       ],
       "description": "x axis",
       "index": 0,
       "layout": "IPY_MODEL_3dd90452375e4c9c80ca65a118a29082",
       "style": "IPY_MODEL_4ef56ef2ac804cb0824608f09538c907"
      }
     },
     "cb280a283c024523a21452f334e5e0be": {
      "model_module": "@jupyter-widgets/base",
      "model_module_version": "1.2.0",
      "model_name": "LayoutModel",
      "state": {}
     },
     "ccabe0d6a9e046f6bf893449bdbab46c": {
      "model_module": "@jupyter-widgets/base",
      "model_module_version": "1.2.0",
      "model_name": "LayoutModel",
      "state": {}
     },
     "cd64e5e711694ed98e79190a82da57a7": {
      "model_module": "@jupyter-widgets/controls",
      "model_module_version": "1.5.0",
      "model_name": "ColorPickerModel",
      "state": {
       "description": "color",
       "disabled": false,
       "layout": "IPY_MODEL_0af7b5275b4c413783dc6d6a12a204c8",
       "style": "IPY_MODEL_3571ea35ed2142bc81d89429bcc86ccd",
       "value": "#595959"
      }
     },
     "cd6dcb6df2e6400fa67bef15e55a7760": {
      "model_module": "jupyter-materialui",
      "model_module_version": "^0.1.1",
      "model_name": "MenuItemModel",
      "state": {
       "_events": [],
       "align_items": null,
       "children": [
        "No selection (create new)"
       ],
       "layout": "IPY_MODEL_3bdcf9cf67624914b3b087c09720aed1",
       "selected": true,
       "value": "new"
      }
     },
     "d0895f7668634dbeb557a710eb55bbac": {
      "model_module": "@jupyter-widgets/base",
      "model_module_version": "1.2.0",
      "model_name": "LayoutModel",
      "state": {}
     },
     "d16410373f784e23ba5da62b8f83aa33": {
      "buffers": [
       {
        "data": "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",
        "encoding": "base64",
        "path": [
         "value"
        ]
       }
      ],
      "model_module": "@jupyter-widgets/controls",
      "model_module_version": "1.5.0",
      "model_name": "ImageModel",
      "state": {
       "format": "svg+xml",
       "layout": "IPY_MODEL_be721827be194d8b92635e051fc9a00f",
       "value": {},
       "width": "20"
      }
     },
     "d1b306b2f4d34f93973be0c20928dbf0": {
      "model_module": "@jupyter-widgets/base",
      "model_module_version": "1.2.0",
      "model_name": "LayoutModel",
      "state": {}
     },
     "d1e9027e19a0411180b6611f968ce25e": {
      "model_module": "jupyter-materialui",
      "model_module_version": "^0.1.1",
      "model_name": "ToggleButtonModel",
      "state": {
       "_events": [],
       "children": [
        "IPY_MODEL_d16410373f784e23ba5da62b8f83aa33"
       ],
       "layout": "IPY_MODEL_522a5ea1bf944454add873c2e6243dd7",
       "size": null,
       "value": 3
      }
     },
     "d2473dc9d6584b59a663a711211f7c85": {
      "model_module": "jupyter-materialui",
      "model_module_version": "^0.1.1",
      "model_name": "ToggleButtonGroupModel",
      "state": {
       "_events": [],
       "children": [
        "IPY_MODEL_291b27c8d44847dc83a5e067eba04cd9",
        "IPY_MODEL_be75b51d73fc46b3b554e50ddaadc2ec"
       ],
       "exclusive": true,
       "layout": "IPY_MODEL_db8f9aea782a4b20a492cf809a8d4d91",
       "size": null,
       "value": null
      }
     },
     "d3a110cf5b1746b79005317b0d1078bd": {
      "model_module": "bqplot",
      "model_module_version": "^0.5.3",
      "model_name": "AxisModel",
      "state": {
       "grid_lines": "none",
       "label": "y",
       "orientation": "vertical",
       "scale": "IPY_MODEL_d7a685260ea9421283defeeb5ede622a",
       "side": "left",
       "tick_format": "0.2f",
       "tick_values": null
      }
     },
     "d41174a6296e44b3954be8f7deb472e2": {
      "model_module": "@jupyter-widgets/base",
      "model_module_version": "1.2.0",
      "model_name": "LayoutModel",
      "state": {}
     },
     "d5f90d5b3a9140a88ab35657457c2707": {
      "model_module": "@jupyter-widgets/base",
      "model_module_version": "1.2.0",
      "model_name": "LayoutModel",
      "state": {}
     },
     "d6c1c81f935343d7a7164d5f583b5c88": {
      "model_module": "@jupyter-widgets/base",
      "model_module_version": "1.2.0",
      "model_name": "LayoutModel",
      "state": {}
     },
     "d701f78c664c42b8ae7c392731400b6a": {
      "model_module": "@jupyter-widgets/output",
      "model_module_version": "1.0.0",
      "model_name": "OutputModel",
      "state": {
       "layout": "IPY_MODEL_eb2e85022c2743af97b8dd17b0e07d37"
      }
     },
     "d75517872c15481a9d2f2ddc5f55e959": {
      "model_module": "jupyter-vuetify",
      "model_module_version": "^1.1.1",
      "model_name": "ExpansionPanelHeaderModel",
      "state": {
       "_events": [],
       "_jupyter_vue": "IPY_MODEL_5d592719b6fc465d9656990e27f1b30c",
       "attributes": {},
       "children": [
        "Viewer Options"
       ],
       "class_": "font-weight-bold",
       "layout": "IPY_MODEL_503ee75dcecc4897afe139ae044e9184",
       "ripple": null,
       "v_slots": []
      }
     },
     "d78b0427b76844e4b039c697ff0160ba": {
      "model_module": "@jupyter-widgets/base",
      "model_module_version": "1.2.0",
      "model_name": "LayoutModel",
      "state": {}
     },
     "d7a685260ea9421283defeeb5ede622a": {
      "model_module": "bqplot",
      "model_module_version": "^0.5.3",
      "model_name": "LinearScaleModel",
      "state": {
       "max": 99.6,
       "min": 0,
       "stabilized": false
      }
     },
     "db813ea93a6a438595bb1ff866c30192": {
      "model_module": "@jupyter-widgets/base",
      "model_module_version": "1.2.0",
      "model_name": "LayoutModel",
      "state": {}
     },
     "db8f9aea782a4b20a492cf809a8d4d91": {
      "model_module": "@jupyter-widgets/base",
      "model_module_version": "1.2.0",
      "model_name": "LayoutModel",
      "state": {}
     },
     "dc3dcb9234514e1dab3ff1728f760ecd": {
      "model_module": "@jupyter-widgets/base",
      "model_module_version": "1.2.0",
      "model_name": "LayoutModel",
      "state": {}
     },
     "dca8ba106dcb4d058daa73ff4e1b6577": {
      "model_module": "jupyter-vuetify",
      "model_module_version": "^1.1.1",
      "model_name": "ListItemTitleModel",
      "state": {
       "_events": [],
       "_jupyter_vue": "IPY_MODEL_5d592719b6fc465d9656990e27f1b30c",
       "attributes": {},
       "children": [
        "and"
       ],
       "layout": "IPY_MODEL_92eab04d95164b95978b9d50ed03de24",
       "v_slots": []
      }
     },
     "dd811ad75f8341838ce62e079bfdd57c": {
      "model_module": "bqplot",
      "model_module_version": "^0.5.3",
      "model_name": "FigureModel",
      "state": {
       "_dom_classes": [],
       "axes": [
        "IPY_MODEL_4c2c6a0ec4a24516893c3580753074b5",
        "IPY_MODEL_d3a110cf5b1746b79005317b0d1078bd"
       ],
       "fig_margin": {
        "bottom": 60,
        "left": 60,
        "right": 10,
        "top": 10
       },
       "layout": "IPY_MODEL_28d25edd1a8f4527804e3812fa02a33d",
       "marks": [
        "IPY_MODEL_a2b2777e59f84fc38b5d6e94eae57d68"
       ],
       "padding_y": 0,
       "scale_x": "IPY_MODEL_b7d67f6cbce24e4a84fe4ac5b0d17023",
       "scale_y": "IPY_MODEL_02c0809510a5447c8983d943223ef24c"
      }
     },
     "de1cf411b2ab42f986171ab7075943b7": {
      "model_module": "bqplot",
      "model_module_version": "^0.5.3",
      "model_name": "LinearScaleModel",
      "state": {
       "stabilized": false
      }
     },
     "de9a57feeb0446149569b28369434de7": {
      "model_module": "bqplot",
      "model_module_version": "^0.5.3",
      "model_name": "LinearScaleModel",
      "state": {
       "stabilized": false
      }
     },
     "df3603b5883c41e182027ffe159cbfb9": {
      "buffers": [
       {
        "data": "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",
        "encoding": "base64",
        "path": [
         "value"
        ]
       }
      ],
      "model_module": "@jupyter-widgets/controls",
      "model_module_version": "1.5.0",
      "model_name": "ImageModel",
      "state": {
       "format": "svg+xml",
       "layout": "IPY_MODEL_fc89f059e2484f5fbe8f693ee031627e",
       "value": {},
       "width": "20"
      }
     },
     "df7f7e18ed824d8094c10bcd20ea1c77": {
      "model_module": "@jupyter-widgets/base",
      "model_module_version": "1.2.0",
      "model_name": "LayoutModel",
      "state": {}
     },
     "e029a4f346ba47efa7fa35a8286efbd2": {
      "model_module": "jupyter-vuetify",
      "model_module_version": "^1.1.1",
      "model_name": "BtnModel",
      "state": {
       "_events": [],
       "_jupyter_vue": "IPY_MODEL_5d592719b6fc465d9656990e27f1b30c",
       "attributes": {},
       "children": [
        "IPY_MODEL_e1bcde45491c42b2a4a09e3a8ac80a2c"
       ],
       "elevation": null,
       "height": null,
       "href": null,
       "icon": true,
       "layout": "IPY_MODEL_f48d0ab996ff41a58cfb603ad3278d5f",
       "max_height": null,
       "max_width": null,
       "min_height": null,
       "min_width": null,
       "ripple": null,
       "to": null,
       "v_on": "menu.on",
       "v_slots": [],
       "width": null
      }
     },
     "e0515f5750c44abf9ddb90bc189ac80f": {
      "model_module": "@jupyter-widgets/base",
      "model_module_version": "1.2.0",
      "model_name": "LayoutModel",
      "state": {}
     },
     "e0f9577c2d6046f3a1594eec9114e42a": {
      "model_module": "@jupyter-widgets/base",
      "model_module_version": "1.2.0",
      "model_name": "LayoutModel",
      "state": {}
     },
     "e1bcde45491c42b2a4a09e3a8ac80a2c": {
      "buffers": [
       {
        "data": "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",
        "encoding": "base64",
        "path": [
         "value"
        ]
       }
      ],
      "model_module": "@jupyter-widgets/controls",
      "model_module_version": "1.5.0",
      "model_name": "ImageModel",
      "state": {
       "format": "svg+xml",
       "layout": "IPY_MODEL_f2d7695739a74f2c888a63751d6a7896",
       "value": {},
       "width": "20"
      }
     },
     "e31ebc8d7c9e46feac1455392d4662ba": {
      "model_module": "@jupyter-widgets/base",
      "model_module_version": "1.2.0",
      "model_name": "LayoutModel",
      "state": {}
     },
     "e3a8848ded674ea58781e8a61fc993e1": {
      "model_module": "@jupyter-widgets/base",
      "model_module_version": "1.2.0",
      "model_name": "LayoutModel",
      "state": {}
     },
     "e3be009b47684f0d9b5d9121dbcb5a01": {
      "model_module": "@jupyter-widgets/base",
      "model_module_version": "1.2.0",
      "model_name": "LayoutModel",
      "state": {}
     },
     "e5bb881ddb05494ea05c86237ca6ccf8": {
      "model_module": "@jupyter-widgets/base",
      "model_module_version": "1.2.0",
      "model_name": "LayoutModel",
      "state": {}
     },
     "e60107a7102b4547adc4a55ef1b8ea42": {
      "model_module": "bqplot",
      "model_module_version": "^0.5.3",
      "model_name": "FigureModel",
      "state": {
       "_dom_classes": [],
       "axes": [
        "IPY_MODEL_e853f6d953174e9a840785aca2731ac2",
        "IPY_MODEL_74e6ee8aa56c463eabb02759212e1dd3"
       ],
       "layout": "IPY_MODEL_e31ebc8d7c9e46feac1455392d4662ba",
       "marks": [
        "IPY_MODEL_53f1c72397a84475a8832245da4d9ae5"
       ],
       "scale_x": "IPY_MODEL_a6809583828848a6bd6356d2ee1a5cf7",
       "scale_y": "IPY_MODEL_4058d347fff64ca19d8ff28256af0480",
       "title": "Histogram"
      }
     },
     "e6eb3af6b6534facac2bd4520495d643": {
      "model_module": "bqplot",
      "model_module_version": "^0.5.3",
      "model_name": "BrushIntervalSelectorModel",
      "state": {
       "marks": [
        "IPY_MODEL_33d7e4791ec642029a0eea082a222249"
       ],
       "scale": "IPY_MODEL_72e5b37cf8c0465d88798d384db38afd"
      }
     },
     "e7408de31404416f899a7f98d772c38d": {
      "model_module": "@jupyter-widgets/controls",
      "model_module_version": "1.5.0",
      "model_name": "ToggleButtonModel",
      "state": {
       "description": "cumulative",
       "layout": "IPY_MODEL_ccabe0d6a9e046f6bf893449bdbab46c",
       "style": "IPY_MODEL_9240f6ea82e84879963b935958539925",
       "tooltip": "Cumulative histogram"
      }
     },
     "e7846e9b8ae94972a446bc7e719b11e4": {
      "model_module": "jupyter-vuetify",
      "model_module_version": "^1.1.1",
      "model_name": "NavigationDrawerModel",
      "state": {
       "_events": [],
       "_jupyter_vue": "IPY_MODEL_5d592719b6fc465d9656990e27f1b30c",
       "absolute": true,
       "attributes": {},
       "children": [
        "IPY_MODEL_6a2fc10094c2488aa3b0716974be17e6",
        "IPY_MODEL_8b6fd3fbc3b34bd8b91f7b65ed57fed3"
       ],
       "height": null,
       "layout": "IPY_MODEL_d6c1c81f935343d7a7164d5f583b5c88",
       "mini_variant_width": null,
       "mobile_break_point": null,
       "overlay_opacity": null,
       "right": true,
       "src": null,
       "v_model": false,
       "v_slots": [],
       "width": "min-content"
      }
     },
     "e7b8110333084297a9a2aa26df3473b3": {
      "model_module": "jupyter-materialui",
      "model_module_version": "^0.1.1",
      "model_name": "ToggleButtonModel",
      "state": {
       "_events": [],
       "children": [
        "IPY_MODEL_0816836296a34195a1841c0eb7326986"
       ],
       "layout": "IPY_MODEL_1540516a418149969b319e7186a101d3",
       "size": null,
       "value": 4
      }
     },
     "e853f6d953174e9a840785aca2731ac2": {
      "model_module": "bqplot",
      "model_module_version": "^0.5.3",
      "model_name": "AxisModel",
      "state": {
       "orientation": "vertical",
       "scale": "IPY_MODEL_9fb6bbd09c8d4223a2bf6935c9a7d215",
       "side": "left",
       "tick_values": null
      }
     },
     "e8a99338d67d476c914c3e610ec01238": {
      "model_module": "@jupyter-widgets/controls",
      "model_module_version": "1.5.0",
      "model_name": "ToggleButtonModel",
      "state": {
       "description": "cumulative",
       "layout": "IPY_MODEL_bcd5e84d53ef4c398fa3b0bbce19b12a",
       "style": "IPY_MODEL_b2ff255f4aea4a68bdcba768f6553338",
       "tooltip": "Cumulative histogram"
      }
     },
     "e9a9acd05c7c491992d9a400458470ae": {
      "model_module": "jupyter-materialui",
      "model_module_version": "^0.1.1",
      "model_name": "ToggleButtonGroupModel",
      "state": {
       "_events": [],
       "children": [
        "IPY_MODEL_a540c12911d94757ad850e9d418f2169",
        "IPY_MODEL_20a4fc71e83f459a9bc389e2ccc75308",
        "IPY_MODEL_ba9731833c494e8cb0b9c94638ed9f81",
        "IPY_MODEL_bb4f2f5a82624216b02a42191138e0b8",
        "IPY_MODEL_a932ebb1038d449d8043060f73aecb1f"
       ],
       "exclusive": true,
       "layout": "IPY_MODEL_8223e377c1d24f8396efdb670a14add9",
       "size": null,
       "value": 0
      }
     },
     "ea007e1262404fb68dcd50bd5526574f": {
      "model_module": "@jupyter-widgets/base",
      "model_module_version": "1.2.0",
      "model_name": "LayoutModel",
      "state": {}
     },
     "ea626a35216e44cfa011070fc6051789": {
      "model_module": "jupyter-vuetify",
      "model_module_version": "^1.1.1",
      "model_name": "BtnModel",
      "state": {
       "_events": [],
       "_jupyter_vue": "IPY_MODEL_5d592719b6fc465d9656990e27f1b30c",
       "attributes": {},
       "children": [
        "IPY_MODEL_eebd93918b2347ad941cb3ad3ddcd97f"
       ],
       "elevation": null,
       "height": null,
       "href": null,
       "icon": true,
       "layout": "IPY_MODEL_efb26ad369eb4115894f578654469faa",
       "max_height": null,
       "max_width": null,
       "min_height": null,
       "min_width": null,
       "ripple": null,
       "to": null,
       "v_on": "tooltip.on",
       "v_slots": [],
       "value": "bqplot:panzoom",
       "width": null
      }
     },
     "ea650f682d0c4db28850ec07f9757dfd": {
      "model_module": "jupyter-vuetify",
      "model_module_version": "^1.1.1",
      "model_name": "ListItemModel",
      "state": {
       "_events": [
        "click"
       ],
       "_jupyter_vue": "IPY_MODEL_5d592719b6fc465d9656990e27f1b30c",
       "attributes": {},
       "children": [
        "IPY_MODEL_f75070b780c84b62a3deb169363dd624",
        "IPY_MODEL_3486f4e0755e477885723b7790a542a8"
       ],
       "href": null,
       "layout": "IPY_MODEL_42c84b9d1b89478cb8665835596baa7a",
       "ripple": null,
       "to": null,
       "v_slots": []
      }
     },
     "eb2e85022c2743af97b8dd17b0e07d37": {
      "model_module": "@jupyter-widgets/base",
      "model_module_version": "1.2.0",
      "model_name": "LayoutModel",
      "state": {}
     },
     "ebcbad00ee8f4a33bd9a77cb8a982533": {
      "model_module": "jupyter-materialui",
      "model_module_version": "^0.1.1",
      "model_name": "ToggleButtonGroupModel",
      "state": {
       "_events": [],
       "children": [
        "IPY_MODEL_8b8dec87032c4ce69c15a992b67ada71",
        "IPY_MODEL_af88341df4a54f4582ecc5de95f00157"
       ],
       "exclusive": true,
       "layout": "IPY_MODEL_06fce8e944044d26a8805ad4d5c378cf",
       "size": null,
       "value": null
      }
     },
     "ec1b76270f0f469a9c9381eaf24b7be1": {
      "model_module": "@jupyter-widgets/base",
      "model_module_version": "1.2.0",
      "model_name": "LayoutModel",
      "state": {}
     },
     "ec73a5abf2dc4db3a9bc268eb9b9b0ee": {
      "model_module": "jupyter-vuetify",
      "model_module_version": "^1.1.1",
      "model_name": "BtnModel",
      "state": {
       "_events": [],
       "_jupyter_vue": "IPY_MODEL_5d592719b6fc465d9656990e27f1b30c",
       "attributes": {},
       "children": [
        "IPY_MODEL_df3603b5883c41e182027ffe159cbfb9"
       ],
       "elevation": null,
       "height": null,
       "href": null,
       "icon": true,
       "layout": "IPY_MODEL_412ee83c8ff042acb88afb04be1f25ef",
       "max_height": null,
       "max_width": null,
       "min_height": null,
       "min_width": null,
       "ripple": null,
       "to": null,
       "v_on": "tooltip.on",
       "v_slots": [],
       "value": "bqplot:xrange",
       "width": null
      }
     },
     "ec8665d38eed444daf7193f132686ccc": {
      "model_module": "@jupyter-widgets/controls",
      "model_module_version": "1.5.0",
      "model_name": "VBoxModel",
      "state": {
       "children": [
        "IPY_MODEL_2f76645992994f4da3f39d1313358e8f",
        "IPY_MODEL_cd64e5e711694ed98e79190a82da57a7"
       ],
       "layout": "IPY_MODEL_60c1741f71334f319281801ad976ab75"
      }
     },
     "ed28fb63cdaf4113a7d2b53f6250ddc7": {
      "model_module": "jupyter-vuetify",
      "model_module_version": "^1.1.1",
      "model_name": "ExpansionPanelHeaderModel",
      "state": {
       "_events": [],
       "_jupyter_vue": "IPY_MODEL_5d592719b6fc465d9656990e27f1b30c",
       "attributes": {},
       "children": [
        "Viewer Options"
       ],
       "class_": "font-weight-bold",
       "layout": "IPY_MODEL_1db874de0a6d49d0b4d48295ab34eff0",
       "ripple": null,
       "v_slots": []
      }
     },
     "ed2a2a3dab4c4055bd8f77b291f3a78c": {
      "model_module": "jupyter-vuetify",
      "model_module_version": "^1.1.1",
      "model_name": "ListModel",
      "state": {
       "_events": [],
       "_jupyter_vue": "IPY_MODEL_5d592719b6fc465d9656990e27f1b30c",
       "attributes": {},
       "children": [
        "IPY_MODEL_6e5567eae1eb4bcdbe649dad68c000d2",
        "IPY_MODEL_ea650f682d0c4db28850ec07f9757dfd",
        "IPY_MODEL_531dbfa3042843eb9c064c65474877b9",
        "IPY_MODEL_4c9f4b605cf74ea19cff5b9c3cc4db84",
        "IPY_MODEL_f6e6d64cbffe484aadd46807a88abe03"
       ],
       "elevation": null,
       "height": null,
       "layout": "IPY_MODEL_fbd2699c96f24d1b9d555a901de0a137",
       "max_height": null,
       "max_width": null,
       "min_height": null,
       "min_width": null,
       "v_slots": [],
       "width": null
      }
     },
     "edfd024a981b4400b175d87fc586332b": {
      "model_module": "@jupyter-widgets/base",
      "model_module_version": "1.2.0",
      "model_name": "LayoutModel",
      "state": {}
     },
     "eebd93918b2347ad941cb3ad3ddcd97f": {
      "buffers": [
       {
        "data": "PD94bWwgdmVyc2lvbj0iMS4wIiBlbmNvZGluZz0iVVRGLTgiIHN0YW5kYWxvbmU9Im5vIj8+CjwhLS0gQ3JlYXRlZCB3aXRoIElua3NjYXBlIChodHRwOi8vd3d3Lmlua3NjYXBlLm9yZy8pIC0tPgoKPHN2ZwogICB4bWxuczpkYz0iaHR0cDovL3B1cmwub3JnL2RjL2VsZW1lbnRzLzEuMS8iCiAgIHhtbG5zOmNjPSJodHRwOi8vY3JlYXRpdmVjb21tb25zLm9yZy9ucyMiCiAgIHhtbG5zOnJkZj0iaHR0cDovL3d3dy53My5vcmcvMTk5OS8wMi8yMi1yZGYtc3ludGF4LW5zIyIKICAgeG1sbnM6c3ZnPSJodHRwOi8vd3d3LnczLm9yZy8yMDAwL3N2ZyIKICAgeG1sbnM9Imh0dHA6Ly93d3cudzMub3JnLzIwMDAvc3ZnIgogICB4bWxuczppbmtzY2FwZT0iaHR0cDovL3d3dy5pbmtzY2FwZS5vcmcvbmFtZXNwYWNlcy9pbmtzY2FwZSIKICAgdmVyc2lvbj0iMS4xIgogICB3aWR0aD0iMzcuNSIKICAgaGVpZ2h0PSIzNy41IgogICBpZD0ic3ZnMiIKICAgeG1sOnNwYWNlPSJwcmVzZXJ2ZSI+PG1ldGFkYXRhCiAgICAgaWQ9Im1ldGFkYXRhOCI+PHJkZjpSREY+PGNjOldvcmsKICAgICAgICAgcmRmOmFib3V0PSIiPjxkYzpmb3JtYXQ+aW1hZ2Uvc3ZnK3htbDwvZGM6Zm9ybWF0PjxkYzp0eXBlCiAgICAgICAgICAgcmRmOnJlc291cmNlPSJodHRwOi8vcHVybC5vcmcvZGMvZGNtaXR5cGUvU3RpbGxJbWFnZSIgLz48L2NjOldvcms+PC9yZGY6UkRGPjwvbWV0YWRhdGE+PGRlZnMKICAgICBpZD0iZGVmczYiPjxjbGlwUGF0aAogICAgICAgaWQ9ImNsaXBQYXRoMTYiPjxwYXRoCiAgICAgICAgIGQ9Ik0gMCwzMCAzMCwzMCAzMCwwIDAsMCAwLDMwIHoiCiAgICAgICAgIGlua3NjYXBlOmNvbm5lY3Rvci1jdXJ2YXR1cmU9IjAiCiAgICAgICAgIGlkPSJwYXRoMTgiIC8+PC9jbGlwUGF0aD48Y2xpcFBhdGgKICAgICAgIGlkPSJjbGlwUGF0aDI0Ij48cGF0aAogICAgICAgICBkPSJtIDExLjYyOTQsMjguMzEzNSA3LjExNDMsMCAwLC0xMS4zNTY1IC03LjExNDMsMCAwLDExLjM1NjUgeiIKICAgICAgICAgaW5rc2NhcGU6Y29ubmVjdG9yLWN1cnZhdHVyZT0iMCIKICAgICAgICAgaWQ9InBhdGgyNiIgLz48L2NsaXBQYXRoPjxjbGlwUGF0aAogICAgICAgaWQ9ImNsaXBQYXRoNDAiPjxwYXRoCiAgICAgICAgIGQ9Im0gMTAuNjcxNCwyOS4yMDI2IDkuMDAyOSwwIDAsLTEyLjc0NTYgLTkuMDAyOSwwIDAsMTIuNzQ1NiB6IgogICAgICAgICBpbmtzY2FwZTpjb25uZWN0b3ItY3VydmF0dXJlPSIwIgogICAgICAgICBpZD0icGF0aDQyIiAvPjwvY2xpcFBhdGg+PGNsaXBQYXRoCiAgICAgICBpZD0iY2xpcFBhdGg1NiI+PHBhdGgKICAgICAgICAgZD0ibSAxNS4yOTE1LDE4LjMyODEgMTMuNDc3NSwwIDAsLTYuOTY4NyAtMTMuNDc3NSwwIDAsNi45Njg3IHoiCiAgICAgICAgIGlua3NjYXBlOmNvbm5lY3Rvci1jdXJ2YXR1cmU9IjAiCiAgICAgICAgIGlkPSJwYXRoNTgiIC8+PC9jbGlwUGF0aD48Y2xpcFBhdGgKICAgICAgIGlkPSJjbGlwUGF0aDcyIj48cGF0aAogICAgICAgICBkPSJtIDE0Ljc5MTUsMTkuMjg2MSAxNC44NjY3LDAgMCwtOC44NTc5IC0xNC44NjY3LDAgMCw4Ljg1NzkgeiIKICAgICAgICAgaW5rc2NhcGU6Y29ubmVjdG9yLWN1cnZhdHVyZT0iMCIKICAgICAgICAgaWQ9InBhdGg3NCIgLz48L2NsaXBQYXRoPjxjbGlwUGF0aAogICAgICAgaWQ9ImNsaXBQYXRoODgiPjxwYXRoCiAgICAgICAgIGQ9Im0gMTEuNTM3NiwxMy4xMzU3IDcuMjU0OSwwIDAsLTExLjQ0OTE4IC03LjI1NDksMCAwLDExLjQ0OTE4IHoiCiAgICAgICAgIGlua3NjYXBlOmNvbm5lY3Rvci1jdXJ2YXR1cmU9IjAiCiAgICAgICAgIGlkPSJwYXRoOTAiIC8+PC9jbGlwUGF0aD48Y2xpcFBhdGgKICAgICAgIGlkPSJjbGlwUGF0aDEwNCI+PHBhdGgKICAgICAgICAgZD0ibSAxMC42MDY5LDEzLjYzNTcgOS4xNDM2LDAgMCwtMTIuODM4ODI1IC05LjE0MzYsMCAwLDEyLjgzODgyNSB6IgogICAgICAgICBpbmtzY2FwZTpjb25uZWN0b3ItY3VydmF0dXJlPSIwIgogICAgICAgICBpZD0icGF0aDEwNiIgLz48L2NsaXBQYXRoPjxjbGlwUGF0aAogICAgICAgaWQ9ImNsaXBQYXRoMTIwIj48cGF0aAogICAgICAgICBkPSJtIDEuMjMwOTYsMTguNTM2MSAxMy4zOTE2NCwwIDAsLTcuMTg1NSAtMTMuMzkxNjQsMCAwLDcuMTg1NSB6IgogICAgICAgICBpbmtzY2FwZTpjb25uZWN0b3ItY3VydmF0dXJlPSIwIgogICAgICAgICBpZD0icGF0aDEyMiIgLz48L2NsaXBQYXRoPjxjbGlwUGF0aAogICAgICAgaWQ9ImNsaXBQYXRoMTM2Ij48cGF0aAogICAgICAgICBkPSJtIDAuMzQxNzk3LDE5LjQ2NjggMTQuNzgwODAzLDAgMCwtOS4wNzM3IC0xNC43ODA4MDMsMCAwLDkuMDczNyB6IgogICAgICAgICBpbmtzY2FwZTpjb25uZWN0b3ItY3VydmF0dXJlPSIwIgogICAgICAgICBpZD0icGF0aDEzOCIgLz48L2NsaXBQYXRoPjwvZGVmcz48ZwogICAgIHRyYW5zZm9ybT0ibWF0cml4KDEuMjUsMCwwLC0xLjI1LDAsMzcuNSkiCiAgICAgaWQ9ImcxMCI+PGcKICAgICAgIGlkPSJnMTIiPjxnCiAgICAgICAgIGNsaXAtcGF0aD0idXJsKCNjbGlwUGF0aDE2KSIKICAgICAgICAgaWQ9ImcxNCI+PGcKICAgICAgICAgICBpZD0iZzIwIj48ZwogICAgICAgICAgICAgaWQ9ImcyMiIgLz48ZwogICAgICAgICAgICAgaWQ9ImcyOCI+PGcKICAgICAgICAgICAgICAgY2xpcC1wYXRoPSJ1cmwoI2NsaXBQYXRoMjQpIgogICAgICAgICAgICAgICBpZD0iZzMwIgogICAgICAgICAgICAgICBzdHlsZT0ib3BhY2l0eTowLjk5MjE1Njk4Ij48ZwogICAgICAgICAgICAgICAgIHRyYW5zZm9ybT0idHJhbnNsYXRlKDE1LjE3ODIsMjguMzEzNSkiCiAgICAgICAgICAgICAgICAgaWQ9ImczMiI+PHBhdGgKICAgICAgICAgICAgICAgICAgIGQ9Im0gMCwwIDMuNTY1LC01LjE2NCAtMi4wMzQsLTAuMDcgLTAuMDM3LC02LjEyMiAtMi45ODksMCAtMC4wMzYsNi4xMjIgTCAtMy41NDksLTUuMzAyIDAsMCB6IgogICAgICAgICAgICAgICAgICAgaW5rc2NhcGU6Y29ubmVjdG9yLWN1cnZhdHVyZT0iMCIKICAgICAgICAgICAgICAgICAgIGlkPSJwYXRoMzQiCiAgICAgICAgICAgICAgICAgICBzdHlsZT0iZmlsbDojMmQ2NjgzO2ZpbGwtb3BhY2l0eToxO2ZpbGwtcnVsZTpub256ZXJvO3N0cm9rZTpub25lIiAvPjwvZz48L2c+PC9nPjwvZz48ZwogICAgICAgICAgIGlkPSJnMzYiPjxnCiAgICAgICAgICAgICBpZD0iZzM4IiAvPjxnCiAgICAgICAgICAgICBpZD0iZzQ0Ij48ZwogICAgICAgICAgICAgICBjbGlwLXBhdGg9InVybCgjY2xpcFBhdGg0MCkiCiAgICAgICAgICAgICAgIGlkPSJnNDYiCiAgICAgICAgICAgICAgIHN0eWxlPSJvcGFjaXR5OjAuOTkwMDA1MDEiPjxnCiAgICAgICAgICAgICAgICAgdHJhbnNmb3JtPSJ0cmFuc2xhdGUoMTUuMTc4MiwyOC4zMTM1KSIKICAgICAgICAgICAgICAgICBpZD0iZzQ4Ij48cGF0aAogICAgICAgICAgICAgICAgICAgZD0ibSAwLDAgMy41NjUsLTUuMTY0IC0yLjAzNCwtMC4wNyAtMC4wMzcsLTYuMTIyIC0yLjk4OSwwIC0wLjAzNiw2LjEyMiBMIC0zLjU0OSwtNS4zMDIgMCwwIHoiCiAgICAgICAgICAgICAgICAgICBpbmtzY2FwZTpjb25uZWN0b3ItY3VydmF0dXJlPSIwIgogICAgICAgICAgICAgICAgICAgaWQ9InBhdGg1MCIKICAgICAgICAgICAgICAgICAgIHN0eWxlPSJmaWxsOm5vbmU7c3Ryb2tlOiMyZDY2ODM7c3Ryb2tlLXdpZHRoOjE7c3Ryb2tlLWxpbmVjYXA6YnV0dDtzdHJva2UtbGluZWpvaW46bWl0ZXI7c3Ryb2tlLW1pdGVybGltaXQ6NDtzdHJva2Utb3BhY2l0eToxO3N0cm9rZS1kYXNoYXJyYXk6bm9uZSIgLz48L2c+PC9nPjwvZz48L2c+PGcKICAgICAgICAgICBpZD0iZzUyIj48ZwogICAgICAgICAgICAgaWQ9Imc1NCIgLz48ZwogICAgICAgICAgICAgaWQ9Imc2MCI+PGcKICAgICAgICAgICAgICAgY2xpcC1wYXRoPSJ1cmwoI2NsaXBQYXRoNTYpIgogICAgICAgICAgICAgICBpZD0iZzYyIgogICAgICAgICAgICAgICBzdHlsZT0ib3BhY2l0eTowLjk5MjE1Njk4Ij48ZwogICAgICAgICAgICAgICAgIHRyYW5zZm9ybT0idHJhbnNsYXRlKDI4Ljc2OSwxNC44NTI1KSIKICAgICAgICAgICAgICAgICBpZD0iZzY0Ij48cGF0aAogICAgICAgICAgICAgICAgICAgZD0ibSAwLDAgLTUuMDU5LC0zLjQ5MyAtMC4wNjgsMS45OTMgLTguMzUxLDAuMTI5IDAsMi45MjcgTCAtNS4xMjcsMS40OTkgLTUuMTkzLDMuNDc2IDAsMCB6IgogICAgICAgICAgICAgICAgICAgaW5rc2NhcGU6Y29ubmVjdG9yLWN1cnZhdHVyZT0iMCIKICAgICAgICAgICAgICAgICAgIGlkPSJwYXRoNjYiCiAgICAgICAgICAgICAgICAgICBzdHlsZT0iZmlsbDojMmQ2NjgzO2ZpbGwtb3BhY2l0eToxO2ZpbGwtcnVsZTpub256ZXJvO3N0cm9rZTpub25lIiAvPjwvZz48L2c+PC9nPjwvZz48ZwogICAgICAgICAgIGlkPSJnNjgiPjxnCiAgICAgICAgICAgICBpZD0iZzcwIiAvPjxnCiAgICAgICAgICAgICBpZD0iZzc2Ij48ZwogICAgICAgICAgICAgICBjbGlwLXBhdGg9InVybCgjY2xpcFBhdGg3MikiCiAgICAgICAgICAgICAgIGlkPSJnNzgiCiAgICAgICAgICAgICAgIHN0eWxlPSJvcGFjaXR5OjAuOTkwMDA1MDEiPjxnCiAgICAgICAgICAgICAgICAgdHJhbnNmb3JtPSJ0cmFuc2xhdGUoMjguNzY5LDE0Ljg1MjUpIgogICAgICAgICAgICAgICAgIGlkPSJnODAiPjxwYXRoCiAgICAgICAgICAgICAgICAgICBkPSJtIDAsMCAtNS4wNTksLTMuNDkzIC0wLjA2OCwxLjk5MyAtOC4zNTEsMC4xMjkgMCwyLjkyNyBMIC01LjEyNywxLjQ5OSAtNS4xOTMsMy40NzYgMCwwIHoiCiAgICAgICAgICAgICAgICAgICBpbmtzY2FwZTpjb25uZWN0b3ItY3VydmF0dXJlPSIwIgogICAgICAgICAgICAgICAgICAgaWQ9InBhdGg4MiIKICAgICAgICAgICAgICAgICAgIHN0eWxlPSJmaWxsOm5vbmU7c3Ryb2tlOiMyZDY2ODM7c3Ryb2tlLXdpZHRoOjE7c3Ryb2tlLWxpbmVjYXA6YnV0dDtzdHJva2UtbGluZWpvaW46bWl0ZXI7c3Ryb2tlLW1pdGVybGltaXQ6NDtzdHJva2Utb3BhY2l0eToxO3N0cm9rZS1kYXNoYXJyYXk6bm9uZSIgLz48L2c+PC9nPjwvZz48L2c+PGcKICAgICAgICAgICBpZD0iZzg0Ij48ZwogICAgICAgICAgICAgaWQ9Imc4NiIgLz48ZwogICAgICAgICAgICAgaWQ9Imc5MiI+PGcKICAgICAgICAgICAgICAgY2xpcC1wYXRoPSJ1cmwoI2NsaXBQYXRoODgpIgogICAgICAgICAgICAgICBpZD0iZzk0IgogICAgICAgICAgICAgICBzdHlsZT0ib3BhY2l0eTowLjk5MjE1Njk4Ij48ZwogICAgICAgICAgICAgICAgIHRyYW5zZm9ybT0idHJhbnNsYXRlKDE1LjE3MzMsMS42ODY1KSIKICAgICAgICAgICAgICAgICBpZD0iZzk2Ij48cGF0aAogICAgICAgICAgICAgICAgICAgZD0ibSAwLDAgLTMuNjM2LDUuMjY3IDIuMDc1LDAuMDcxIDAuMDM4LDYuMTExIDMuMDQ3LDAgTCAxLjU2Myw1LjMzOCAzLjYxOSw1LjQwNyAwLDAgeiIKICAgICAgICAgICAgICAgICAgIGlua3NjYXBlOmNvbm5lY3Rvci1jdXJ2YXR1cmU9IjAiCiAgICAgICAgICAgICAgICAgICBpZD0icGF0aDk4IgogICAgICAgICAgICAgICAgICAgc3R5bGU9ImZpbGw6IzJkNjY4MztmaWxsLW9wYWNpdHk6MTtmaWxsLXJ1bGU6bm9uemVybztzdHJva2U6bm9uZSIgLz48L2c+PC9nPjwvZz48L2c+PGcKICAgICAgICAgICBpZD0iZzEwMCI+PGcKICAgICAgICAgICAgIGlkPSJnMTAyIiAvPjxnCiAgICAgICAgICAgICBpZD0iZzEwOCI+PGcKICAgICAgICAgICAgICAgY2xpcC1wYXRoPSJ1cmwoI2NsaXBQYXRoMTA0KSIKICAgICAgICAgICAgICAgaWQ9ImcxMTAiCiAgICAgICAgICAgICAgIHN0eWxlPSJvcGFjaXR5OjAuOTkwMDA1MDEiPjxnCiAgICAgICAgICAgICAgICAgdHJhbnNmb3JtPSJ0cmFuc2xhdGUoMTUuMTczMywxLjY4NjUpIgogICAgICAgICAgICAgICAgIGlkPSJnMTEyIj48cGF0aAogICAgICAgICAgICAgICAgICAgZD0ibSAwLDAgLTMuNjM2LDUuMjY3IDIuMDc1LDAuMDcxIDAuMDM4LDYuMTExIDMuMDQ3LDAgTCAxLjU2Myw1LjMzOCAzLjYxOSw1LjQwNyAwLDAgeiIKICAgICAgICAgICAgICAgICAgIGlua3NjYXBlOmNvbm5lY3Rvci1jdXJ2YXR1cmU9IjAiCiAgICAgICAgICAgICAgICAgICBpZD0icGF0aDExNCIKICAgICAgICAgICAgICAgICAgIHN0eWxlPSJmaWxsOm5vbmU7c3Ryb2tlOiMyZDY2ODM7c3Ryb2tlLXdpZHRoOjE7c3Ryb2tlLWxpbmVjYXA6YnV0dDtzdHJva2UtbGluZWpvaW46bWl0ZXI7c3Ryb2tlLW1pdGVybGltaXQ6NDtzdHJva2Utb3BhY2l0eToxO3N0cm9rZS1kYXNoYXJyYXk6bm9uZSIgLz48L2c+PC9nPjwvZz48L2c+PGcKICAgICAgICAgICBpZD0iZzExNiI+PGcKICAgICAgICAgICAgIGlkPSJnMTE4IiAvPjxnCiAgICAgICAgICAgICBpZD0iZzEyNCI+PGcKICAgICAgICAgICAgICAgY2xpcC1wYXRoPSJ1cmwoI2NsaXBQYXRoMTIwKSIKICAgICAgICAgICAgICAgaWQ9ImcxMjYiCiAgICAgICAgICAgICAgIHN0eWxlPSJvcGFjaXR5OjAuOTkyMTU2OTgiPjxnCiAgICAgICAgICAgICAgICAgdHJhbnNmb3JtPSJ0cmFuc2xhdGUoMS4yMzEsMTQuOTM0NikiCiAgICAgICAgICAgICAgICAgaWQ9ImcxMjgiPjxwYXRoCiAgICAgICAgICAgICAgICAgICBkPSJtIDAsMCA1LjIxNiwzLjYwMiAwLjA3MSwtMi4wNTYgOC4xMDUsLTAuMDM2IDAsLTMuMDIgTCA1LjI4NywtMS41NDYgNS4zNTQsLTMuNTg0IDAsMCB6IgogICAgICAgICAgICAgICAgICAgaW5rc2NhcGU6Y29ubmVjdG9yLWN1cnZhdHVyZT0iMCIKICAgICAgICAgICAgICAgICAgIGlkPSJwYXRoMTMwIgogICAgICAgICAgICAgICAgICAgc3R5bGU9ImZpbGw6IzJkNjY4MztmaWxsLW9wYWNpdHk6MTtmaWxsLXJ1bGU6bm9uemVybztzdHJva2U6bm9uZSIgLz48L2c+PC9nPjwvZz48L2c+PGcKICAgICAgICAgICBpZD0iZzEzMiI+PGcKICAgICAgICAgICAgIGlkPSJnMTM0IiAvPjxnCiAgICAgICAgICAgICBpZD0iZzE0MCI+PGcKICAgICAgICAgICAgICAgY2xpcC1wYXRoPSJ1cmwoI2NsaXBQYXRoMTM2KSIKICAgICAgICAgICAgICAgaWQ9ImcxNDIiCiAgICAgICAgICAgICAgIHN0eWxlPSJvcGFjaXR5OjAuOTkwMDA1MDEiPjxnCiAgICAgICAgICAgICAgICAgdHJhbnNmb3JtPSJ0cmFuc2xhdGUoMS4yMzEsMTQuOTM0NikiCiAgICAgICAgICAgICAgICAgaWQ9ImcxNDQiPjxwYXRoCiAgICAgICAgICAgICAgICAgICBkPSJtIDAsMCA1LjIxNiwzLjYwMiAwLjA3MSwtMi4wNTYgOC4xMDUsLTAuMDM2IDAsLTMuMDIgTCA1LjI4NywtMS41NDYgNS4zNTQsLTMuNTg0IDAsMCB6IgogICAgICAgICAgICAgICAgICAgaW5rc2NhcGU6Y29ubmVjdG9yLWN1cnZhdHVyZT0iMCIKICAgICAgICAgICAgICAgICAgIGlkPSJwYXRoMTQ2IgogICAgICAgICAgICAgICAgICAgc3R5bGU9ImZpbGw6bm9uZTtzdHJva2U6IzJkNjY4MztzdHJva2Utd2lkdGg6MTtzdHJva2UtbGluZWNhcDpidXR0O3N0cm9rZS1saW5lam9pbjptaXRlcjtzdHJva2UtbWl0ZXJsaW1pdDo0O3N0cm9rZS1vcGFjaXR5OjE7c3Ryb2tlLWRhc2hhcnJheTpub25lIiAvPjwvZz48L2c+PC9nPjwvZz48L2c+PC9nPjwvZz48L3N2Zz4=",
        "encoding": "base64",
        "path": [
         "value"
        ]
       }
      ],
      "model_module": "@jupyter-widgets/controls",
      "model_module_version": "1.5.0",
      "model_name": "ImageModel",
      "state": {
       "format": "svg+xml",
       "layout": "IPY_MODEL_a419cb02af104ea096caf279a9a27a38",
       "value": {},
       "width": "20"
      }
     },
     "efb26ad369eb4115894f578654469faa": {
      "model_module": "@jupyter-widgets/base",
      "model_module_version": "1.2.0",
      "model_name": "LayoutModel",
      "state": {}
     },
     "f2d7695739a74f2c888a63751d6a7896": {
      "model_module": "@jupyter-widgets/base",
      "model_module_version": "1.2.0",
      "model_name": "LayoutModel",
      "state": {}
     },
     "f35f905ebba245e3bba6b1d8098f6f8c": {
      "model_module": "@jupyter-widgets/base",
      "model_module_version": "1.2.0",
      "model_name": "LayoutModel",
      "state": {}
     },
     "f48d0ab996ff41a58cfb603ad3278d5f": {
      "model_module": "@jupyter-widgets/base",
      "model_module_version": "1.2.0",
      "model_name": "LayoutModel",
      "state": {}
     },
     "f50fc6fd59394876854873dfff36ea71": {
      "model_module": "jupyter-vuetify",
      "model_module_version": "^1.1.1",
      "model_name": "ColModel",
      "state": {
       "_events": [],
       "_jupyter_vue": "IPY_MODEL_5d592719b6fc465d9656990e27f1b30c",
       "attributes": {},
       "children": [
        "IPY_MODEL_78538fa161f74175ac0c2ceff59e4590"
       ],
       "cols": 12,
       "layout": "IPY_MODEL_2f6e21deb44443b79fa46985404fb7d7",
       "lg": null,
       "md": null,
       "offset": null,
       "offset_lg": null,
       "offset_md": null,
       "offset_sm": null,
       "offset_xl": null,
       "order": null,
       "order_lg": null,
       "order_md": null,
       "order_sm": null,
       "order_xl": null,
       "sm": null,
       "v_slots": [],
       "xl": null
      }
     },
     "f6e6d64cbffe484aadd46807a88abe03": {
      "model_module": "jupyter-vuetify",
      "model_module_version": "^1.1.1",
      "model_name": "ListItemModel",
      "state": {
       "_events": [
        "click"
       ],
       "_jupyter_vue": "IPY_MODEL_5d592719b6fc465d9656990e27f1b30c",
       "attributes": {},
       "children": [
        "IPY_MODEL_797bf8696aa44c4a8edc013c0404a1b1",
        "IPY_MODEL_39d3e3077ccd4ff1aeff806ecd066cd5"
       ],
       "href": null,
       "layout": "IPY_MODEL_5802476bd3d34a33bf37eb3f1954e4b7",
       "ripple": null,
       "to": null,
       "v_slots": []
      }
     },
     "f75070b780c84b62a3deb169363dd624": {
      "model_module": "jupyter-vuetify",
      "model_module_version": "^1.1.1",
      "model_name": "ListItemActionModel",
      "state": {
       "_events": [],
       "_jupyter_vue": "IPY_MODEL_5d592719b6fc465d9656990e27f1b30c",
       "attributes": {},
       "children": [
        "IPY_MODEL_160dff73d80b44e18fc7cca32f31fad8"
       ],
       "layout": "IPY_MODEL_53515f6fa7794b0eb6365b6d6c058db8",
       "v_slots": []
      }
     },
     "f846ba3e7771415b8e0e30ff5c6b1375": {
      "model_module": "jupyter-vuetify",
      "model_module_version": "^1.1.1",
      "model_name": "ListItemModel",
      "state": {
       "_events": [
        "click"
       ],
       "_jupyter_vue": "IPY_MODEL_5d592719b6fc465d9656990e27f1b30c",
       "attributes": {},
       "children": [
        "IPY_MODEL_c005aa9775f242c59f1be9dab734771f",
        "IPY_MODEL_541488b6777f401cbe2aa92c7dbb59ee"
       ],
       "href": null,
       "layout": "IPY_MODEL_af1fc8fa5648499a950584bcf8e8e424",
       "ripple": null,
       "to": null,
       "v_slots": []
      }
     },
     "fa249a15ee284599960b52394e61cf5d": {
      "model_module": "bqplot",
      "model_module_version": "^0.5.3",
      "model_name": "PanZoomModel",
      "state": {
       "scales": {
        "x": [
         "IPY_MODEL_5996b11f122c4711a46848a3d7d37ab6"
        ],
        "y": [
         "IPY_MODEL_fc0252ddfbfa432586d3d4e9131bc7d8"
        ]
       }
      }
     },
     "fb61d287175c4d11afb0451e5ad1a8f2": {
      "model_module": "jupyter-materialui",
      "model_module_version": "^0.1.1",
      "model_name": "SelectModel",
      "state": {
       "_events": [],
       "children": [
        "IPY_MODEL_1f16776cc84f4c20aa1a90ca2708f7dc",
        "IPY_MODEL_cd6dcb6df2e6400fa67bef15e55a7760"
       ],
       "default_value": null,
       "end_adornment": null,
       "input": null,
       "layout": "IPY_MODEL_03d7cce6e1b446d29c28179900eb7bdf",
       "margin": null,
       "start_adornment": null,
       "value": "new",
       "variant": null
      }
     },
     "fb83c39945074136b930cdcdf904ebef": {
      "model_module": "@jupyter-widgets/base",
      "model_module_version": "1.2.0",
      "model_name": "LayoutModel",
      "state": {}
     },
     "fbc22a907fe84fd69e393ae1baafba6e": {
      "model_module": "jupyter-vuetify",
      "model_module_version": "^1.1.1",
      "model_name": "ColModel",
      "state": {
       "_events": [],
       "_jupyter_vue": "IPY_MODEL_5d592719b6fc465d9656990e27f1b30c",
       "attributes": {},
       "children": [
        "IPY_MODEL_dd811ad75f8341838ce62e079bfdd57c"
       ],
       "cols": 12,
       "layout": "IPY_MODEL_831a0138afbd42ddbf8a7b5476e2f5ce",
       "lg": null,
       "md": null,
       "offset": null,
       "offset_lg": null,
       "offset_md": null,
       "offset_sm": null,
       "offset_xl": null,
       "order": null,
       "order_lg": null,
       "order_md": null,
       "order_sm": null,
       "order_xl": null,
       "sm": null,
       "v_slots": [],
       "xl": null
      }
     },
     "fbd2699c96f24d1b9d555a901de0a137": {
      "model_module": "@jupyter-widgets/base",
      "model_module_version": "1.2.0",
      "model_name": "LayoutModel",
      "state": {}
     },
     "fc0252ddfbfa432586d3d4e9131bc7d8": {
      "model_module": "bqplot",
      "model_module_version": "^0.5.3",
      "model_name": "LinearScaleModel",
      "state": {
       "max": 99.6,
       "min": 0,
       "stabilized": false
      }
     },
     "fc10fa4cd4704ae6bf48b5c652c748d2": {
      "buffers": [
       {
        "data": "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",
        "encoding": "base64",
        "path": [
         "value"
        ]
       }
      ],
      "model_module": "@jupyter-widgets/controls",
      "model_module_version": "1.5.0",
      "model_name": "ImageModel",
      "state": {
       "format": "svg+xml",
       "layout": "IPY_MODEL_279f7f0bb0da4202b91f75a9d046ebfe",
       "value": {},
       "width": "20"
      }
     },
     "fc89e013474b4c59a51ab6c2ee05751b": {
      "model_module": "bqplot",
      "model_module_version": "^0.5.3",
      "model_name": "BrushIntervalSelectorModel",
      "state": {
       "marks": [
        "IPY_MODEL_ff60ab1660ae4474b25d6b4def4c9ac7"
       ],
       "scale": "IPY_MODEL_44b1d5084adc4d6490e286899b866996"
      }
     },
     "fc89f059e2484f5fbe8f693ee031627e": {
      "model_module": "@jupyter-widgets/base",
      "model_module_version": "1.2.0",
      "model_name": "LayoutModel",
      "state": {}
     },
     "fe12774ff5ec4d3483c2ce564a5fa899": {
      "model_module": "jupyter-materialui",
      "model_module_version": "^0.1.1",
      "model_name": "MenuItemModel",
      "state": {
       "_events": [],
       "align_items": null,
       "children": [
        "IPY_MODEL_c012c993e6e7418c9e9b0565ccf87de5"
       ],
       "layout": "IPY_MODEL_f35f905ebba245e3bba6b1d8098f6f8c",
       "value": "ignore"
      }
     },
     "ff60ab1660ae4474b25d6b4def4c9ac7": {
      "buffers": [
       {
        "data": "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",
        "encoding": "base64",
        "path": [
         "x",
         "value"
        ]
       },
       {
        "data": "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",
        "encoding": "base64",
        "path": [
         "y",
         "value"
        ]
       }
      ],
      "model_module": "bqplot",
      "model_module_version": "^0.5.3",
      "model_name": "LinesModel",
      "state": {
       "fill_colors": [],
       "labels": [
        "C1"
       ],
       "scales": {
        "x": "IPY_MODEL_44b1d5084adc4d6490e286899b866996",
        "y": "IPY_MODEL_c8ee137001bf4305bf7553cba36a5e7b"
       },
       "x": {
        "dtype": "float64",
        "shape": [
         2000
        ],
        "type": null,
        "value": {}
       },
       "y": {
        "dtype": "int32",
        "shape": [
         2000
        ],
        "type": null,
        "value": {}
       }
      }
     }
    },
    "version_major": 2,
    "version_minor": 0
   }
  }
 },
 "nbformat": 4,
 "nbformat_minor": 4
}
